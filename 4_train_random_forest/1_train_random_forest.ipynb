{
 "cells": [
  {
   "cell_type": "markdown",
   "metadata": {},
   "source": [
    "### Test the usage of random forest\n",
    "Training a Random forest \\\n",
    "This is a new random forest trained from scratch \\\n",
    "Sep 4, 2020"
   ]
  },
  {
   "cell_type": "code",
   "execution_count": null,
   "metadata": {},
   "outputs": [],
   "source": [
    "import numpy as np\n",
    "import glob\n",
    "import os\n",
    "import pandas as pd\n",
    "import pickle\n",
    "import time"
   ]
  },
  {
   "cell_type": "code",
   "execution_count": 35,
   "metadata": {},
   "outputs": [],
   "source": [
    "import matplotlib.pyplot as plt"
   ]
  },
  {
   "cell_type": "code",
   "execution_count": 36,
   "metadata": {},
   "outputs": [],
   "source": [
    "%matplotlib widget"
   ]
  },
  {
   "cell_type": "code",
   "execution_count": 37,
   "metadata": {},
   "outputs": [],
   "source": [
    "from sklearn.model_selection import KFold, StratifiedKFold, train_test_split\n",
    "from sklearn.ensemble import RandomForestClassifier\n",
    "from sklearn.metrics import accuracy_score, roc_curve"
   ]
  },
  {
   "cell_type": "code",
   "execution_count": null,
   "metadata": {},
   "outputs": [],
   "source": [
    "## Old labels\n",
    "# fname='/global/cfs/cdirs/dasrepo/vpa/supernova_cnn/data/gathered_data/autoscan_features.3.csv'"
   ]
  },
  {
   "cell_type": "code",
   "execution_count": 40,
   "metadata": {},
   "outputs": [
    {
     "data": {
      "text/html": [
       "<div>\n",
       "<style scoped>\n",
       "    .dataframe tbody tr th:only-of-type {\n",
       "        vertical-align: middle;\n",
       "    }\n",
       "\n",
       "    .dataframe tbody tr th {\n",
       "        vertical-align: top;\n",
       "    }\n",
       "\n",
       "    .dataframe thead th {\n",
       "        text-align: right;\n",
       "    }\n",
       "</style>\n",
       "<table border=\"1\" class=\"dataframe\">\n",
       "  <thead>\n",
       "    <tr style=\"text-align: right;\">\n",
       "      <th></th>\n",
       "      <th>ID</th>\n",
       "      <th>OBJECT_TYPE</th>\n",
       "      <th>AMP</th>\n",
       "      <th>A_IMAGE</th>\n",
       "      <th>A_REF</th>\n",
       "      <th>BAND</th>\n",
       "      <th>B_IMAGE</th>\n",
       "      <th>B_REF</th>\n",
       "      <th>CCDID</th>\n",
       "      <th>COLMEDS</th>\n",
       "      <th>...</th>\n",
       "      <th>N3SIG5</th>\n",
       "      <th>N3SIG5SHIFT</th>\n",
       "      <th>NN_DIST_RENORM</th>\n",
       "      <th>NUMNEGRN</th>\n",
       "      <th>SCALE</th>\n",
       "      <th>SNR</th>\n",
       "      <th>SPREADERR_MODEL</th>\n",
       "      <th>SPREAD_MODEL</th>\n",
       "      <th>old_OBJECT_TYPE</th>\n",
       "      <th>check_relabel</th>\n",
       "    </tr>\n",
       "  </thead>\n",
       "  <tbody>\n",
       "    <tr>\n",
       "      <th>0</th>\n",
       "      <td>10742010</td>\n",
       "      <td>0</td>\n",
       "      <td>0.808323</td>\n",
       "      <td>1.508</td>\n",
       "      <td>2.650069</td>\n",
       "      <td>2</td>\n",
       "      <td>0.950</td>\n",
       "      <td>1.899501</td>\n",
       "      <td>10</td>\n",
       "      <td>0.112077</td>\n",
       "      <td>...</td>\n",
       "      <td>0</td>\n",
       "      <td>-9</td>\n",
       "      <td>0.674934</td>\n",
       "      <td>22</td>\n",
       "      <td>2.024122</td>\n",
       "      <td>7.722346</td>\n",
       "      <td>0.004629</td>\n",
       "      <td>-0.003718</td>\n",
       "      <td>0</td>\n",
       "      <td>False</td>\n",
       "    </tr>\n",
       "    <tr>\n",
       "      <th>1</th>\n",
       "      <td>8828139</td>\n",
       "      <td>0</td>\n",
       "      <td>0.975141</td>\n",
       "      <td>1.430</td>\n",
       "      <td>NaN</td>\n",
       "      <td>2</td>\n",
       "      <td>1.319</td>\n",
       "      <td>NaN</td>\n",
       "      <td>10</td>\n",
       "      <td>0.072256</td>\n",
       "      <td>...</td>\n",
       "      <td>0</td>\n",
       "      <td>5</td>\n",
       "      <td>NaN</td>\n",
       "      <td>21</td>\n",
       "      <td>1.379283</td>\n",
       "      <td>25.582918</td>\n",
       "      <td>0.002420</td>\n",
       "      <td>-0.000578</td>\n",
       "      <td>0</td>\n",
       "      <td>False</td>\n",
       "    </tr>\n",
       "    <tr>\n",
       "      <th>2</th>\n",
       "      <td>8229889</td>\n",
       "      <td>0</td>\n",
       "      <td>0.877440</td>\n",
       "      <td>0.505</td>\n",
       "      <td>NaN</td>\n",
       "      <td>3</td>\n",
       "      <td>0.494</td>\n",
       "      <td>NaN</td>\n",
       "      <td>57</td>\n",
       "      <td>0.106124</td>\n",
       "      <td>...</td>\n",
       "      <td>0</td>\n",
       "      <td>1</td>\n",
       "      <td>NaN</td>\n",
       "      <td>20</td>\n",
       "      <td>0.950069</td>\n",
       "      <td>3.914192</td>\n",
       "      <td>0.008863</td>\n",
       "      <td>-0.020044</td>\n",
       "      <td>0</td>\n",
       "      <td>False</td>\n",
       "    </tr>\n",
       "    <tr>\n",
       "      <th>3</th>\n",
       "      <td>11033218</td>\n",
       "      <td>0</td>\n",
       "      <td>0.681179</td>\n",
       "      <td>0.762</td>\n",
       "      <td>3.008957</td>\n",
       "      <td>2</td>\n",
       "      <td>0.449</td>\n",
       "      <td>2.855881</td>\n",
       "      <td>1</td>\n",
       "      <td>0.139071</td>\n",
       "      <td>...</td>\n",
       "      <td>2</td>\n",
       "      <td>-27</td>\n",
       "      <td>1.240574</td>\n",
       "      <td>18</td>\n",
       "      <td>1.749488</td>\n",
       "      <td>5.068382</td>\n",
       "      <td>0.008041</td>\n",
       "      <td>0.000246</td>\n",
       "      <td>0</td>\n",
       "      <td>False</td>\n",
       "    </tr>\n",
       "    <tr>\n",
       "      <th>4</th>\n",
       "      <td>8341858</td>\n",
       "      <td>0</td>\n",
       "      <td>0.645906</td>\n",
       "      <td>1.205</td>\n",
       "      <td>1.352224</td>\n",
       "      <td>2</td>\n",
       "      <td>0.982</td>\n",
       "      <td>1.063333</td>\n",
       "      <td>30</td>\n",
       "      <td>0.123302</td>\n",
       "      <td>...</td>\n",
       "      <td>0</td>\n",
       "      <td>4</td>\n",
       "      <td>2.970234</td>\n",
       "      <td>16</td>\n",
       "      <td>1.930613</td>\n",
       "      <td>7.372579</td>\n",
       "      <td>0.005606</td>\n",
       "      <td>0.001771</td>\n",
       "      <td>0</td>\n",
       "      <td>False</td>\n",
       "    </tr>\n",
       "  </tbody>\n",
       "</table>\n",
       "<p>5 rows × 42 columns</p>\n",
       "</div>"
      ],
      "text/plain": [
       "         ID  OBJECT_TYPE       AMP  A_IMAGE     A_REF  BAND  B_IMAGE  \\\n",
       "0  10742010            0  0.808323    1.508  2.650069     2    0.950   \n",
       "1   8828139            0  0.975141    1.430       NaN     2    1.319   \n",
       "2   8229889            0  0.877440    0.505       NaN     3    0.494   \n",
       "3  11033218            0  0.681179    0.762  3.008957     2    0.449   \n",
       "4   8341858            0  0.645906    1.205  1.352224     2    0.982   \n",
       "\n",
       "      B_REF  CCDID   COLMEDS  ...  N3SIG5  N3SIG5SHIFT  NN_DIST_RENORM  \\\n",
       "0  1.899501     10  0.112077  ...       0           -9        0.674934   \n",
       "1       NaN     10  0.072256  ...       0            5             NaN   \n",
       "2       NaN     57  0.106124  ...       0            1             NaN   \n",
       "3  2.855881      1  0.139071  ...       2          -27        1.240574   \n",
       "4  1.063333     30  0.123302  ...       0            4        2.970234   \n",
       "\n",
       "   NUMNEGRN     SCALE        SNR  SPREADERR_MODEL  SPREAD_MODEL  \\\n",
       "0        22  2.024122   7.722346         0.004629     -0.003718   \n",
       "1        21  1.379283  25.582918         0.002420     -0.000578   \n",
       "2        20  0.950069   3.914192         0.008863     -0.020044   \n",
       "3        18  1.749488   5.068382         0.008041      0.000246   \n",
       "4        16  1.930613   7.372579         0.005606      0.001771   \n",
       "\n",
       "   old_OBJECT_TYPE  check_relabel  \n",
       "0                0          False  \n",
       "1                0          False  \n",
       "2                0          False  \n",
       "3                0          False  \n",
       "4                0          False  \n",
       "\n",
       "[5 rows x 42 columns]"
      ]
     },
     "execution_count": 40,
     "metadata": {},
     "output_type": "execute_result"
    }
   ],
   "source": [
    "## New labels\n",
    "fname='/global/cfs/cdirs/dasrepo/vpa/supernova_cnn/data/gathered_data/relabeled_autoscan_features.csv'\n",
    "df_full=pd.read_csv(fname,sep=',',comment='#')\n",
    "\n",
    "### Convert BAND to integers\n",
    "bm = {'g':0, 'r':1, 'i':2, 'z':3}\n",
    "df_full['BAND']=np.array([bm[i] for i in df_full.BAND.values])\n",
    "df_full.head()"
   ]
  },
  {
   "cell_type": "code",
   "execution_count": 41,
   "metadata": {},
   "outputs": [],
   "source": [
    "df=df_full[:].dropna()\n",
    "df.shape\n",
    "\n",
    "y_cols=['OBJECT_TYPE']\n",
    "## Find columns with Nans\n",
    "# df.columns[df_full.isna().any().values]\n",
    "# reject_cols=['A_REF', 'B_REF', 'MAG_REF', 'MAG_REF_ERR', 'NN_DIST_RENORM']\n",
    "reject_cols=[]\n",
    "x_cols=[i for i in df.columns if i not in ['OBJECT_TYPE','ID','old_OBJECT_TYPE','check_relabel']+reject_cols]\n"
   ]
  },
  {
   "cell_type": "code",
   "execution_count": 42,
   "metadata": {},
   "outputs": [
    {
     "name": "stderr",
     "output_type": "stream",
     "text": [
      "<ipython-input-42-a3441038a021>:13: UserWarning: Boolean Series key will be reindexed to match DataFrame index.\n",
      "  df_temp=df[~df_full.ID.isin(test_ids)].dropna()\n"
     ]
    },
    {
     "name": "stdout",
     "output_type": "stream",
     "text": [
      "(674512, 38) (168637, 38)\n"
     ]
    }
   ],
   "source": [
    "### Get IDs for test data\n",
    "results_dir='/global/project/projectdirs/dasrepo/vpa/supernova_cnn/data/results_data/results/'\n",
    "# fname='/global/u1/v/vpa/project/jpt_notebooks/Cosmology/Supernova-cnn/cnn_supernova/4_train_random_forest/train_ids.train'\n",
    "fname=results_dir+'id_train_4.train'\n",
    "train_ids=np.loadtxt(fname,dtype=np.int32)[:]\n",
    "fname=results_dir+'id_test_4.test'\n",
    "test_ids=np.loadtxt(fname,dtype=np.int32)[:]\n",
    "\n",
    "\n",
    "# Get train data\n",
    "# train_size=801000\n",
    "## IDs not in test ids\n",
    "df_temp=df[~df_full.ID.isin(test_ids)].dropna()\n",
    "# df_temp=df[df.ID.isin(train_ids)].dropna()\n",
    "X_train,y_train=df_temp[x_cols],df_temp[y_cols]\n",
    "\n",
    "# Get test data . This should be the same set used for testing the CNNs\n",
    "df_temp=df_full[df_full.ID.isin(test_ids)].dropna()\n",
    "X_test,y_test=df_temp[x_cols],df_temp[y_cols]\n",
    "print(X_train.shape,X_test.shape)"
   ]
  },
  {
   "cell_type": "code",
   "execution_count": 43,
   "metadata": {},
   "outputs": [
    {
     "data": {
      "text/plain": [
       "((674512, 38), (168637, 38))"
      ]
     },
     "execution_count": 43,
     "metadata": {},
     "output_type": "execute_result"
    }
   ],
   "source": [
    "X_train.shape,X_test.shape"
   ]
  },
  {
   "cell_type": "code",
   "execution_count": 23,
   "metadata": {},
   "outputs": [],
   "source": [
    "# df=df.dropna()\n",
    "\n",
    "# X=df[x_cols]\n",
    "# y=df[y_cols]\n",
    "\n",
    "# X_train, X_test, y_train, y_test = train_test_split(X, y, test_size=0.1, random_state=42)\n",
    "# print(X_train.shape,X_test.shape)"
   ]
  },
  {
   "cell_type": "markdown",
   "metadata": {},
   "source": [
    "### Test with Kfold CV"
   ]
  },
  {
   "cell_type": "code",
   "execution_count": 24,
   "metadata": {},
   "outputs": [],
   "source": [
    "# X_train.reset_index(),y_train.reset_index();\n",
    "\n",
    "# kf=StratifiedKFold(n_splits=4,shuffle=True)\n",
    "# model=RandomForestClassifier(n_estimators=100, criterion='entropy', n_jobs=-1, max_features=6,\n",
    "#                              max_depth=None, min_samples_split=3, verbose=1)\n",
    "\n",
    "\n",
    "# fprs,tprs,scores=[],[],[]\n",
    "# for train_idx,test_idx in kf.split(X_train,y_train):\n",
    "#     print(train_idx.shape,test_idx.shape)\n",
    "#     print(np.mean(train_idx),np.mean(test_idx))\n",
    "#     model.fit(X_train.iloc[train_idx],y_train.iloc[train_idx].OBJECT_TYPE.values)\n",
    "    \n",
    "#     y_predict=model.predict_proba(X_train.iloc[test_idx])\n",
    "#     fpr,tpr,thrs=roc_curve(y_train.iloc[test_idx],y_predict[:,1])\n",
    "#     fprs.append(fpr)\n",
    "#     tprs.append(tpr)\n",
    "    \n",
    "    "
   ]
  },
  {
   "cell_type": "code",
   "execution_count": 17,
   "metadata": {},
   "outputs": [],
   "source": [
    "# plt.figure()\n",
    "# for i in range(len(fprs)):\n",
    "#     fpr,tpr=fprs[i],tprs[i]\n",
    "#     x,y=fpr,(1-tpr)\n",
    "#     plt.plot(x, y,linestyle='',markersize=2,marker='*')\n",
    "#     # ### Reference points in mdr plot in paper\n",
    "    \n",
    "# plt.plot(0.03,0.038,marker='s',markersize=8,color='k')\n",
    "# plt.plot(0.04,0.024,marker='s',markersize=8,color='k')\n",
    "# plt.plot(0.05,0.016,marker='s',markersize=8,color='k')\n",
    "\n",
    "# plt.xlabel('MDR')\n",
    "# plt.ylabel('FPR')\n",
    "# plt.xlim(0,0.1)\n",
    "# plt.ylim(0,0.05)"
   ]
  },
  {
   "cell_type": "markdown",
   "metadata": {},
   "source": [
    "### Reading feature weights in paper"
   ]
  },
  {
   "cell_type": "code",
   "execution_count": null,
   "metadata": {},
   "outputs": [],
   "source": [
    "# ### Load importance of features \n",
    "\n",
    "# fle='features.txt'\n",
    "# a1=np.loadtxt(fle,delimiter=',',dtype=str)\n",
    "\n",
    "# weight_dict1={}\n",
    "# for i in range(a1.shape[0]):\n",
    "#     key,val=a1[i][0],a1[i][1]\n",
    "#     weight_dict1[key.upper()]=val\n",
    "\n",
    "# # [i for i in df_full.columns if i not in weight_dict.keys()],[i for i in weight_dict.keys() if i not in df.columns]\n",
    "    \n",
    "# key_maps={'R_APER_PSF':'GFLUX','DIFFSUM':'DIFFSUMRN','MIN_DIST_TO_EDGE':'MIN_DISTANCE_TO_EDGE_IN_NEW','NUMNEG':'NUMNEGRN','BANDNUM':'BAND'}\n",
    "# # Renaming keys to match those in DataFrame\n",
    "# weight_dict={}\n",
    "# for key in weight_dict1.keys():\n",
    "#     if key not in key_maps:\n",
    "#         weight_dict[key]=float(weight_dict1[key])\n",
    "#     else : \n",
    "#         weight_dict[key_maps[key]]=float(weight_dict1[key])\n",
    "\n",
    "# # weight_dict"
   ]
  },
  {
   "cell_type": "markdown",
   "metadata": {},
   "source": [
    "### Run model"
   ]
  },
  {
   "cell_type": "code",
   "execution_count": 44,
   "metadata": {},
   "outputs": [
    {
     "name": "stderr",
     "output_type": "stream",
     "text": [
      "[Parallel(n_jobs=10)]: Using backend ThreadingBackend with 10 concurrent workers.\n",
      "[Parallel(n_jobs=10)]: Done  30 tasks      | elapsed:   23.3s\n"
     ]
    },
    {
     "name": "stdout",
     "output_type": "stream",
     "text": [
      "Training time 75.64207053184509\n"
     ]
    },
    {
     "name": "stderr",
     "output_type": "stream",
     "text": [
      "[Parallel(n_jobs=10)]: Done 100 out of 100 | elapsed:  1.3min finished\n"
     ]
    }
   ],
   "source": [
    "### Train model\n",
    "t1=time.time()\n",
    "model=RandomForestClassifier(n_estimators=100, criterion='entropy', n_jobs=10, max_features=6,\n",
    "                             max_depth=None, min_samples_split=3, verbose=1)\n",
    "model.fit(X_train,y_train.OBJECT_TYPE.values)\n",
    "t2=time.time()\n",
    "print(\"Training time\",t2-t1)\n",
    "\n"
   ]
  },
  {
   "cell_type": "code",
   "execution_count": 45,
   "metadata": {},
   "outputs": [
    {
     "name": "stderr",
     "output_type": "stream",
     "text": [
      "[Parallel(n_jobs=10)]: Using backend ThreadingBackend with 10 concurrent workers.\n",
      "[Parallel(n_jobs=10)]: Done  30 tasks      | elapsed:    0.1s\n"
     ]
    },
    {
     "name": "stdout",
     "output_type": "stream",
     "text": [
      "Time of testing model 0.5207455158233643\n"
     ]
    },
    {
     "name": "stderr",
     "output_type": "stream",
     "text": [
      "[Parallel(n_jobs=10)]: Done 100 out of 100 | elapsed:    0.4s finished\n"
     ]
    }
   ],
   "source": [
    "### Test model\n",
    "t1=time.time()\n",
    "y_predict=model.predict_proba(X_test)\n",
    "t2=time.time()\n",
    "print(\"Time of testing model\",t2-t1)\n",
    "fpr,tpr,thrs=roc_curve(y_test,y_predict[:,1])"
   ]
  },
  {
   "cell_type": "code",
   "execution_count": 46,
   "metadata": {},
   "outputs": [
    {
     "name": "stderr",
     "output_type": "stream",
     "text": [
      "[Parallel(n_jobs=10)]: Using backend ThreadingBackend with 10 concurrent workers.\n",
      "[Parallel(n_jobs=10)]: Done  30 tasks      | elapsed:    0.1s\n",
      "[Parallel(n_jobs=10)]: Done 100 out of 100 | elapsed:    0.4s finished\n"
     ]
    },
    {
     "data": {
      "text/plain": [
       "0.972639456347065"
      ]
     },
     "execution_count": 46,
     "metadata": {},
     "output_type": "execute_result"
    }
   ],
   "source": [
    "model.score(X_test,y_test.values)"
   ]
  },
  {
   "cell_type": "code",
   "execution_count": 47,
   "metadata": {},
   "outputs": [],
   "source": [
    "# fpr2,tpr2=fpr,tpr"
   ]
  },
  {
   "cell_type": "markdown",
   "metadata": {},
   "source": [
    "### Plot roc curve"
   ]
  },
  {
   "cell_type": "code",
   "execution_count": 48,
   "metadata": {},
   "outputs": [],
   "source": [
    "def f_roc(fpr,tpr,label):\n",
    "    x,y=fpr,(1-tpr)\n",
    "#     plt.figure()\n",
    "    plt.plot(x, y,label=label,linestyle='',markersize=2,marker='*')\n",
    "    # ### Reference points in mdr plot in paper\n",
    "    plt.plot(0.03,0.038,marker='s',markersize=8,color='k')\n",
    "    plt.plot(0.04,0.024,marker='s',markersize=8,color='k')\n",
    "    plt.plot(0.05,0.016,marker='s',markersize=8,color='k')\n",
    "\n",
    "    plt.xlabel('MDR')\n",
    "    plt.ylabel('FPR')\n",
    "    plt.xlim(0,0.1)\n",
    "    plt.ylim(0,0.05)\n"
   ]
  },
  {
   "cell_type": "code",
   "execution_count": 49,
   "metadata": {},
   "outputs": [
    {
     "data": {
      "application/vnd.jupyter.widget-view+json": {
       "model_id": "170cb5640945497fa81b5769837461fb",
       "version_major": 2,
       "version_minor": 0
      },
      "text/plain": [
       "Canvas(toolbar=Toolbar(toolitems=[('Home', 'Reset original view', 'home', 'home'), ('Back', 'Back to previous …"
      ]
     },
     "metadata": {},
     "output_type": "display_data"
    },
    {
     "data": {
      "text/plain": [
       "<matplotlib.legend.Legend at 0x2aaada2717f0>"
      ]
     },
     "execution_count": 49,
     "metadata": {},
     "output_type": "execute_result"
    }
   ],
   "source": [
    "plt.figure()\n",
    "f_roc(fpr,tpr,'rf_final')\n",
    "# f_roc(fpr2,tpr2,'train_800k')\n",
    "plt.legend()"
   ]
  },
  {
   "cell_type": "code",
   "execution_count": 50,
   "metadata": {},
   "outputs": [
    {
     "data": {
      "text/plain": [
       "True"
      ]
     },
     "execution_count": 50,
     "metadata": {},
     "output_type": "execute_result"
    }
   ],
   "source": [
    "np.array_equal(X_test.AMP.values,df[df.ID.isin(test_ids)].AMP.values)"
   ]
  },
  {
   "cell_type": "code",
   "execution_count": 51,
   "metadata": {},
   "outputs": [],
   "source": [
    "df_save=pd.DataFrame([])\n",
    "df_save['ID']=df[df.ID.isin(test_ids)].ID.values\n",
    "df_save['m_rf']=y_predict[:,1]"
   ]
  },
  {
   "cell_type": "code",
   "execution_count": 52,
   "metadata": {},
   "outputs": [
    {
     "data": {
      "text/html": [
       "<div>\n",
       "<style scoped>\n",
       "    .dataframe tbody tr th:only-of-type {\n",
       "        vertical-align: middle;\n",
       "    }\n",
       "\n",
       "    .dataframe tbody tr th {\n",
       "        vertical-align: top;\n",
       "    }\n",
       "\n",
       "    .dataframe thead th {\n",
       "        text-align: right;\n",
       "    }\n",
       "</style>\n",
       "<table border=\"1\" class=\"dataframe\">\n",
       "  <thead>\n",
       "    <tr style=\"text-align: right;\">\n",
       "      <th></th>\n",
       "      <th>ID</th>\n",
       "      <th>m_rf</th>\n",
       "    </tr>\n",
       "  </thead>\n",
       "  <tbody>\n",
       "    <tr>\n",
       "      <th>0</th>\n",
       "      <td>11390373</td>\n",
       "      <td>0.00</td>\n",
       "    </tr>\n",
       "    <tr>\n",
       "      <th>1</th>\n",
       "      <td>7895795</td>\n",
       "      <td>0.00</td>\n",
       "    </tr>\n",
       "    <tr>\n",
       "      <th>2</th>\n",
       "      <td>9346337</td>\n",
       "      <td>0.00</td>\n",
       "    </tr>\n",
       "    <tr>\n",
       "      <th>3</th>\n",
       "      <td>11781734</td>\n",
       "      <td>0.06</td>\n",
       "    </tr>\n",
       "    <tr>\n",
       "      <th>4</th>\n",
       "      <td>11525250</td>\n",
       "      <td>0.02</td>\n",
       "    </tr>\n",
       "  </tbody>\n",
       "</table>\n",
       "</div>"
      ],
      "text/plain": [
       "         ID  m_rf\n",
       "0  11390373  0.00\n",
       "1   7895795  0.00\n",
       "2   9346337  0.00\n",
       "3  11781734  0.06\n",
       "4  11525250  0.02"
      ]
     },
     "execution_count": 52,
     "metadata": {},
     "output_type": "execute_result"
    }
   ],
   "source": [
    "df_save.head()"
   ]
  },
  {
   "cell_type": "code",
   "execution_count": 53,
   "metadata": {},
   "outputs": [],
   "source": [
    "# df_save.to_csv('rf_preds_old.csv',index=False)\n",
    "df_save.to_csv('rf_preds_relabeled.csv',index=False)"
   ]
  },
  {
   "cell_type": "code",
   "execution_count": null,
   "metadata": {},
   "outputs": [],
   "source": []
  }
 ],
 "metadata": {
  "kernelspec": {
   "display_name": "v3",
   "language": "python",
   "name": "v-jpt-3"
  },
  "language_info": {
   "codemirror_mode": {
    "name": "ipython",
    "version": 3
   },
   "file_extension": ".py",
   "mimetype": "text/x-python",
   "name": "python",
   "nbconvert_exporter": "python",
   "pygments_lexer": "ipython3",
   "version": "3.8.6"
  }
 },
 "nbformat": 4,
 "nbformat_minor": 4
}
