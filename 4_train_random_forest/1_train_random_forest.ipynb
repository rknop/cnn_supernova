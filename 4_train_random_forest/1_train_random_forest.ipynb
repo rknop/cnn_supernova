{
 "cells": [
  {
   "cell_type": "markdown",
   "metadata": {},
   "source": [
    "### Test the usage of random forest\n",
    "Training a Random forest \n",
    "Sep 4, 2020"
   ]
  },
  {
   "cell_type": "code",
   "execution_count": null,
   "metadata": {},
   "outputs": [],
   "source": [
    "import numpy as np\n",
    "import glob\n",
    "import os\n",
    "import pandas as pd\n",
    "import pickle\n",
    "import time"
   ]
  },
  {
   "cell_type": "code",
   "execution_count": null,
   "metadata": {},
   "outputs": [],
   "source": [
    "import matplotlib.pyplot as plt"
   ]
  },
  {
   "cell_type": "code",
   "execution_count": null,
   "metadata": {},
   "outputs": [],
   "source": [
    "%matplotlib widget"
   ]
  },
  {
   "cell_type": "code",
   "execution_count": null,
   "metadata": {},
   "outputs": [],
   "source": [
    "from sklearn.model_selection import KFold, StratifiedKFold, train_test_split\n",
    "from sklearn.ensemble import RandomForestClassifier\n",
    "from sklearn.metrics import accuracy_score, roc_curve"
   ]
  },
  {
   "cell_type": "code",
   "execution_count": null,
   "metadata": {},
   "outputs": [],
   "source": [
    "# from sklearn.metrics import plot_roc_curve"
   ]
  },
  {
   "cell_type": "code",
   "execution_count": null,
   "metadata": {},
   "outputs": [],
   "source": [
    "# data_dir='/global/cfs/cdirs/dasrepo/vpa/supernova_cnn/data/autoscan_data/data/'"
   ]
  },
  {
   "cell_type": "code",
   "execution_count": null,
   "metadata": {},
   "outputs": [],
   "source": [
    "fname='/global/cfs/cdirs/dasrepo/vpa/supernova_cnn/data/gathered_data/autoscan_features.3.csv'\n",
    "df_full=pd.read_csv(fname,sep=',',comment='#')\n",
    "\n",
    "### Convert BAND to integers\n",
    "bm = {'g':0, 'r':1, 'i':2, 'z':3}\n",
    "df_full['BAND']=np.array([bm[i] for i in df_full.BAND.values])\n",
    "df_full.head()"
   ]
  },
  {
   "cell_type": "code",
   "execution_count": null,
   "metadata": {},
   "outputs": [],
   "source": [
    "df=df_full[:].dropna()\n",
    "df.shape\n",
    "\n",
    "y_cols=['OBJECT_TYPE']\n",
    "## Find columns with Nans\n",
    "# df.columns[df_full.isna().any().values]\n",
    "# reject_cols=['A_REF', 'B_REF', 'MAG_REF', 'MAG_REF_ERR', 'NN_DIST_RENORM']\n",
    "reject_cols=[]\n",
    "x_cols=[i for i in df.columns if i not in ['OBJECT_TYPE','ID']+reject_cols]\n"
   ]
  },
  {
   "cell_type": "code",
   "execution_count": 66,
   "metadata": {},
   "outputs": [
    {
     "name": "stderr",
     "output_type": "stream",
     "text": [
      "/global/homes/v/vpa/.conda/envs/v_py3/lib/python3.6/site-packages/ipykernel_launcher.py:13: UserWarning: Boolean Series key will be reindexed to match DataFrame index.\n",
      "  del sys.path[0]\n"
     ]
    },
    {
     "name": "stdout",
     "output_type": "stream",
     "text": [
      "(801005, 38) (42144, 38)\n"
     ]
    }
   ],
   "source": [
    "### Get IDs for test data\n",
    "results_dir='/global/project/projectdirs/dasrepo/vpa/supernova_cnn/data/results_data/results/'\n",
    "# fname='/global/u1/v/vpa/project/jpt_notebooks/Cosmology/Supernova-cnn/cnn_supernova/4_train_random_forest/train_ids.train'\n",
    "fname=results_dir+'id_train_3.train'\n",
    "train_ids=np.loadtxt(fname,dtype=np.int32)[:]\n",
    "fname=results_dir+'id_test_3.test'\n",
    "test_ids=np.loadtxt(fname,dtype=np.int32)[:]\n",
    "\n",
    "\n",
    "# Get train data\n",
    "# train_size=801000\n",
    "## IDs not in test ids\n",
    "df_temp=df[~df_full.ID.isin(test_ids)].dropna()\n",
    "# df_temp=df[df.ID.isin(train_ids)].dropna()\n",
    "X_train,y_train=df_temp[x_cols],df_temp[y_cols]\n",
    "\n",
    "# Get test data . This should be the same set used for testing the CNNs\n",
    "df_temp=df_full[df_full.ID.isin(test_ids)].dropna()\n",
    "X_test,y_test=df_temp[x_cols],df_temp[y_cols]\n",
    "print(X_train.shape,X_test.shape)"
   ]
  },
  {
   "cell_type": "code",
   "execution_count": 62,
   "metadata": {},
   "outputs": [
    {
     "data": {
      "text/plain": [
       "0.06238319836255228"
      ]
     },
     "execution_count": 62,
     "metadata": {},
     "output_type": "execute_result"
    }
   ],
   "source": [
    "# (df_full.shape[0]-df_full.dropna().shape[0])/df_full.shape[0]\n",
    "(df_temp.shape[0]-df_temp.dropna().shape[0])/df_temp.shape[0]"
   ]
  },
  {
   "cell_type": "code",
   "execution_count": 76,
   "metadata": {},
   "outputs": [
    {
     "data": {
      "text/plain": [
       "((801005, 38), (42144, 38))"
      ]
     },
     "execution_count": 76,
     "metadata": {},
     "output_type": "execute_result"
    }
   ],
   "source": [
    "X_train.shape,X_test.shape"
   ]
  },
  {
   "cell_type": "code",
   "execution_count": null,
   "metadata": {},
   "outputs": [],
   "source": [
    "# df=df.dropna()\n",
    "\n",
    "# X=df[x_cols]\n",
    "# y=df[y_cols]\n",
    "\n",
    "# X_train, X_test, y_train, y_test = train_test_split(X, y, test_size=0.1, random_state=42)\n",
    "# print(X_train.shape,X_test.shape)"
   ]
  },
  {
   "cell_type": "markdown",
   "metadata": {},
   "source": [
    "### Test with Kfold CV"
   ]
  },
  {
   "cell_type": "code",
   "execution_count": 16,
   "metadata": {},
   "outputs": [],
   "source": [
    "# X_train.reset_index(),y_train.reset_index();\n",
    "\n",
    "# kf=StratifiedKFold(n_splits=4,shuffle=True)\n",
    "# model=RandomForestClassifier(n_estimators=100, criterion='entropy', n_jobs=-1, max_features=6,\n",
    "#                              max_depth=None, min_samples_split=3, verbose=1)\n",
    "\n",
    "\n",
    "# fprs,tprs,scores=[],[],[]\n",
    "# for train_idx,test_idx in kf.split(X_train,y_train):\n",
    "#     print(train_idx.shape,test_idx.shape)\n",
    "#     print(np.mean(train_idx),np.mean(test_idx))\n",
    "#     model.fit(X_train.iloc[train_idx],y_train.iloc[train_idx].OBJECT_TYPE.values)\n",
    "    \n",
    "#     y_predict=model.predict_proba(X_train.iloc[test_idx])\n",
    "#     fpr,tpr,thrs=roc_curve(y_train.iloc[test_idx],y_predict[:,1])\n",
    "#     fprs.append(fpr)\n",
    "#     tprs.append(tpr)\n",
    "    \n",
    "    "
   ]
  },
  {
   "cell_type": "code",
   "execution_count": 17,
   "metadata": {},
   "outputs": [],
   "source": [
    "# plt.figure()\n",
    "# for i in range(len(fprs)):\n",
    "#     fpr,tpr=fprs[i],tprs[i]\n",
    "#     x,y=fpr,(1-tpr)\n",
    "#     plt.plot(x, y,linestyle='',markersize=2,marker='*')\n",
    "#     # ### Reference points in mdr plot in paper\n",
    "    \n",
    "# plt.plot(0.03,0.038,marker='s',markersize=8,color='k')\n",
    "# plt.plot(0.04,0.024,marker='s',markersize=8,color='k')\n",
    "# plt.plot(0.05,0.016,marker='s',markersize=8,color='k')\n",
    "\n",
    "# plt.xlabel('MDR')\n",
    "# plt.ylabel('FPR')\n",
    "# plt.xlim(0,0.1)\n",
    "# plt.ylim(0,0.05)"
   ]
  },
  {
   "cell_type": "markdown",
   "metadata": {},
   "source": [
    "### Reading feature weights in paper"
   ]
  },
  {
   "cell_type": "code",
   "execution_count": null,
   "metadata": {},
   "outputs": [],
   "source": [
    "# ### Load importance of features \n",
    "\n",
    "# fle='features.txt'\n",
    "# a1=np.loadtxt(fle,delimiter=',',dtype=str)\n",
    "\n",
    "# weight_dict1={}\n",
    "# for i in range(a1.shape[0]):\n",
    "#     key,val=a1[i][0],a1[i][1]\n",
    "#     weight_dict1[key.upper()]=val\n",
    "\n",
    "# # [i for i in df_full.columns if i not in weight_dict.keys()],[i for i in weight_dict.keys() if i not in df.columns]\n",
    "    \n",
    "# key_maps={'R_APER_PSF':'GFLUX','DIFFSUM':'DIFFSUMRN','MIN_DIST_TO_EDGE':'MIN_DISTANCE_TO_EDGE_IN_NEW','NUMNEG':'NUMNEGRN','BANDNUM':'BAND'}\n",
    "# # Renaming keys to match those in DataFrame\n",
    "# weight_dict={}\n",
    "# for key in weight_dict1.keys():\n",
    "#     if key not in key_maps:\n",
    "#         weight_dict[key]=float(weight_dict1[key])\n",
    "#     else : \n",
    "#         weight_dict[key_maps[key]]=float(weight_dict1[key])\n",
    "\n",
    "# # weight_dict"
   ]
  },
  {
   "cell_type": "markdown",
   "metadata": {},
   "source": [
    "### Run model"
   ]
  },
  {
   "cell_type": "code",
   "execution_count": 64,
   "metadata": {},
   "outputs": [
    {
     "name": "stderr",
     "output_type": "stream",
     "text": [
      "[Parallel(n_jobs=32)]: Using backend ThreadingBackend with 32 concurrent workers.\n"
     ]
    },
    {
     "name": "stdout",
     "output_type": "stream",
     "text": [
      "Training time 101.44010734558105\n"
     ]
    },
    {
     "name": "stderr",
     "output_type": "stream",
     "text": [
      "[Parallel(n_jobs=32)]: Done 100 out of 100 | elapsed:  1.7min finished\n"
     ]
    }
   ],
   "source": [
    "### Train model\n",
    "t1=time.time()\n",
    "model=RandomForestClassifier(n_estimators=100, criterion='entropy', n_jobs=32, max_features=6,\n",
    "                             max_depth=None, min_samples_split=3, verbose=1)\n",
    "model.fit(X_train,y_train.OBJECT_TYPE.values)\n",
    "t2=time.time()\n",
    "print(\"Training time\",t2-t1)\n",
    "\n"
   ]
  },
  {
   "cell_type": "code",
   "execution_count": 67,
   "metadata": {},
   "outputs": [
    {
     "name": "stderr",
     "output_type": "stream",
     "text": [
      "[Parallel(n_jobs=32)]: Using backend ThreadingBackend with 32 concurrent workers.\n",
      "[Parallel(n_jobs=32)]: Done 100 out of 100 | elapsed:    0.1s finished\n"
     ]
    },
    {
     "name": "stdout",
     "output_type": "stream",
     "text": [
      "Time of testing model 0.21615886688232422\n"
     ]
    }
   ],
   "source": [
    "### Test model\n",
    "t1=time.time()\n",
    "y_predict=model.predict_proba(X_test)\n",
    "t2=time.time()\n",
    "print(\"Time of testing model\",t2-t1)\n",
    "fpr,tpr,thrs=roc_curve(y_test,y_predict[:,1])"
   ]
  },
  {
   "cell_type": "code",
   "execution_count": 68,
   "metadata": {},
   "outputs": [
    {
     "name": "stderr",
     "output_type": "stream",
     "text": [
      "[Parallel(n_jobs=32)]: Using backend ThreadingBackend with 32 concurrent workers.\n",
      "[Parallel(n_jobs=32)]: Done 100 out of 100 | elapsed:    0.1s finished\n"
     ]
    },
    {
     "data": {
      "text/plain": [
       "0.9685839028094153"
      ]
     },
     "execution_count": 68,
     "metadata": {},
     "output_type": "execute_result"
    }
   ],
   "source": [
    "model.score(X_test,y_test.values)"
   ]
  },
  {
   "cell_type": "code",
   "execution_count": 31,
   "metadata": {},
   "outputs": [],
   "source": [
    "fpr2,tpr2=fpr,tpr"
   ]
  },
  {
   "cell_type": "markdown",
   "metadata": {},
   "source": [
    "### Plot roc curve"
   ]
  },
  {
   "cell_type": "code",
   "execution_count": 69,
   "metadata": {},
   "outputs": [],
   "source": [
    "def f_roc(fpr,tpr,label):\n",
    "    x,y=fpr,(1-tpr)\n",
    "#     plt.figure()\n",
    "    plt.plot(x, y,label=label,linestyle='',markersize=2,marker='*')\n",
    "    # ### Reference points in mdr plot in paper\n",
    "    plt.plot(0.03,0.038,marker='s',markersize=8,color='k')\n",
    "    plt.plot(0.04,0.024,marker='s',markersize=8,color='k')\n",
    "    plt.plot(0.05,0.016,marker='s',markersize=8,color='k')\n",
    "\n",
    "    plt.xlabel('MDR')\n",
    "    plt.ylabel('FPR')\n",
    "    plt.xlim(0,0.1)\n",
    "    plt.ylim(0,0.05)\n"
   ]
  },
  {
   "cell_type": "code",
   "execution_count": 70,
   "metadata": {},
   "outputs": [
    {
     "data": {
      "application/vnd.jupyter.widget-view+json": {
       "model_id": "24bdb251ca0f44cbbbbe40b8ba576a91",
       "version_major": 2,
       "version_minor": 0
      },
      "text/plain": [
       "Canvas(toolbar=Toolbar(toolitems=[('Home', 'Reset original view', 'home', 'home'), ('Back', 'Back to previous …"
      ]
     },
     "metadata": {},
     "output_type": "display_data"
    },
    {
     "data": {
      "text/plain": [
       "<matplotlib.legend.Legend at 0x2aaae48dada0>"
      ]
     },
     "execution_count": 70,
     "metadata": {},
     "output_type": "execute_result"
    }
   ],
   "source": [
    "plt.figure()\n",
    "f_roc(fpr,tpr,'train_400k')\n",
    "# f_roc(fpr2,tpr2,'train_800k')\n",
    "plt.legend()"
   ]
  },
  {
   "cell_type": "code",
   "execution_count": null,
   "metadata": {},
   "outputs": [],
   "source": [
    "# for i in range(100,110):\n",
    "#     print(y_test.values[i,0],y_predict[i,0],y_predict[i,1])\n"
   ]
  },
  {
   "cell_type": "code",
   "execution_count": 47,
   "metadata": {},
   "outputs": [
    {
     "data": {
      "text/plain": [
       "True"
      ]
     },
     "execution_count": 47,
     "metadata": {},
     "output_type": "execute_result"
    }
   ],
   "source": [
    "np.array_equal(X_test.AMP.values,df[df.ID.isin(test_ids)].AMP.values)"
   ]
  },
  {
   "cell_type": "code",
   "execution_count": 71,
   "metadata": {},
   "outputs": [],
   "source": [
    "df_save=pd.DataFrame([])\n",
    "df_save['ID']=df[df.ID.isin(test_ids)].ID.values\n",
    "df_save['m_rf']=y_predict[:,1]"
   ]
  },
  {
   "cell_type": "code",
   "execution_count": 72,
   "metadata": {},
   "outputs": [
    {
     "data": {
      "text/html": [
       "<div>\n",
       "<style scoped>\n",
       "    .dataframe tbody tr th:only-of-type {\n",
       "        vertical-align: middle;\n",
       "    }\n",
       "\n",
       "    .dataframe tbody tr th {\n",
       "        vertical-align: top;\n",
       "    }\n",
       "\n",
       "    .dataframe thead th {\n",
       "        text-align: right;\n",
       "    }\n",
       "</style>\n",
       "<table border=\"1\" class=\"dataframe\">\n",
       "  <thead>\n",
       "    <tr style=\"text-align: right;\">\n",
       "      <th></th>\n",
       "      <th>ID</th>\n",
       "      <th>m_rf</th>\n",
       "    </tr>\n",
       "  </thead>\n",
       "  <tbody>\n",
       "    <tr>\n",
       "      <th>0</th>\n",
       "      <td>11262110</td>\n",
       "      <td>0.0</td>\n",
       "    </tr>\n",
       "    <tr>\n",
       "      <th>1</th>\n",
       "      <td>11741241</td>\n",
       "      <td>0.0</td>\n",
       "    </tr>\n",
       "    <tr>\n",
       "      <th>2</th>\n",
       "      <td>11826120</td>\n",
       "      <td>0.0</td>\n",
       "    </tr>\n",
       "    <tr>\n",
       "      <th>3</th>\n",
       "      <td>10093117</td>\n",
       "      <td>0.0</td>\n",
       "    </tr>\n",
       "    <tr>\n",
       "      <th>4</th>\n",
       "      <td>9741882</td>\n",
       "      <td>0.0</td>\n",
       "    </tr>\n",
       "  </tbody>\n",
       "</table>\n",
       "</div>"
      ],
      "text/plain": [
       "         ID  m_rf\n",
       "0  11262110   0.0\n",
       "1  11741241   0.0\n",
       "2  11826120   0.0\n",
       "3  10093117   0.0\n",
       "4   9741882   0.0"
      ]
     },
     "execution_count": 72,
     "metadata": {},
     "output_type": "execute_result"
    }
   ],
   "source": [
    "df_save.head()"
   ]
  },
  {
   "cell_type": "code",
   "execution_count": 74,
   "metadata": {},
   "outputs": [],
   "source": [
    "df_save.to_csv('rf_preds.csv',index=False)"
   ]
  },
  {
   "cell_type": "code",
   "execution_count": null,
   "metadata": {},
   "outputs": [],
   "source": []
  }
 ],
 "metadata": {
  "kernelspec": {
   "display_name": "v_py3",
   "language": "python",
   "name": "v_jpt_py3"
  },
  "language_info": {
   "codemirror_mode": {
    "name": "ipython",
    "version": 3
   },
   "file_extension": ".py",
   "mimetype": "text/x-python",
   "name": "python",
   "nbconvert_exporter": "python",
   "pygments_lexer": "ipython3",
   "version": "3.6.8"
  }
 },
 "nbformat": 4,
 "nbformat_minor": 4
}
