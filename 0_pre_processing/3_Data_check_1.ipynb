{
 "cells": [
  {
   "cell_type": "markdown",
   "metadata": {},
   "source": [
    "# Code to verify the data extraction process\n",
    "Feb 11, 2020\n",
    "\n"
   ]
  },
  {
   "cell_type": "code",
   "execution_count": 7,
   "metadata": {},
   "outputs": [],
   "source": [
    "import numpy as np\n",
    "import pandas as pd\n",
    "import subprocess as sp\n",
    "import glob\n",
    "from pathlib import Path\n",
    "import time\n",
    "import os"
   ]
  },
  {
   "cell_type": "code",
   "execution_count": 8,
   "metadata": {},
   "outputs": [],
   "source": [
    "data_dir='/global/project/projectdirs/dasrepo/vpa/supernova_cnn/data/raw_data/'"
   ]
  },
  {
   "cell_type": "markdown",
   "metadata": {},
   "source": [
    "### Check if all the files exist at the location"
   ]
  },
  {
   "cell_type": "code",
   "execution_count": 19,
   "metadata": {},
   "outputs": [],
   "source": [
    "f2='/global/project/projectdirs/dasrepo/vpa/supernova_cnn/data/gathered_data/summary_label_files_fits.csv'\n",
    "df2=pd.read_csv(f2,sep=',',comment='#')"
   ]
  },
  {
   "cell_type": "code",
   "execution_count": 20,
   "metadata": {},
   "outputs": [],
   "source": [
    "df7=df2.head(5)"
   ]
  },
  {
   "cell_type": "code",
   "execution_count": 21,
   "metadata": {},
   "outputs": [
    {
     "data": {
      "text/html": [
       "<div>\n",
       "<style scoped>\n",
       "    .dataframe tbody tr th:only-of-type {\n",
       "        vertical-align: middle;\n",
       "    }\n",
       "\n",
       "    .dataframe tbody tr th {\n",
       "        vertical-align: top;\n",
       "    }\n",
       "\n",
       "    .dataframe thead th {\n",
       "        text-align: right;\n",
       "    }\n",
       "</style>\n",
       "<table border=\"1\" class=\"dataframe\">\n",
       "  <thead>\n",
       "    <tr style=\"text-align: right;\">\n",
       "      <th></th>\n",
       "      <th>ID</th>\n",
       "      <th>filename</th>\n",
       "      <th>file path</th>\n",
       "      <th>Label</th>\n",
       "    </tr>\n",
       "  </thead>\n",
       "  <tbody>\n",
       "    <tr>\n",
       "      <th>0</th>\n",
       "      <td>800758</td>\n",
       "      <td>srch800758.fits</td>\n",
       "      <td>/global/project/projectdirs/dasrepo/vpa/supern...</td>\n",
       "      <td>1</td>\n",
       "    </tr>\n",
       "    <tr>\n",
       "      <th>1</th>\n",
       "      <td>800758</td>\n",
       "      <td>diff800758.fits</td>\n",
       "      <td>/global/project/projectdirs/dasrepo/vpa/supern...</td>\n",
       "      <td>1</td>\n",
       "    </tr>\n",
       "    <tr>\n",
       "      <th>2</th>\n",
       "      <td>800758</td>\n",
       "      <td>temp800758.fits</td>\n",
       "      <td>/global/project/projectdirs/dasrepo/vpa/supern...</td>\n",
       "      <td>1</td>\n",
       "    </tr>\n",
       "    <tr>\n",
       "      <th>3</th>\n",
       "      <td>802996</td>\n",
       "      <td>diff802996.fits</td>\n",
       "      <td>/global/project/projectdirs/dasrepo/vpa/supern...</td>\n",
       "      <td>1</td>\n",
       "    </tr>\n",
       "    <tr>\n",
       "      <th>4</th>\n",
       "      <td>802996</td>\n",
       "      <td>temp802996.fits</td>\n",
       "      <td>/global/project/projectdirs/dasrepo/vpa/supern...</td>\n",
       "      <td>1</td>\n",
       "    </tr>\n",
       "  </tbody>\n",
       "</table>\n",
       "</div>"
      ],
      "text/plain": [
       "       ID         filename                                          file path  \\\n",
       "0  800758  srch800758.fits  /global/project/projectdirs/dasrepo/vpa/supern...   \n",
       "1  800758  diff800758.fits  /global/project/projectdirs/dasrepo/vpa/supern...   \n",
       "2  800758  temp800758.fits  /global/project/projectdirs/dasrepo/vpa/supern...   \n",
       "3  802996  diff802996.fits  /global/project/projectdirs/dasrepo/vpa/supern...   \n",
       "4  802996  temp802996.fits  /global/project/projectdirs/dasrepo/vpa/supern...   \n",
       "\n",
       "   Label  \n",
       "0      1  \n",
       "1      1  \n",
       "2      1  \n",
       "3      1  \n",
       "4      1  "
      ]
     },
     "execution_count": 21,
     "metadata": {},
     "output_type": "execute_result"
    }
   ],
   "source": [
    "df7"
   ]
  },
  {
   "cell_type": "code",
   "execution_count": 22,
   "metadata": {},
   "outputs": [
    {
     "name": "stdout",
     "output_type": "stream",
     "text": [
      "Time taken 3.1006665229797363\n"
     ]
    }
   ],
   "source": [
    "t1=time.time()\n",
    "files_exist=np.array([os.path.isfile(x) for x in df2['file path'][:1000]])\n",
    "t2=time.time()\n",
    "print(\"Time taken\",t2-t1)"
   ]
  },
  {
   "cell_type": "code",
   "execution_count": 23,
   "metadata": {},
   "outputs": [
    {
     "name": "stdout",
     "output_type": "stream",
     "text": [
      "True\n"
     ]
    }
   ],
   "source": [
    "print(np.all(files_exist)) ### Gives true only if every element is true"
   ]
  },
  {
   "cell_type": "code",
   "execution_count": 14,
   "metadata": {},
   "outputs": [],
   "source": [
    "### This line is too slow\n",
    "# files_exist=np.array(df2['file path'].apply(lambda x: os.path.isfile(x)))\n"
   ]
  },
  {
   "cell_type": "markdown",
   "metadata": {},
   "source": [
    "### Compare the values of Labels in gathered dataframe and original data frame and ensure they're same"
   ]
  },
  {
   "cell_type": "code",
   "execution_count": 15,
   "metadata": {},
   "outputs": [],
   "source": [
    "f1='/global/project/projectdirs/dasrepo/vpa/supernova_cnn/data/gathered_data/relabeled_autoscan_features.csv'\n",
    "df1=pd.read_csv(f1,sep=',',comment='#')"
   ]
  },
  {
   "cell_type": "code",
   "execution_count": 16,
   "metadata": {},
   "outputs": [
    {
     "name": "stdout",
     "output_type": "stream",
     "text": [
      "(898963, 2) (898963, 2)\n"
     ]
    }
   ],
   "source": [
    "df3=df1[['ID','OBJECT_TYPE']].sort_values('ID').reset_index(drop=True)\n",
    "\n",
    "df4=df2[['ID','Label']]\n",
    "del(df1,df2)\n",
    "df4=df4.rename({'Label':'OBJECT_TYPE'},axis=1) ### Rename column name back to 'OBJECT_TYPE'\n",
    "\n",
    "df5=df4.drop_duplicates(subset=['ID'],keep='first').sort_values('ID').reset_index(drop=True)\n",
    "print(df3.shape,df5.shape)"
   ]
  },
  {
   "cell_type": "code",
   "execution_count": 17,
   "metadata": {},
   "outputs": [
    {
     "data": {
      "text/plain": [
       "True"
      ]
     },
     "execution_count": 17,
     "metadata": {},
     "output_type": "execute_result"
    }
   ],
   "source": [
    "df5.equals(df3)"
   ]
  },
  {
   "cell_type": "markdown",
   "metadata": {},
   "source": [
    "### Success\n",
    "The above line shows that the data extraction process is correct.\n",
    "The two dataframe entries are consistent"
   ]
  },
  {
   "cell_type": "code",
   "execution_count": null,
   "metadata": {},
   "outputs": [],
   "source": []
  }
 ],
 "metadata": {
  "kernelspec": {
   "display_name": "v3",
   "language": "python",
   "name": "v-jpt-3"
  },
  "language_info": {
   "codemirror_mode": {
    "name": "ipython",
    "version": 3
   },
   "file_extension": ".py",
   "mimetype": "text/x-python",
   "name": "python",
   "nbconvert_exporter": "python",
   "pygments_lexer": "ipython3",
   "version": "3.8.6"
  }
 },
 "nbformat": 4,
 "nbformat_minor": 4
}
