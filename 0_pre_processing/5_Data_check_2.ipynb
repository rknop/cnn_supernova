{
 "cells": [
  {
   "cell_type": "markdown",
   "metadata": {},
   "source": [
    "# Code to verify the data extraction process\n",
    "Feb 27, 2020\n",
    "\n",
    "### This code verifies that the second part of the extraction ie. storing information in the .npy is correct\n",
    "It accomplishes this by \n",
    "- Reading the .npy files (x,y,idx) for a few IDs\n",
    "- Reading the file locations for those files directly and extracting the gif files to get the numpy array\n",
    "- Comparing the images and labels for these (x,y)\n"
   ]
  },
  {
   "cell_type": "code",
   "execution_count": 1,
   "metadata": {},
   "outputs": [],
   "source": [
    "import numpy as np\n",
    "import pandas as pd\n",
    "\n",
    "import time\n",
    "import matplotlib.pyplot as plt"
   ]
  },
  {
   "cell_type": "markdown",
   "metadata": {},
   "source": [
    "### Steps:\n",
    "- Getting data from .npy files\n",
    "    - Read the idx .npy files\n",
    "    - Extract a subsample of these using a random index array\n",
    "- Getting data directly: \n",
    "    - Read summary_label_files.csv to extract the entire dataframe.\n",
    "    - Use the IDs extracted before to slice the dataframe for only those IDs\n",
    "\n",
    "- Compare\n",
    "    - For each ID, extract the labels from the datagrame and contents of the .gif files.\n",
    "    - Compare these with the contents of the .npy files (images of all 3 file types: temp,srch,diff)\n",
    "    - Done!"
   ]
  },
  {
   "cell_type": "markdown",
   "metadata": {},
   "source": [
    "## Read data from .npy files"
   ]
  },
  {
   "cell_type": "code",
   "execution_count": 2,
   "metadata": {},
   "outputs": [],
   "source": [
    "## Read ID array\n",
    "fname='/global/project/projectdirs/dasrepo/vpa/supernova_cnn/data/gathered_data/full_idx.npy'\n",
    "a_id=np.load(fname)\n",
    "## Read label array\n",
    "fname='/global/project/projectdirs/dasrepo/vpa/supernova_cnn/data/gathered_data/full_y.npy'\n",
    "a_y=np.load(fname)\n",
    "## Read image array\n",
    "fname='/global/project/projectdirs/dasrepo/vpa/supernova_cnn/data/gathered_data/full_x.npy'\n",
    "a_x=np.load(fname)\n"
   ]
  },
  {
   "cell_type": "code",
   "execution_count": 3,
   "metadata": {},
   "outputs": [],
   "source": [
    "### Pick a sample of indices for the .npy arrays\n",
    "num_samples=5000\n",
    "full_size=a_id.shape[0]\n",
    "np.random.seed(323389)\n",
    "sample_idxs=np.random.choice(np.arange(full_size),size=num_samples) \n",
    "### Grab slices of the numpy arrays\n",
    "arr_x,arr_y,arr_IDs=a_x[sample_idxs],a_y[sample_idxs],a_id[sample_idxs]"
   ]
  },
  {
   "cell_type": "markdown",
   "metadata": {},
   "source": [
    "## Read data directly from files"
   ]
  },
  {
   "cell_type": "markdown",
   "metadata": {},
   "source": [
    "### Get IDs and labels"
   ]
  },
  {
   "cell_type": "code",
   "execution_count": 4,
   "metadata": {},
   "outputs": [],
   "source": [
    "f2='/global/project/projectdirs/dasrepo/vpa/supernova_cnn/data/gathered_data/summary_label_files.csv'\n",
    "df=pd.read_csv(f2,sep=',',comment='#')"
   ]
  },
  {
   "cell_type": "code",
   "execution_count": 5,
   "metadata": {},
   "outputs": [],
   "source": [
    "### Get the subset of the big dataframe\n",
    "df=df[df.ID.isin(arr_IDs)]"
   ]
  },
  {
   "cell_type": "code",
   "execution_count": 6,
   "metadata": {},
   "outputs": [
    {
     "data": {
      "text/html": [
       "<div>\n",
       "<style scoped>\n",
       "    .dataframe tbody tr th:only-of-type {\n",
       "        vertical-align: middle;\n",
       "    }\n",
       "\n",
       "    .dataframe tbody tr th {\n",
       "        vertical-align: top;\n",
       "    }\n",
       "\n",
       "    .dataframe thead th {\n",
       "        text-align: right;\n",
       "    }\n",
       "</style>\n",
       "<table border=\"1\" class=\"dataframe\">\n",
       "  <thead>\n",
       "    <tr style=\"text-align: right;\">\n",
       "      <th></th>\n",
       "      <th>ID</th>\n",
       "      <th>filename</th>\n",
       "      <th>file path</th>\n",
       "      <th>Label</th>\n",
       "    </tr>\n",
       "  </thead>\n",
       "  <tbody>\n",
       "    <tr>\n",
       "      <th>141</th>\n",
       "      <td>148663</td>\n",
       "      <td>temp148663.gif</td>\n",
       "      <td>/global/project/projectdirs/dasrepo/vpa/supern...</td>\n",
       "      <td>1</td>\n",
       "    </tr>\n",
       "    <tr>\n",
       "      <th>142</th>\n",
       "      <td>148663</td>\n",
       "      <td>srch148663.gif</td>\n",
       "      <td>/global/project/projectdirs/dasrepo/vpa/supern...</td>\n",
       "      <td>1</td>\n",
       "    </tr>\n",
       "    <tr>\n",
       "      <th>143</th>\n",
       "      <td>148663</td>\n",
       "      <td>diff148663.gif</td>\n",
       "      <td>/global/project/projectdirs/dasrepo/vpa/supern...</td>\n",
       "      <td>1</td>\n",
       "    </tr>\n",
       "    <tr>\n",
       "      <th>207</th>\n",
       "      <td>78883</td>\n",
       "      <td>diff78883.gif</td>\n",
       "      <td>/global/project/projectdirs/dasrepo/vpa/supern...</td>\n",
       "      <td>1</td>\n",
       "    </tr>\n",
       "    <tr>\n",
       "      <th>208</th>\n",
       "      <td>78883</td>\n",
       "      <td>srch78883.gif</td>\n",
       "      <td>/global/project/projectdirs/dasrepo/vpa/supern...</td>\n",
       "      <td>1</td>\n",
       "    </tr>\n",
       "  </tbody>\n",
       "</table>\n",
       "</div>"
      ],
      "text/plain": [
       "         ID        filename  \\\n",
       "141  148663  temp148663.gif   \n",
       "142  148663  srch148663.gif   \n",
       "143  148663  diff148663.gif   \n",
       "207   78883   diff78883.gif   \n",
       "208   78883   srch78883.gif   \n",
       "\n",
       "                                             file path  Label  \n",
       "141  /global/project/projectdirs/dasrepo/vpa/supern...      1  \n",
       "142  /global/project/projectdirs/dasrepo/vpa/supern...      1  \n",
       "143  /global/project/projectdirs/dasrepo/vpa/supern...      1  \n",
       "207  /global/project/projectdirs/dasrepo/vpa/supern...      1  \n",
       "208  /global/project/projectdirs/dasrepo/vpa/supern...      1  "
      ]
     },
     "execution_count": 6,
     "metadata": {},
     "output_type": "execute_result"
    }
   ],
   "source": [
    "df.head()"
   ]
  },
  {
   "cell_type": "markdown",
   "metadata": {},
   "source": [
    "### Compare data values from .npy files vs directly from .gif files"
   ]
  },
  {
   "cell_type": "code",
   "execution_count": 7,
   "metadata": {},
   "outputs": [
    {
     "name": "stdout",
     "output_type": "stream",
     "text": [
      "All images and labels match!\n"
     ]
    }
   ],
   "source": [
    "\n",
    "for count,iD in enumerate(arr_IDs):\n",
    "    df2=df[df.ID==iD]\n",
    "#     display(df2)\n",
    "    \n",
    "    ### Get image arrays and labels\n",
    "    ### original order of data stored in .npy files is 'temp'=0,'srch'=1,'diff'=2 \n",
    "    img={}\n",
    "    for prefix,loc in zip(['diff','temp','srch'],[2,0,1]):        \n",
    "        fle=prefix+str(iD)+'.gif'\n",
    "        fname=df2[df2.filename==fle]['file path'].values[0]\n",
    "        img[prefix]=plt.imread(fname)\n",
    "        \n",
    "        ### Compare image arrays\n",
    "        if not np.array_equal(img[prefix],arr_x[count,:,:,loc]):\n",
    "            print(\"Image arrays are not equal for count {0}, ID {1}\".format(count,iD))\n",
    "            print(img[prefix])\n",
    "            raise SystemError\n",
    "\n",
    "        ### Compare labels\n",
    "        label=df2[df2.filename==fle].Label.values[0]\n",
    "        if label!=arr_y[count]:\n",
    "            print(\"Labels do not match for count {0}, ID {1}\".format(count,iD))\n",
    "            print(label,arr_y[count])\n",
    "            raise SystemError\n",
    "            \n",
    "            \n",
    "print(\"All images and labels match!\")"
   ]
  },
  {
   "cell_type": "code",
   "execution_count": null,
   "metadata": {},
   "outputs": [],
   "source": []
  },
  {
   "cell_type": "code",
   "execution_count": null,
   "metadata": {},
   "outputs": [],
   "source": []
  }
 ],
 "metadata": {
  "kernelspec": {
   "display_name": "v_py3",
   "language": "python",
   "name": "v_jpt_py3"
  },
  "language_info": {
   "codemirror_mode": {
    "name": "ipython",
    "version": 3
   },
   "file_extension": ".py",
   "mimetype": "text/x-python",
   "name": "python",
   "nbconvert_exporter": "python",
   "pygments_lexer": "ipython3",
   "version": "3.6.8"
  }
 },
 "nbformat": 4,
 "nbformat_minor": 4
}
