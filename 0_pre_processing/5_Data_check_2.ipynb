{
 "cells": [
  {
   "cell_type": "markdown",
   "metadata": {},
   "source": [
    "# Code to verify the data extraction process\n",
    "Feb 27, 2020\n",
    "\n",
    "### This code verifies that the second part of the extraction ie. storing information in the .npy is correct\n",
    "It accomplishes this by \n",
    "- Reading the .npy files (x,y,idx) for a few IDs\n",
    "- Reading the file locations for those files directly and extracting the gif files to get the numpy array\n",
    "- Comparing the images and labels for these (x,y)\n"
   ]
  },
  {
   "cell_type": "code",
   "execution_count": 62,
   "metadata": {},
   "outputs": [],
   "source": [
    "import numpy as np\n",
    "import pandas as pd\n",
    "\n",
    "\n",
    "import time\n",
    "import matplotlib.pyplot as plt"
   ]
  },
  {
   "cell_type": "markdown",
   "metadata": {},
   "source": [
    "### Steps:\n",
    "- Getting data directly: \n",
    "    - Read autoscan_features.3csv and extract a few IDs and corresponding labels at random.\n",
    "    - Use summary_label_files.csv to get corresponding file names.\n",
    "    - Extract the image arrays\n",
    "- Getting data from .npy files\n",
    "    - Read the idx .npy file to extract the list of IDs taken before and get the index of numpy arrays\n",
    "    - Now use these indices to extract labels and images from the other .npy files\n",
    "- Compare\n",
    "    - For each ID, compare the contents of image numpy arrays and labels\n",
    "    - For image arrays, compare all 3 file types: temp,srch,diff\n",
    "    - Done!"
   ]
  },
  {
   "cell_type": "markdown",
   "metadata": {},
   "source": [
    "## Read data directly from files"
   ]
  },
  {
   "cell_type": "markdown",
   "metadata": {},
   "source": [
    "### Get IDs and labels"
   ]
  },
  {
   "cell_type": "code",
   "execution_count": 45,
   "metadata": {},
   "outputs": [],
   "source": [
    "f2='/global/project/projectdirs/dasrepo/vpa/supernova_cnn/data/gathered_data/summary_label_files.csv'\n",
    "df=pd.read_csv(f2,sep=',',comment='#')"
   ]
  },
  {
   "cell_type": "code",
   "execution_count": 46,
   "metadata": {},
   "outputs": [
    {
     "data": {
      "text/html": [
       "<div>\n",
       "<style scoped>\n",
       "    .dataframe tbody tr th:only-of-type {\n",
       "        vertical-align: middle;\n",
       "    }\n",
       "\n",
       "    .dataframe tbody tr th {\n",
       "        vertical-align: top;\n",
       "    }\n",
       "\n",
       "    .dataframe thead th {\n",
       "        text-align: right;\n",
       "    }\n",
       "</style>\n",
       "<table border=\"1\" class=\"dataframe\">\n",
       "  <thead>\n",
       "    <tr style=\"text-align: right;\">\n",
       "      <th></th>\n",
       "      <th>ID</th>\n",
       "      <th>filename</th>\n",
       "      <th>file path</th>\n",
       "      <th>Label</th>\n",
       "    </tr>\n",
       "  </thead>\n",
       "  <tbody>\n",
       "    <tr>\n",
       "      <th>0</th>\n",
       "      <td>801292</td>\n",
       "      <td>srch801292.gif</td>\n",
       "      <td>/global/project/projectdirs/dasrepo/vpa/supern...</td>\n",
       "      <td>1</td>\n",
       "    </tr>\n",
       "    <tr>\n",
       "      <th>1</th>\n",
       "      <td>801292</td>\n",
       "      <td>temp801292.gif</td>\n",
       "      <td>/global/project/projectdirs/dasrepo/vpa/supern...</td>\n",
       "      <td>1</td>\n",
       "    </tr>\n",
       "    <tr>\n",
       "      <th>2</th>\n",
       "      <td>801292</td>\n",
       "      <td>diff801292.gif</td>\n",
       "      <td>/global/project/projectdirs/dasrepo/vpa/supern...</td>\n",
       "      <td>1</td>\n",
       "    </tr>\n",
       "    <tr>\n",
       "      <th>3</th>\n",
       "      <td>800911</td>\n",
       "      <td>temp800911.gif</td>\n",
       "      <td>/global/project/projectdirs/dasrepo/vpa/supern...</td>\n",
       "      <td>1</td>\n",
       "    </tr>\n",
       "    <tr>\n",
       "      <th>4</th>\n",
       "      <td>800911</td>\n",
       "      <td>diff800911.gif</td>\n",
       "      <td>/global/project/projectdirs/dasrepo/vpa/supern...</td>\n",
       "      <td>1</td>\n",
       "    </tr>\n",
       "  </tbody>\n",
       "</table>\n",
       "</div>"
      ],
      "text/plain": [
       "       ID        filename                                          file path  \\\n",
       "0  801292  srch801292.gif  /global/project/projectdirs/dasrepo/vpa/supern...   \n",
       "1  801292  temp801292.gif  /global/project/projectdirs/dasrepo/vpa/supern...   \n",
       "2  801292  diff801292.gif  /global/project/projectdirs/dasrepo/vpa/supern...   \n",
       "3  800911  temp800911.gif  /global/project/projectdirs/dasrepo/vpa/supern...   \n",
       "4  800911  diff800911.gif  /global/project/projectdirs/dasrepo/vpa/supern...   \n",
       "\n",
       "   Label  \n",
       "0      1  \n",
       "1      1  \n",
       "2      1  \n",
       "3      1  \n",
       "4      1  "
      ]
     },
     "execution_count": 46,
     "metadata": {},
     "output_type": "execute_result"
    }
   ],
   "source": [
    "df.head()"
   ]
  },
  {
   "cell_type": "code",
   "execution_count": 87,
   "metadata": {},
   "outputs": [
    {
     "data": {
      "text/html": [
       "<div>\n",
       "<style scoped>\n",
       "    .dataframe tbody tr th:only-of-type {\n",
       "        vertical-align: middle;\n",
       "    }\n",
       "\n",
       "    .dataframe tbody tr th {\n",
       "        vertical-align: top;\n",
       "    }\n",
       "\n",
       "    .dataframe thead th {\n",
       "        text-align: right;\n",
       "    }\n",
       "</style>\n",
       "<table border=\"1\" class=\"dataframe\">\n",
       "  <thead>\n",
       "    <tr style=\"text-align: right;\">\n",
       "      <th></th>\n",
       "      <th>ID</th>\n",
       "      <th>filename</th>\n",
       "      <th>file path</th>\n",
       "      <th>Label</th>\n",
       "    </tr>\n",
       "  </thead>\n",
       "  <tbody>\n",
       "    <tr>\n",
       "      <th>172494</th>\n",
       "      <td>9280371</td>\n",
       "      <td>diff9280371.gif</td>\n",
       "      <td>/global/project/projectdirs/dasrepo/vpa/supern...</td>\n",
       "      <td>1</td>\n",
       "    </tr>\n",
       "    <tr>\n",
       "      <th>172495</th>\n",
       "      <td>9280371</td>\n",
       "      <td>temp9280371.gif</td>\n",
       "      <td>/global/project/projectdirs/dasrepo/vpa/supern...</td>\n",
       "      <td>1</td>\n",
       "    </tr>\n",
       "    <tr>\n",
       "      <th>172496</th>\n",
       "      <td>9280371</td>\n",
       "      <td>srch9280371.gif</td>\n",
       "      <td>/global/project/projectdirs/dasrepo/vpa/supern...</td>\n",
       "      <td>1</td>\n",
       "    </tr>\n",
       "  </tbody>\n",
       "</table>\n",
       "</div>"
      ],
      "text/plain": [
       "             ID         filename  \\\n",
       "172494  9280371  diff9280371.gif   \n",
       "172495  9280371  temp9280371.gif   \n",
       "172496  9280371  srch9280371.gif   \n",
       "\n",
       "                                                file path  Label  \n",
       "172494  /global/project/projectdirs/dasrepo/vpa/supern...      1  \n",
       "172495  /global/project/projectdirs/dasrepo/vpa/supern...      1  \n",
       "172496  /global/project/projectdirs/dasrepo/vpa/supern...      1  "
      ]
     },
     "metadata": {},
     "output_type": "display_data"
    }
   ],
   "source": [
    "num_samples=20\n",
    "df=df.sample(frac=num_samples/df.shape[0],random_state=37)\n",
    "IDs=df.ID.values\n",
    "labels=df.Label.values\n",
    "print(IDs.shape,labels.shape)\n",
    "\n",
    "for idx in IDs[:1]:\n",
    "    df2=df[df.ID==idx]\n",
    "    display(df2)\n",
    "    img_dict={}\n",
    "    \n",
    "    ### Get label\n",
    "    label_lst=df[df.ID==idx].Label.values\n",
    "    ## Check to ensure all 3 labels are same\n",
    "    assert all(x==label_lst[0] for x in label_lst), \"Labels for temp,srch,diff are not identical %\"%(label)\n",
    "    label=label_lst[0]\n",
    "\n",
    "    ### Get image arrays\n",
    "    for prefix in ['diff','temp','srch']: ### The order of files is different here, just to spice it up a bit.        \n",
    "        fle=prefix+str(idx)+'.gif'\n",
    "        fname=df2[df2.filename==fle]['file path'].values[0]\n",
    "        img_dict[prefix]=plt.imread(fname)\n",
    "\n",
    "    ### Get labels and images from .npy arrays\n",
    "    \n"
   ]
  },
  {
   "cell_type": "code",
   "execution_count": null,
   "metadata": {},
   "outputs": [],
   "source": []
  },
  {
   "cell_type": "markdown",
   "metadata": {},
   "source": [
    "## Read data from .npy files"
   ]
  },
  {
   "cell_type": "code",
   "execution_count": null,
   "metadata": {},
   "outputs": [],
   "source": [
    "## Read ID array\n",
    "\n",
    "## Read label array\n",
    "\n",
    "## Read image array\n",
    "\n",
    "fname='/global/project/projectdirs/dasrepo/vpa/supernova_cnn/data/gathered_data/temp_data/oldx.npy'\n",
    "a1=np.load(fname)"
   ]
  }
 ],
 "metadata": {
  "kernelspec": {
   "display_name": "v_py3",
   "language": "python",
   "name": "v_jpt_py3"
  },
  "language_info": {
   "codemirror_mode": {
    "name": "ipython",
    "version": 3
   },
   "file_extension": ".py",
   "mimetype": "text/x-python",
   "name": "python",
   "nbconvert_exporter": "python",
   "pygments_lexer": "ipython3",
   "version": "3.6.8"
  }
 },
 "nbformat": 4,
 "nbformat_minor": 4
}
