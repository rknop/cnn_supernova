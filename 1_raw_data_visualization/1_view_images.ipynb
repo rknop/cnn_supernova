{
 "cells": [
  {
   "cell_type": "markdown",
   "metadata": {},
   "source": [
    "# Code to normalize the images\n",
    "April 7, 2020\n",
    "\n"
   ]
  },
  {
   "cell_type": "code",
   "execution_count": 1,
   "metadata": {},
   "outputs": [],
   "source": [
    "import numpy as np\n",
    "import matplotlib.pyplot as plt\n",
    "import pandas as pd\n",
    "\n",
    "import subprocess as sp\n",
    "import os\n",
    "import sys"
   ]
  },
  {
   "cell_type": "code",
   "execution_count": 2,
   "metadata": {},
   "outputs": [],
   "source": [
    "%matplotlib widget"
   ]
  },
  {
   "cell_type": "code",
   "execution_count": 3,
   "metadata": {},
   "outputs": [
    {
     "name": "stdout",
     "output_type": "stream",
     "text": [
      "[NbConvertApp] Converting notebook modules_image_analysis.ipynb to script\n",
      "[NbConvertApp] Writing 8910 bytes to modules_image_analysis.py\n"
     ]
    }
   ],
   "source": [
    "sys.path.append('/global/u1/v/vpa/project/jpt_notebooks/Cosmology/Cosmo_GAN/LBANN/lbann_cosmogan/3_analysis/')\n",
    "from modules_image_analysis import *"
   ]
  },
  {
   "cell_type": "code",
   "execution_count": 4,
   "metadata": {},
   "outputs": [],
   "source": [
    "data_dir='/global/project/projectdirs/dasrepo/vpa/supernova_cnn/data/gathered_data/'"
   ]
  },
  {
   "cell_type": "code",
   "execution_count": 5,
   "metadata": {},
   "outputs": [],
   "source": [
    "fname1=data_dir+'summary_label_files.csv'\n",
    "df1=pd.read_csv(fname1,sep=',',comment='#')"
   ]
  },
  {
   "cell_type": "code",
   "execution_count": 6,
   "metadata": {},
   "outputs": [
    {
     "name": "stdout",
     "output_type": "stream",
     "text": [
      "Proportion of Signal-Background: 1334613-1362276.\n",
      "Proportion of Signal: 0.49487131283489977\n"
     ]
    }
   ],
   "source": [
    "num_sig,num_bkgnd=df1[df1.Label==1].shape[0],df1[df1.Label==0].shape[0]\n",
    "print(\"Proportion of Signal-Background: {0}-{1}.\\nProportion of Signal: {2}\".format(num_sig,num_bkgnd,num_sig*1.0/(num_sig+num_bkgnd)))"
   ]
  },
  {
   "cell_type": "code",
   "execution_count": 7,
   "metadata": {},
   "outputs": [],
   "source": [
    "### Extracting 30 images of signal and bkgnd\n",
    "df_sig=df1[df1.Label==1].head(30)\n",
    "df_bkg=df1[df1.Label==0].head(30)\n",
    "\n",
    "del(df1)"
   ]
  },
  {
   "cell_type": "code",
   "execution_count": 8,
   "metadata": {},
   "outputs": [],
   "source": [
    "# df_sig"
   ]
  },
  {
   "cell_type": "code",
   "execution_count": 9,
   "metadata": {},
   "outputs": [],
   "source": [
    "# df_bkg"
   ]
  },
  {
   "cell_type": "markdown",
   "metadata": {},
   "source": [
    "## Plot the images"
   ]
  },
  {
   "cell_type": "markdown",
   "metadata": {},
   "source": [
    "### Plot signal for certain type"
   ]
  },
  {
   "cell_type": "code",
   "execution_count": 10,
   "metadata": {},
   "outputs": [
    {
     "data": {
      "application/vnd.jupyter.widget-view+json": {
       "model_id": "99b51034bac0409e9d9ba44bd522525d",
       "version_major": 2,
       "version_minor": 0
      },
      "text/plain": [
       "Canvas(toolbar=Toolbar(toolitems=[('Home', 'Reset original view', 'home', 'home'), ('Back', 'Back to previous …"
      ]
     },
     "metadata": {},
     "output_type": "display_data"
    }
   ],
   "source": [
    "### Pick a certain type of image \n",
    "strgs=['temp','diff','srch']\n",
    "strg='srch'\n",
    "df2=df_sig[df_sig.filename.str.contains(strg)]\n",
    "### Read .gif files and store them in an array\n",
    "imgs=np.array([plt.imread(fle) for fle in df2['file path']])\n",
    "f_plot_grid(imgs,4)"
   ]
  },
  {
   "cell_type": "markdown",
   "metadata": {},
   "source": [
    "### Plot background for certain type"
   ]
  },
  {
   "cell_type": "code",
   "execution_count": 11,
   "metadata": {},
   "outputs": [
    {
     "data": {
      "application/vnd.jupyter.widget-view+json": {
       "model_id": "df6937f92d684e4e940837fadfab5ac5",
       "version_major": 2,
       "version_minor": 0
      },
      "text/plain": [
       "Canvas(toolbar=Toolbar(toolitems=[('Home', 'Reset original view', 'home', 'home'), ('Back', 'Back to previous …"
      ]
     },
     "metadata": {},
     "output_type": "display_data"
    }
   ],
   "source": [
    "### Pick a certain type of image \n",
    "strgs=['temp','diff','srch']\n",
    "strg='srch'\n",
    "df2=df_bkg[df_bkg.filename.str.contains(strg)]\n",
    "### Read .gif files and store them in a list\n",
    "imgs=np.array([plt.imread(fle) for fle in df2['file path']])\n",
    "f_plot_grid(imgs,4)\n"
   ]
  },
  {
   "cell_type": "markdown",
   "metadata": {},
   "source": [
    "### Plot pixel intensity"
   ]
  },
  {
   "cell_type": "code",
   "execution_count": 12,
   "metadata": {},
   "outputs": [
    {
     "data": {
      "application/vnd.jupyter.widget-view+json": {
       "model_id": "557a2bb7e70c40849b286f7dbdd5d8e9",
       "version_major": 2,
       "version_minor": 0
      },
      "text/plain": [
       "Canvas(toolbar=Toolbar(toolitems=[('Home', 'Reset original view', 'home', 'home'), ('Back', 'Back to previous …"
      ]
     },
     "metadata": {},
     "output_type": "display_data"
    },
    {
     "data": {
      "text/plain": [
       "array([3205, 2279, 2910, 2671, 2538, 2491, 1878, 1603, 1324, 1251, 1053,\n",
       "        707,  524,  406,  265,  178,   66,   70,   45,   25,   28,   17,\n",
       "         15,   12,  449])"
      ]
     },
     "execution_count": 12,
     "metadata": {},
     "output_type": "execute_result"
    }
   ],
   "source": [
    "f_pixel_intensity(imgs,normalize=False)"
   ]
  },
  {
   "cell_type": "markdown",
   "metadata": {},
   "source": [
    "### Plot power spectrum"
   ]
  },
  {
   "cell_type": "code",
   "execution_count": 13,
   "metadata": {},
   "outputs": [
    {
     "data": {
      "application/vnd.jupyter.widget-view+json": {
       "model_id": "a0689e7353ce4a8789f2a49e195f7ad6",
       "version_major": 2,
       "version_minor": 0
      },
      "text/plain": [
       "Canvas(toolbar=Toolbar(toolitems=[('Home', 'Reset original view', 'home', 'home'), ('Back', 'Back to previous …"
      ]
     },
     "metadata": {},
     "output_type": "display_data"
    }
   ],
   "source": [
    "f_compute_spectrum(imgs)"
   ]
  },
  {
   "cell_type": "markdown",
   "metadata": {
    "jupyter": {
     "outputs_hidden": true
    }
   },
   "source": [
    "### Plot all 3 types for same Index"
   ]
  },
  {
   "cell_type": "code",
   "execution_count": 14,
   "metadata": {},
   "outputs": [],
   "source": [
    "def f_plot_comparison(img_lst):\n",
    "    '''\n",
    "    Plotting srch,temp and diff .gif files together for comparison\n",
    "    '''\n",
    "    \n",
    "    rows,cols=1,3\n",
    "    arr=img_lst[:3]\n",
    "    \n",
    "    fig,axarr=plt.subplots(rows,cols,figsize=(8,8))\n",
    "    print(axarr.shape)\n",
    "    axarr=np.expand_dims(axarr,axis=0)\n",
    "    for i in range(rows*cols):\n",
    "        row,col=int(i/cols),i%cols\n",
    "#         print(i,'\\t',row,col)\n",
    "#         axarr[row,col].imshow(arr[i],origin='lower',alpha=0.1)\n",
    "        axarr[row,col].imshow(arr[i],origin='lower',interpolation='nearest',cmap='cool', extent = [0, 51, 0, 51])\n",
    "\n",
    "#         axarr[row,col].set_xticks(np.arange(0,52,13))\n",
    "#         axarr1[row,col].set_yticks(np.arange(0,52,13))\n",
    "\n",
    "#     fig.subplots_adjust(hspace=0.0)\n",
    "    # Drop axis labels\n",
    "    temp=plt.setp([a.get_xticklabels() for a in axarr[:-1,:].flatten()], visible=False)\n",
    "    temp=plt.setp([a.get_yticklabels() for a in axarr[:,1:].flatten()], visible=False)  "
   ]
  },
  {
   "cell_type": "code",
   "execution_count": 15,
   "metadata": {},
   "outputs": [
    {
     "data": {
      "application/vnd.jupyter.widget-view+json": {
       "model_id": "c116045163634744be5b11d54013fd6b",
       "version_major": 2,
       "version_minor": 0
      },
      "text/plain": [
       "Canvas(toolbar=Toolbar(toolitems=[('Home', 'Reset original view', 'home', 'home'), ('Back', 'Back to previous …"
      ]
     },
     "metadata": {},
     "output_type": "display_data"
    },
    {
     "name": "stdout",
     "output_type": "stream",
     "text": [
      "(3,)\n"
     ]
    }
   ],
   "source": [
    "index=df_sig.ID.values[10]\n",
    "df3=df_sig[df_sig.ID==index]\n",
    "# display(df3)\n",
    "img_lst=[plt.imread(fle) for fle in df3['file path']]\n",
    "\n",
    "f_plot_comparison(img_lst)\n"
   ]
  },
  {
   "cell_type": "code",
   "execution_count": null,
   "metadata": {},
   "outputs": [],
   "source": []
  }
 ],
 "metadata": {
  "kernelspec": {
   "display_name": "v_py3",
   "language": "python",
   "name": "v_jpt_py3"
  },
  "language_info": {
   "codemirror_mode": {
    "name": "ipython",
    "version": 3
   },
   "file_extension": ".py",
   "mimetype": "text/x-python",
   "name": "python",
   "nbconvert_exporter": "python",
   "pygments_lexer": "ipython3",
   "version": "3.6.8"
  }
 },
 "nbformat": 4,
 "nbformat_minor": 4
}
