{
 "cells": [
  {
   "cell_type": "markdown",
   "metadata": {},
   "source": [
    "# Code to view images from Dataframe\n",
    "### Collect information from summary_label_files.csv file and slice it to get just a few signal and background images\n",
    "April 7, 2020\n",
    "\n"
   ]
  },
  {
   "cell_type": "code",
   "execution_count": 1,
   "metadata": {},
   "outputs": [],
   "source": [
    "import numpy as np\n",
    "import matplotlib.pyplot as plt\n",
    "import pandas as pd\n",
    "\n",
    "import subprocess as sp\n",
    "import os\n",
    "import sys"
   ]
  },
  {
   "cell_type": "code",
   "execution_count": 2,
   "metadata": {},
   "outputs": [],
   "source": [
    "%matplotlib widget"
   ]
  },
  {
   "cell_type": "code",
   "execution_count": 3,
   "metadata": {},
   "outputs": [
    {
     "name": "stdout",
     "output_type": "stream",
     "text": [
      "[NbConvertApp] Converting notebook modules_image_analysis.ipynb to script\n",
      "[NbConvertApp] Writing 13913 bytes to modules_image_analysis.py\n"
     ]
    }
   ],
   "source": [
    "# sys.path.append('3_analysis/')\n",
    "from modules_image_analysis import *"
   ]
  },
  {
   "cell_type": "code",
   "execution_count": 4,
   "metadata": {},
   "outputs": [],
   "source": [
    "data_dir='/global/project/projectdirs/dasrepo/vpa/supernova_cnn/data/gathered_data/'"
   ]
  },
  {
   "cell_type": "code",
   "execution_count": 10,
   "metadata": {},
   "outputs": [
    {
     "name": "stdout",
     "output_type": "stream",
     "text": [
      "(2696889, 4)\n"
     ]
    }
   ],
   "source": [
    "fname1=data_dir+'summary_label_files.csv'\n",
    "df1=pd.read_csv(fname1,sep=',',comment='#')\n",
    "print(df1.shape)"
   ]
  },
  {
   "cell_type": "code",
   "execution_count": 11,
   "metadata": {},
   "outputs": [
    {
     "name": "stdout",
     "output_type": "stream",
     "text": [
      "Number of samples:  898963.0\n",
      "Proportion of Signal-Background: 1334613-1362276.\n",
      "Proportion of Signal: 0.49487131283489977\n"
     ]
    }
   ],
   "source": [
    "num_sig,num_bkgnd=df1[df1.Label==1].shape[0],df1[df1.Label==0].shape[0]\n",
    "print(\"Number of samples: \",df1.shape[0]/3)\n",
    "print(\"Proportion of Signal-Background: {0}-{1}.\\nProportion of Signal: {2}\".format(num_sig,num_bkgnd,num_sig*1.0/(num_sig+num_bkgnd)))"
   ]
  },
  {
   "cell_type": "markdown",
   "metadata": {},
   "source": [
    "### Slice to get signal and background"
   ]
  },
  {
   "cell_type": "code",
   "execution_count": 12,
   "metadata": {},
   "outputs": [
    {
     "name": "stdout",
     "output_type": "stream",
     "text": [
      "(90, 4) (90, 4)\n"
     ]
    }
   ],
   "source": [
    "\n",
    "def f_get_sig_bkg(df,ftype='sig',size=30):\n",
    "    ''' Get samples of signal or background from full dataset'''\n",
    "    \n",
    "    label=1 if ftype=='sig' else 0\n",
    "    ### Extract signal or bkgnd \n",
    "    df2=df[df.Label==label]\n",
    "    \n",
    "    ### Pick a set of random ID values\n",
    "    seed=np.random.seed(35)\n",
    "    labels=np.random.choice(np.unique(df2.ID.values),size=size,replace=False)\n",
    "    ### Extract rows with IDs selected at random\n",
    "    df3=df2[df2.ID.isin(labels)].sort_values(by='ID').reset_index(drop=True)\n",
    "\n",
    "    return df3\n",
    "\n",
    "### Extracting 30 images of signal and bkgnd\n",
    "df_sig=f_get_sig_bkg(df1,'sig',30)\n",
    "df_bkg=f_get_sig_bkg(df1,'bkg',30)\n",
    "print(df_sig.shape,df_bkg.shape)\n",
    "\n",
    "# del(df1)"
   ]
  },
  {
   "cell_type": "code",
   "execution_count": 13,
   "metadata": {
    "collapsed": true,
    "jupyter": {
     "outputs_hidden": true
    }
   },
   "outputs": [
    {
     "data": {
      "text/html": [
       "<div>\n",
       "<style scoped>\n",
       "    .dataframe tbody tr th:only-of-type {\n",
       "        vertical-align: middle;\n",
       "    }\n",
       "\n",
       "    .dataframe tbody tr th {\n",
       "        vertical-align: top;\n",
       "    }\n",
       "\n",
       "    .dataframe thead th {\n",
       "        text-align: right;\n",
       "    }\n",
       "</style>\n",
       "<table border=\"1\" class=\"dataframe\">\n",
       "  <thead>\n",
       "    <tr style=\"text-align: right;\">\n",
       "      <th></th>\n",
       "      <th>ID</th>\n",
       "      <th>filename</th>\n",
       "      <th>file path</th>\n",
       "      <th>Label</th>\n",
       "    </tr>\n",
       "  </thead>\n",
       "  <tbody>\n",
       "    <tr>\n",
       "      <th>0</th>\n",
       "      <td>7019093</td>\n",
       "      <td>srch7019093.gif</td>\n",
       "      <td>/global/project/projectdirs/dasrepo/vpa/supern...</td>\n",
       "      <td>1</td>\n",
       "    </tr>\n",
       "    <tr>\n",
       "      <th>1</th>\n",
       "      <td>7019093</td>\n",
       "      <td>diff7019093.gif</td>\n",
       "      <td>/global/project/projectdirs/dasrepo/vpa/supern...</td>\n",
       "      <td>1</td>\n",
       "    </tr>\n",
       "    <tr>\n",
       "      <th>2</th>\n",
       "      <td>7019093</td>\n",
       "      <td>temp7019093.gif</td>\n",
       "      <td>/global/project/projectdirs/dasrepo/vpa/supern...</td>\n",
       "      <td>1</td>\n",
       "    </tr>\n",
       "    <tr>\n",
       "      <th>3</th>\n",
       "      <td>7050940</td>\n",
       "      <td>srch7050940.gif</td>\n",
       "      <td>/global/project/projectdirs/dasrepo/vpa/supern...</td>\n",
       "      <td>1</td>\n",
       "    </tr>\n",
       "    <tr>\n",
       "      <th>4</th>\n",
       "      <td>7050940</td>\n",
       "      <td>temp7050940.gif</td>\n",
       "      <td>/global/project/projectdirs/dasrepo/vpa/supern...</td>\n",
       "      <td>1</td>\n",
       "    </tr>\n",
       "    <tr>\n",
       "      <th>5</th>\n",
       "      <td>7050940</td>\n",
       "      <td>diff7050940.gif</td>\n",
       "      <td>/global/project/projectdirs/dasrepo/vpa/supern...</td>\n",
       "      <td>1</td>\n",
       "    </tr>\n",
       "    <tr>\n",
       "      <th>6</th>\n",
       "      <td>7745793</td>\n",
       "      <td>srch7745793.gif</td>\n",
       "      <td>/global/project/projectdirs/dasrepo/vpa/supern...</td>\n",
       "      <td>1</td>\n",
       "    </tr>\n",
       "    <tr>\n",
       "      <th>7</th>\n",
       "      <td>7745793</td>\n",
       "      <td>diff7745793.gif</td>\n",
       "      <td>/global/project/projectdirs/dasrepo/vpa/supern...</td>\n",
       "      <td>1</td>\n",
       "    </tr>\n",
       "    <tr>\n",
       "      <th>8</th>\n",
       "      <td>7745793</td>\n",
       "      <td>temp7745793.gif</td>\n",
       "      <td>/global/project/projectdirs/dasrepo/vpa/supern...</td>\n",
       "      <td>1</td>\n",
       "    </tr>\n",
       "    <tr>\n",
       "      <th>9</th>\n",
       "      <td>7765522</td>\n",
       "      <td>temp7765522.gif</td>\n",
       "      <td>/global/project/projectdirs/dasrepo/vpa/supern...</td>\n",
       "      <td>1</td>\n",
       "    </tr>\n",
       "    <tr>\n",
       "      <th>10</th>\n",
       "      <td>7765522</td>\n",
       "      <td>srch7765522.gif</td>\n",
       "      <td>/global/project/projectdirs/dasrepo/vpa/supern...</td>\n",
       "      <td>1</td>\n",
       "    </tr>\n",
       "    <tr>\n",
       "      <th>11</th>\n",
       "      <td>7765522</td>\n",
       "      <td>diff7765522.gif</td>\n",
       "      <td>/global/project/projectdirs/dasrepo/vpa/supern...</td>\n",
       "      <td>1</td>\n",
       "    </tr>\n",
       "    <tr>\n",
       "      <th>12</th>\n",
       "      <td>7782322</td>\n",
       "      <td>diff7782322.gif</td>\n",
       "      <td>/global/project/projectdirs/dasrepo/vpa/supern...</td>\n",
       "      <td>1</td>\n",
       "    </tr>\n",
       "    <tr>\n",
       "      <th>13</th>\n",
       "      <td>7782322</td>\n",
       "      <td>temp7782322.gif</td>\n",
       "      <td>/global/project/projectdirs/dasrepo/vpa/supern...</td>\n",
       "      <td>1</td>\n",
       "    </tr>\n",
       "    <tr>\n",
       "      <th>14</th>\n",
       "      <td>7782322</td>\n",
       "      <td>srch7782322.gif</td>\n",
       "      <td>/global/project/projectdirs/dasrepo/vpa/supern...</td>\n",
       "      <td>1</td>\n",
       "    </tr>\n",
       "    <tr>\n",
       "      <th>15</th>\n",
       "      <td>7791295</td>\n",
       "      <td>diff7791295.gif</td>\n",
       "      <td>/global/project/projectdirs/dasrepo/vpa/supern...</td>\n",
       "      <td>1</td>\n",
       "    </tr>\n",
       "    <tr>\n",
       "      <th>16</th>\n",
       "      <td>7791295</td>\n",
       "      <td>srch7791295.gif</td>\n",
       "      <td>/global/project/projectdirs/dasrepo/vpa/supern...</td>\n",
       "      <td>1</td>\n",
       "    </tr>\n",
       "    <tr>\n",
       "      <th>17</th>\n",
       "      <td>7791295</td>\n",
       "      <td>temp7791295.gif</td>\n",
       "      <td>/global/project/projectdirs/dasrepo/vpa/supern...</td>\n",
       "      <td>1</td>\n",
       "    </tr>\n",
       "    <tr>\n",
       "      <th>18</th>\n",
       "      <td>7946334</td>\n",
       "      <td>diff7946334.gif</td>\n",
       "      <td>/global/project/projectdirs/dasrepo/vpa/supern...</td>\n",
       "      <td>1</td>\n",
       "    </tr>\n",
       "    <tr>\n",
       "      <th>19</th>\n",
       "      <td>7946334</td>\n",
       "      <td>srch7946334.gif</td>\n",
       "      <td>/global/project/projectdirs/dasrepo/vpa/supern...</td>\n",
       "      <td>1</td>\n",
       "    </tr>\n",
       "    <tr>\n",
       "      <th>20</th>\n",
       "      <td>7946334</td>\n",
       "      <td>temp7946334.gif</td>\n",
       "      <td>/global/project/projectdirs/dasrepo/vpa/supern...</td>\n",
       "      <td>1</td>\n",
       "    </tr>\n",
       "    <tr>\n",
       "      <th>21</th>\n",
       "      <td>7948310</td>\n",
       "      <td>srch7948310.gif</td>\n",
       "      <td>/global/project/projectdirs/dasrepo/vpa/supern...</td>\n",
       "      <td>1</td>\n",
       "    </tr>\n",
       "    <tr>\n",
       "      <th>22</th>\n",
       "      <td>7948310</td>\n",
       "      <td>diff7948310.gif</td>\n",
       "      <td>/global/project/projectdirs/dasrepo/vpa/supern...</td>\n",
       "      <td>1</td>\n",
       "    </tr>\n",
       "    <tr>\n",
       "      <th>23</th>\n",
       "      <td>7948310</td>\n",
       "      <td>temp7948310.gif</td>\n",
       "      <td>/global/project/projectdirs/dasrepo/vpa/supern...</td>\n",
       "      <td>1</td>\n",
       "    </tr>\n",
       "    <tr>\n",
       "      <th>24</th>\n",
       "      <td>8103939</td>\n",
       "      <td>diff8103939.gif</td>\n",
       "      <td>/global/project/projectdirs/dasrepo/vpa/supern...</td>\n",
       "      <td>1</td>\n",
       "    </tr>\n",
       "    <tr>\n",
       "      <th>25</th>\n",
       "      <td>8103939</td>\n",
       "      <td>temp8103939.gif</td>\n",
       "      <td>/global/project/projectdirs/dasrepo/vpa/supern...</td>\n",
       "      <td>1</td>\n",
       "    </tr>\n",
       "    <tr>\n",
       "      <th>26</th>\n",
       "      <td>8103939</td>\n",
       "      <td>srch8103939.gif</td>\n",
       "      <td>/global/project/projectdirs/dasrepo/vpa/supern...</td>\n",
       "      <td>1</td>\n",
       "    </tr>\n",
       "    <tr>\n",
       "      <th>27</th>\n",
       "      <td>8186253</td>\n",
       "      <td>diff8186253.gif</td>\n",
       "      <td>/global/project/projectdirs/dasrepo/vpa/supern...</td>\n",
       "      <td>1</td>\n",
       "    </tr>\n",
       "    <tr>\n",
       "      <th>28</th>\n",
       "      <td>8186253</td>\n",
       "      <td>srch8186253.gif</td>\n",
       "      <td>/global/project/projectdirs/dasrepo/vpa/supern...</td>\n",
       "      <td>1</td>\n",
       "    </tr>\n",
       "    <tr>\n",
       "      <th>29</th>\n",
       "      <td>8186253</td>\n",
       "      <td>temp8186253.gif</td>\n",
       "      <td>/global/project/projectdirs/dasrepo/vpa/supern...</td>\n",
       "      <td>1</td>\n",
       "    </tr>\n",
       "    <tr>\n",
       "      <th>...</th>\n",
       "      <td>...</td>\n",
       "      <td>...</td>\n",
       "      <td>...</td>\n",
       "      <td>...</td>\n",
       "    </tr>\n",
       "    <tr>\n",
       "      <th>60</th>\n",
       "      <td>9572455</td>\n",
       "      <td>temp9572455.gif</td>\n",
       "      <td>/global/project/projectdirs/dasrepo/vpa/supern...</td>\n",
       "      <td>1</td>\n",
       "    </tr>\n",
       "    <tr>\n",
       "      <th>61</th>\n",
       "      <td>9572455</td>\n",
       "      <td>srch9572455.gif</td>\n",
       "      <td>/global/project/projectdirs/dasrepo/vpa/supern...</td>\n",
       "      <td>1</td>\n",
       "    </tr>\n",
       "    <tr>\n",
       "      <th>62</th>\n",
       "      <td>9572455</td>\n",
       "      <td>diff9572455.gif</td>\n",
       "      <td>/global/project/projectdirs/dasrepo/vpa/supern...</td>\n",
       "      <td>1</td>\n",
       "    </tr>\n",
       "    <tr>\n",
       "      <th>63</th>\n",
       "      <td>10035619</td>\n",
       "      <td>srch10035619.gif</td>\n",
       "      <td>/global/project/projectdirs/dasrepo/vpa/supern...</td>\n",
       "      <td>1</td>\n",
       "    </tr>\n",
       "    <tr>\n",
       "      <th>64</th>\n",
       "      <td>10035619</td>\n",
       "      <td>diff10035619.gif</td>\n",
       "      <td>/global/project/projectdirs/dasrepo/vpa/supern...</td>\n",
       "      <td>1</td>\n",
       "    </tr>\n",
       "    <tr>\n",
       "      <th>65</th>\n",
       "      <td>10035619</td>\n",
       "      <td>temp10035619.gif</td>\n",
       "      <td>/global/project/projectdirs/dasrepo/vpa/supern...</td>\n",
       "      <td>1</td>\n",
       "    </tr>\n",
       "    <tr>\n",
       "      <th>66</th>\n",
       "      <td>10350517</td>\n",
       "      <td>srch10350517.gif</td>\n",
       "      <td>/global/project/projectdirs/dasrepo/vpa/supern...</td>\n",
       "      <td>1</td>\n",
       "    </tr>\n",
       "    <tr>\n",
       "      <th>67</th>\n",
       "      <td>10350517</td>\n",
       "      <td>diff10350517.gif</td>\n",
       "      <td>/global/project/projectdirs/dasrepo/vpa/supern...</td>\n",
       "      <td>1</td>\n",
       "    </tr>\n",
       "    <tr>\n",
       "      <th>68</th>\n",
       "      <td>10350517</td>\n",
       "      <td>temp10350517.gif</td>\n",
       "      <td>/global/project/projectdirs/dasrepo/vpa/supern...</td>\n",
       "      <td>1</td>\n",
       "    </tr>\n",
       "    <tr>\n",
       "      <th>69</th>\n",
       "      <td>10439084</td>\n",
       "      <td>temp10439084.gif</td>\n",
       "      <td>/global/project/projectdirs/dasrepo/vpa/supern...</td>\n",
       "      <td>1</td>\n",
       "    </tr>\n",
       "    <tr>\n",
       "      <th>70</th>\n",
       "      <td>10439084</td>\n",
       "      <td>srch10439084.gif</td>\n",
       "      <td>/global/project/projectdirs/dasrepo/vpa/supern...</td>\n",
       "      <td>1</td>\n",
       "    </tr>\n",
       "    <tr>\n",
       "      <th>71</th>\n",
       "      <td>10439084</td>\n",
       "      <td>diff10439084.gif</td>\n",
       "      <td>/global/project/projectdirs/dasrepo/vpa/supern...</td>\n",
       "      <td>1</td>\n",
       "    </tr>\n",
       "    <tr>\n",
       "      <th>72</th>\n",
       "      <td>10558175</td>\n",
       "      <td>diff10558175.gif</td>\n",
       "      <td>/global/project/projectdirs/dasrepo/vpa/supern...</td>\n",
       "      <td>1</td>\n",
       "    </tr>\n",
       "    <tr>\n",
       "      <th>73</th>\n",
       "      <td>10558175</td>\n",
       "      <td>srch10558175.gif</td>\n",
       "      <td>/global/project/projectdirs/dasrepo/vpa/supern...</td>\n",
       "      <td>1</td>\n",
       "    </tr>\n",
       "    <tr>\n",
       "      <th>74</th>\n",
       "      <td>10558175</td>\n",
       "      <td>temp10558175.gif</td>\n",
       "      <td>/global/project/projectdirs/dasrepo/vpa/supern...</td>\n",
       "      <td>1</td>\n",
       "    </tr>\n",
       "    <tr>\n",
       "      <th>75</th>\n",
       "      <td>10727867</td>\n",
       "      <td>diff10727867.gif</td>\n",
       "      <td>/global/project/projectdirs/dasrepo/vpa/supern...</td>\n",
       "      <td>1</td>\n",
       "    </tr>\n",
       "    <tr>\n",
       "      <th>76</th>\n",
       "      <td>10727867</td>\n",
       "      <td>temp10727867.gif</td>\n",
       "      <td>/global/project/projectdirs/dasrepo/vpa/supern...</td>\n",
       "      <td>1</td>\n",
       "    </tr>\n",
       "    <tr>\n",
       "      <th>77</th>\n",
       "      <td>10727867</td>\n",
       "      <td>srch10727867.gif</td>\n",
       "      <td>/global/project/projectdirs/dasrepo/vpa/supern...</td>\n",
       "      <td>1</td>\n",
       "    </tr>\n",
       "    <tr>\n",
       "      <th>78</th>\n",
       "      <td>10771937</td>\n",
       "      <td>diff10771937.gif</td>\n",
       "      <td>/global/project/projectdirs/dasrepo/vpa/supern...</td>\n",
       "      <td>1</td>\n",
       "    </tr>\n",
       "    <tr>\n",
       "      <th>79</th>\n",
       "      <td>10771937</td>\n",
       "      <td>temp10771937.gif</td>\n",
       "      <td>/global/project/projectdirs/dasrepo/vpa/supern...</td>\n",
       "      <td>1</td>\n",
       "    </tr>\n",
       "    <tr>\n",
       "      <th>80</th>\n",
       "      <td>10771937</td>\n",
       "      <td>srch10771937.gif</td>\n",
       "      <td>/global/project/projectdirs/dasrepo/vpa/supern...</td>\n",
       "      <td>1</td>\n",
       "    </tr>\n",
       "    <tr>\n",
       "      <th>81</th>\n",
       "      <td>11034995</td>\n",
       "      <td>temp11034995.gif</td>\n",
       "      <td>/global/project/projectdirs/dasrepo/vpa/supern...</td>\n",
       "      <td>1</td>\n",
       "    </tr>\n",
       "    <tr>\n",
       "      <th>82</th>\n",
       "      <td>11034995</td>\n",
       "      <td>diff11034995.gif</td>\n",
       "      <td>/global/project/projectdirs/dasrepo/vpa/supern...</td>\n",
       "      <td>1</td>\n",
       "    </tr>\n",
       "    <tr>\n",
       "      <th>83</th>\n",
       "      <td>11034995</td>\n",
       "      <td>srch11034995.gif</td>\n",
       "      <td>/global/project/projectdirs/dasrepo/vpa/supern...</td>\n",
       "      <td>1</td>\n",
       "    </tr>\n",
       "    <tr>\n",
       "      <th>84</th>\n",
       "      <td>11148363</td>\n",
       "      <td>srch11148363.gif</td>\n",
       "      <td>/global/project/projectdirs/dasrepo/vpa/supern...</td>\n",
       "      <td>1</td>\n",
       "    </tr>\n",
       "    <tr>\n",
       "      <th>85</th>\n",
       "      <td>11148363</td>\n",
       "      <td>diff11148363.gif</td>\n",
       "      <td>/global/project/projectdirs/dasrepo/vpa/supern...</td>\n",
       "      <td>1</td>\n",
       "    </tr>\n",
       "    <tr>\n",
       "      <th>86</th>\n",
       "      <td>11148363</td>\n",
       "      <td>temp11148363.gif</td>\n",
       "      <td>/global/project/projectdirs/dasrepo/vpa/supern...</td>\n",
       "      <td>1</td>\n",
       "    </tr>\n",
       "    <tr>\n",
       "      <th>87</th>\n",
       "      <td>11790136</td>\n",
       "      <td>diff11790136.gif</td>\n",
       "      <td>/global/project/projectdirs/dasrepo/vpa/supern...</td>\n",
       "      <td>1</td>\n",
       "    </tr>\n",
       "    <tr>\n",
       "      <th>88</th>\n",
       "      <td>11790136</td>\n",
       "      <td>srch11790136.gif</td>\n",
       "      <td>/global/project/projectdirs/dasrepo/vpa/supern...</td>\n",
       "      <td>1</td>\n",
       "    </tr>\n",
       "    <tr>\n",
       "      <th>89</th>\n",
       "      <td>11790136</td>\n",
       "      <td>temp11790136.gif</td>\n",
       "      <td>/global/project/projectdirs/dasrepo/vpa/supern...</td>\n",
       "      <td>1</td>\n",
       "    </tr>\n",
       "  </tbody>\n",
       "</table>\n",
       "<p>90 rows × 4 columns</p>\n",
       "</div>"
      ],
      "text/plain": [
       "          ID          filename  \\\n",
       "0    7019093   srch7019093.gif   \n",
       "1    7019093   diff7019093.gif   \n",
       "2    7019093   temp7019093.gif   \n",
       "3    7050940   srch7050940.gif   \n",
       "4    7050940   temp7050940.gif   \n",
       "5    7050940   diff7050940.gif   \n",
       "6    7745793   srch7745793.gif   \n",
       "7    7745793   diff7745793.gif   \n",
       "8    7745793   temp7745793.gif   \n",
       "9    7765522   temp7765522.gif   \n",
       "10   7765522   srch7765522.gif   \n",
       "11   7765522   diff7765522.gif   \n",
       "12   7782322   diff7782322.gif   \n",
       "13   7782322   temp7782322.gif   \n",
       "14   7782322   srch7782322.gif   \n",
       "15   7791295   diff7791295.gif   \n",
       "16   7791295   srch7791295.gif   \n",
       "17   7791295   temp7791295.gif   \n",
       "18   7946334   diff7946334.gif   \n",
       "19   7946334   srch7946334.gif   \n",
       "20   7946334   temp7946334.gif   \n",
       "21   7948310   srch7948310.gif   \n",
       "22   7948310   diff7948310.gif   \n",
       "23   7948310   temp7948310.gif   \n",
       "24   8103939   diff8103939.gif   \n",
       "25   8103939   temp8103939.gif   \n",
       "26   8103939   srch8103939.gif   \n",
       "27   8186253   diff8186253.gif   \n",
       "28   8186253   srch8186253.gif   \n",
       "29   8186253   temp8186253.gif   \n",
       "..       ...               ...   \n",
       "60   9572455   temp9572455.gif   \n",
       "61   9572455   srch9572455.gif   \n",
       "62   9572455   diff9572455.gif   \n",
       "63  10035619  srch10035619.gif   \n",
       "64  10035619  diff10035619.gif   \n",
       "65  10035619  temp10035619.gif   \n",
       "66  10350517  srch10350517.gif   \n",
       "67  10350517  diff10350517.gif   \n",
       "68  10350517  temp10350517.gif   \n",
       "69  10439084  temp10439084.gif   \n",
       "70  10439084  srch10439084.gif   \n",
       "71  10439084  diff10439084.gif   \n",
       "72  10558175  diff10558175.gif   \n",
       "73  10558175  srch10558175.gif   \n",
       "74  10558175  temp10558175.gif   \n",
       "75  10727867  diff10727867.gif   \n",
       "76  10727867  temp10727867.gif   \n",
       "77  10727867  srch10727867.gif   \n",
       "78  10771937  diff10771937.gif   \n",
       "79  10771937  temp10771937.gif   \n",
       "80  10771937  srch10771937.gif   \n",
       "81  11034995  temp11034995.gif   \n",
       "82  11034995  diff11034995.gif   \n",
       "83  11034995  srch11034995.gif   \n",
       "84  11148363  srch11148363.gif   \n",
       "85  11148363  diff11148363.gif   \n",
       "86  11148363  temp11148363.gif   \n",
       "87  11790136  diff11790136.gif   \n",
       "88  11790136  srch11790136.gif   \n",
       "89  11790136  temp11790136.gif   \n",
       "\n",
       "                                            file path  Label  \n",
       "0   /global/project/projectdirs/dasrepo/vpa/supern...      1  \n",
       "1   /global/project/projectdirs/dasrepo/vpa/supern...      1  \n",
       "2   /global/project/projectdirs/dasrepo/vpa/supern...      1  \n",
       "3   /global/project/projectdirs/dasrepo/vpa/supern...      1  \n",
       "4   /global/project/projectdirs/dasrepo/vpa/supern...      1  \n",
       "5   /global/project/projectdirs/dasrepo/vpa/supern...      1  \n",
       "6   /global/project/projectdirs/dasrepo/vpa/supern...      1  \n",
       "7   /global/project/projectdirs/dasrepo/vpa/supern...      1  \n",
       "8   /global/project/projectdirs/dasrepo/vpa/supern...      1  \n",
       "9   /global/project/projectdirs/dasrepo/vpa/supern...      1  \n",
       "10  /global/project/projectdirs/dasrepo/vpa/supern...      1  \n",
       "11  /global/project/projectdirs/dasrepo/vpa/supern...      1  \n",
       "12  /global/project/projectdirs/dasrepo/vpa/supern...      1  \n",
       "13  /global/project/projectdirs/dasrepo/vpa/supern...      1  \n",
       "14  /global/project/projectdirs/dasrepo/vpa/supern...      1  \n",
       "15  /global/project/projectdirs/dasrepo/vpa/supern...      1  \n",
       "16  /global/project/projectdirs/dasrepo/vpa/supern...      1  \n",
       "17  /global/project/projectdirs/dasrepo/vpa/supern...      1  \n",
       "18  /global/project/projectdirs/dasrepo/vpa/supern...      1  \n",
       "19  /global/project/projectdirs/dasrepo/vpa/supern...      1  \n",
       "20  /global/project/projectdirs/dasrepo/vpa/supern...      1  \n",
       "21  /global/project/projectdirs/dasrepo/vpa/supern...      1  \n",
       "22  /global/project/projectdirs/dasrepo/vpa/supern...      1  \n",
       "23  /global/project/projectdirs/dasrepo/vpa/supern...      1  \n",
       "24  /global/project/projectdirs/dasrepo/vpa/supern...      1  \n",
       "25  /global/project/projectdirs/dasrepo/vpa/supern...      1  \n",
       "26  /global/project/projectdirs/dasrepo/vpa/supern...      1  \n",
       "27  /global/project/projectdirs/dasrepo/vpa/supern...      1  \n",
       "28  /global/project/projectdirs/dasrepo/vpa/supern...      1  \n",
       "29  /global/project/projectdirs/dasrepo/vpa/supern...      1  \n",
       "..                                                ...    ...  \n",
       "60  /global/project/projectdirs/dasrepo/vpa/supern...      1  \n",
       "61  /global/project/projectdirs/dasrepo/vpa/supern...      1  \n",
       "62  /global/project/projectdirs/dasrepo/vpa/supern...      1  \n",
       "63  /global/project/projectdirs/dasrepo/vpa/supern...      1  \n",
       "64  /global/project/projectdirs/dasrepo/vpa/supern...      1  \n",
       "65  /global/project/projectdirs/dasrepo/vpa/supern...      1  \n",
       "66  /global/project/projectdirs/dasrepo/vpa/supern...      1  \n",
       "67  /global/project/projectdirs/dasrepo/vpa/supern...      1  \n",
       "68  /global/project/projectdirs/dasrepo/vpa/supern...      1  \n",
       "69  /global/project/projectdirs/dasrepo/vpa/supern...      1  \n",
       "70  /global/project/projectdirs/dasrepo/vpa/supern...      1  \n",
       "71  /global/project/projectdirs/dasrepo/vpa/supern...      1  \n",
       "72  /global/project/projectdirs/dasrepo/vpa/supern...      1  \n",
       "73  /global/project/projectdirs/dasrepo/vpa/supern...      1  \n",
       "74  /global/project/projectdirs/dasrepo/vpa/supern...      1  \n",
       "75  /global/project/projectdirs/dasrepo/vpa/supern...      1  \n",
       "76  /global/project/projectdirs/dasrepo/vpa/supern...      1  \n",
       "77  /global/project/projectdirs/dasrepo/vpa/supern...      1  \n",
       "78  /global/project/projectdirs/dasrepo/vpa/supern...      1  \n",
       "79  /global/project/projectdirs/dasrepo/vpa/supern...      1  \n",
       "80  /global/project/projectdirs/dasrepo/vpa/supern...      1  \n",
       "81  /global/project/projectdirs/dasrepo/vpa/supern...      1  \n",
       "82  /global/project/projectdirs/dasrepo/vpa/supern...      1  \n",
       "83  /global/project/projectdirs/dasrepo/vpa/supern...      1  \n",
       "84  /global/project/projectdirs/dasrepo/vpa/supern...      1  \n",
       "85  /global/project/projectdirs/dasrepo/vpa/supern...      1  \n",
       "86  /global/project/projectdirs/dasrepo/vpa/supern...      1  \n",
       "87  /global/project/projectdirs/dasrepo/vpa/supern...      1  \n",
       "88  /global/project/projectdirs/dasrepo/vpa/supern...      1  \n",
       "89  /global/project/projectdirs/dasrepo/vpa/supern...      1  \n",
       "\n",
       "[90 rows x 4 columns]"
      ]
     },
     "execution_count": 13,
     "metadata": {},
     "output_type": "execute_result"
    }
   ],
   "source": [
    "df_sig"
   ]
  },
  {
   "cell_type": "code",
   "execution_count": null,
   "metadata": {},
   "outputs": [],
   "source": [
    "# df_bkg"
   ]
  },
  {
   "cell_type": "markdown",
   "metadata": {},
   "source": [
    "## Plot the images"
   ]
  },
  {
   "cell_type": "markdown",
   "metadata": {},
   "source": [
    "### Plot signal for certain type"
   ]
  },
  {
   "cell_type": "code",
   "execution_count": 14,
   "metadata": {
    "collapsed": true,
    "jupyter": {
     "outputs_hidden": true
    }
   },
   "outputs": [
    {
     "name": "stdout",
     "output_type": "stream",
     "text": [
      "8 4\n"
     ]
    },
    {
     "data": {
      "application/vnd.jupyter.widget-view+json": {
       "model_id": "ad0056949b8c43d493f70c36cbcdcc31",
       "version_major": 2,
       "version_minor": 0
      },
      "text/plain": [
       "Canvas(toolbar=Toolbar(toolitems=[('Home', 'Reset original view', 'home', 'home'), ('Back', 'Back to previous …"
      ]
     },
     "metadata": {},
     "output_type": "display_data"
    }
   ],
   "source": [
    "### Pick a certain type of image \n",
    "strgs=['temp','diff','srch']\n",
    "strg='srch'\n",
    "df2=df_sig[df_sig.filename.str.contains(strg)]\n",
    "### Read .gif files and store them in an array\n",
    "imgs=np.array([plt.imread(fle) for fle in df2['file path']])\n",
    "f_plot_grid(imgs,4)"
   ]
  },
  {
   "cell_type": "markdown",
   "metadata": {},
   "source": [
    "### Plot background for certain type"
   ]
  },
  {
   "cell_type": "code",
   "execution_count": 15,
   "metadata": {},
   "outputs": [
    {
     "name": "stdout",
     "output_type": "stream",
     "text": [
      "8 4\n"
     ]
    },
    {
     "data": {
      "application/vnd.jupyter.widget-view+json": {
       "model_id": "6fea783b1ca941c5ae6169ce65e853de",
       "version_major": 2,
       "version_minor": 0
      },
      "text/plain": [
       "Canvas(toolbar=Toolbar(toolitems=[('Home', 'Reset original view', 'home', 'home'), ('Back', 'Back to previous …"
      ]
     },
     "metadata": {},
     "output_type": "display_data"
    }
   ],
   "source": [
    "### Pick a certain type of image \n",
    "strgs=['temp','diff','srch']\n",
    "strg='srch'\n",
    "df2=df_bkg[df_bkg.filename.str.contains(strg)]\n",
    "### Read .gif files and store them in a list\n",
    "imgs=np.array([plt.imread(fle) for fle in df2['file path']])\n",
    "f_plot_grid(imgs,4)\n"
   ]
  },
  {
   "cell_type": "markdown",
   "metadata": {},
   "source": [
    "### Plot pixel intensity"
   ]
  },
  {
   "cell_type": "code",
   "execution_count": 178,
   "metadata": {},
   "outputs": [],
   "source": [
    "# f_pixel_intensity(imgs,normalize=False)"
   ]
  },
  {
   "cell_type": "markdown",
   "metadata": {},
   "source": [
    "### Plot power spectrum"
   ]
  },
  {
   "cell_type": "code",
   "execution_count": 180,
   "metadata": {},
   "outputs": [
    {
     "ename": "ValueError",
     "evalue": "axes exceeds dimensionality of input",
     "output_type": "error",
     "traceback": [
      "\u001b[0;31m---------------------------------------------------------------------------\u001b[0m",
      "\u001b[0;31mValueError\u001b[0m                                Traceback (most recent call last)",
      "\u001b[0;32m<ipython-input-180-8e5e2d2c0a1f>\u001b[0m in \u001b[0;36m<module>\u001b[0;34m\u001b[0m\n\u001b[0;32m----> 1\u001b[0;31m \u001b[0mf_compute_spectrum\u001b[0m\u001b[0;34m(\u001b[0m\u001b[0mimgs\u001b[0m\u001b[0;34m[\u001b[0m\u001b[0;36m0\u001b[0m\u001b[0;34m]\u001b[0m\u001b[0;34m)\u001b[0m\u001b[0;34m\u001b[0m\u001b[0;34m\u001b[0m\u001b[0m\n\u001b[0m",
      "\u001b[0;32m/global/u1/v/vpa/project/jpt_notebooks/Cosmology/Supernova-cnn/cnn_supernova/1_raw_data_visualization/modules_image_analysis.py\u001b[0m in \u001b[0;36mf_compute_spectrum\u001b[0;34m(img_arr)\u001b[0m\n\u001b[1;32m    321\u001b[0m     '''\n\u001b[1;32m    322\u001b[0m     \u001b[0mnum\u001b[0m \u001b[0;34m=\u001b[0m \u001b[0mimg_arr\u001b[0m\u001b[0;34m.\u001b[0m\u001b[0mshape\u001b[0m\u001b[0;34m[\u001b[0m\u001b[0;36m0\u001b[0m\u001b[0;34m]\u001b[0m\u001b[0;34m\u001b[0m\u001b[0;34m\u001b[0m\u001b[0m\n\u001b[0;32m--> 323\u001b[0;31m     \u001b[0mPk\u001b[0m \u001b[0;34m=\u001b[0m \u001b[0mf_batch_spectrum\u001b[0m\u001b[0;34m(\u001b[0m\u001b[0mimg_arr\u001b[0m\u001b[0;34m)\u001b[0m\u001b[0;34m\u001b[0m\u001b[0;34m\u001b[0m\u001b[0m\n\u001b[0m\u001b[1;32m    324\u001b[0m \u001b[0;34m\u001b[0m\u001b[0m\n\u001b[1;32m    325\u001b[0m     \u001b[0mmean\u001b[0m\u001b[0;34m,\u001b[0m\u001b[0mstd\u001b[0m \u001b[0;34m=\u001b[0m \u001b[0mnp\u001b[0m\u001b[0;34m.\u001b[0m\u001b[0mmean\u001b[0m\u001b[0;34m(\u001b[0m\u001b[0mPk\u001b[0m\u001b[0;34m,\u001b[0m \u001b[0maxis\u001b[0m\u001b[0;34m=\u001b[0m\u001b[0;36m0\u001b[0m\u001b[0;34m)\u001b[0m\u001b[0;34m,\u001b[0m\u001b[0mnp\u001b[0m\u001b[0;34m.\u001b[0m\u001b[0mstd\u001b[0m\u001b[0;34m(\u001b[0m\u001b[0mPk\u001b[0m\u001b[0;34m,\u001b[0m \u001b[0maxis\u001b[0m\u001b[0;34m=\u001b[0m\u001b[0;36m0\u001b[0m\u001b[0;34m)\u001b[0m\u001b[0;34m/\u001b[0m\u001b[0mnp\u001b[0m\u001b[0;34m.\u001b[0m\u001b[0msqrt\u001b[0m\u001b[0;34m(\u001b[0m\u001b[0mPk\u001b[0m\u001b[0;34m.\u001b[0m\u001b[0mshape\u001b[0m\u001b[0;34m[\u001b[0m\u001b[0;36m0\u001b[0m\u001b[0;34m]\u001b[0m\u001b[0;34m)\u001b[0m\u001b[0;34m\u001b[0m\u001b[0;34m\u001b[0m\u001b[0m\n",
      "\u001b[0;32m/global/u1/v/vpa/project/jpt_notebooks/Cosmology/Supernova-cnn/cnn_supernova/1_raw_data_visualization/modules_image_analysis.py\u001b[0m in \u001b[0;36mf_batch_spectrum\u001b[0;34m(arr)\u001b[0m\n\u001b[1;32m    312\u001b[0m \u001b[0;32mdef\u001b[0m \u001b[0mf_batch_spectrum\u001b[0m\u001b[0;34m(\u001b[0m\u001b[0marr\u001b[0m\u001b[0;34m)\u001b[0m\u001b[0;34m:\u001b[0m\u001b[0;34m\u001b[0m\u001b[0;34m\u001b[0m\u001b[0m\n\u001b[1;32m    313\u001b[0m     \u001b[0;34m\"\"\"Computes power spectrum for a batch of images\"\"\"\u001b[0m\u001b[0;34m\u001b[0m\u001b[0;34m\u001b[0m\u001b[0m\n\u001b[0;32m--> 314\u001b[0;31m     \u001b[0mP_k\u001b[0m\u001b[0;34m=\u001b[0m\u001b[0;34m[\u001b[0m\u001b[0mf_get_power_spectrum\u001b[0m\u001b[0;34m(\u001b[0m\u001b[0mi\u001b[0m\u001b[0;34m)\u001b[0m \u001b[0;32mfor\u001b[0m \u001b[0mi\u001b[0m \u001b[0;32min\u001b[0m \u001b[0marr\u001b[0m\u001b[0;34m]\u001b[0m\u001b[0;34m\u001b[0m\u001b[0;34m\u001b[0m\u001b[0m\n\u001b[0m\u001b[1;32m    315\u001b[0m     \u001b[0;32mreturn\u001b[0m \u001b[0mnp\u001b[0m\u001b[0;34m.\u001b[0m\u001b[0marray\u001b[0m\u001b[0;34m(\u001b[0m\u001b[0mP_k\u001b[0m\u001b[0;34m)\u001b[0m\u001b[0;34m\u001b[0m\u001b[0;34m\u001b[0m\u001b[0m\n\u001b[1;32m    316\u001b[0m \u001b[0;34m\u001b[0m\u001b[0m\n",
      "\u001b[0;32m/global/u1/v/vpa/project/jpt_notebooks/Cosmology/Supernova-cnn/cnn_supernova/1_raw_data_visualization/modules_image_analysis.py\u001b[0m in \u001b[0;36m<listcomp>\u001b[0;34m(.0)\u001b[0m\n\u001b[1;32m    312\u001b[0m \u001b[0;32mdef\u001b[0m \u001b[0mf_batch_spectrum\u001b[0m\u001b[0;34m(\u001b[0m\u001b[0marr\u001b[0m\u001b[0;34m)\u001b[0m\u001b[0;34m:\u001b[0m\u001b[0;34m\u001b[0m\u001b[0;34m\u001b[0m\u001b[0m\n\u001b[1;32m    313\u001b[0m     \u001b[0;34m\"\"\"Computes power spectrum for a batch of images\"\"\"\u001b[0m\u001b[0;34m\u001b[0m\u001b[0;34m\u001b[0m\u001b[0m\n\u001b[0;32m--> 314\u001b[0;31m     \u001b[0mP_k\u001b[0m\u001b[0;34m=\u001b[0m\u001b[0;34m[\u001b[0m\u001b[0mf_get_power_spectrum\u001b[0m\u001b[0;34m(\u001b[0m\u001b[0mi\u001b[0m\u001b[0;34m)\u001b[0m \u001b[0;32mfor\u001b[0m \u001b[0mi\u001b[0m \u001b[0;32min\u001b[0m \u001b[0marr\u001b[0m\u001b[0;34m]\u001b[0m\u001b[0;34m\u001b[0m\u001b[0;34m\u001b[0m\u001b[0m\n\u001b[0m\u001b[1;32m    315\u001b[0m     \u001b[0;32mreturn\u001b[0m \u001b[0mnp\u001b[0m\u001b[0;34m.\u001b[0m\u001b[0marray\u001b[0m\u001b[0;34m(\u001b[0m\u001b[0mP_k\u001b[0m\u001b[0;34m)\u001b[0m\u001b[0;34m\u001b[0m\u001b[0;34m\u001b[0m\u001b[0m\n\u001b[1;32m    316\u001b[0m \u001b[0;34m\u001b[0m\u001b[0m\n",
      "\u001b[0;32m/global/u1/v/vpa/project/jpt_notebooks/Cosmology/Supernova-cnn/cnn_supernova/1_raw_data_visualization/modules_image_analysis.py\u001b[0m in \u001b[0;36mf_get_power_spectrum\u001b[0;34m(image, GLOBAL_MEAN)\u001b[0m\n\u001b[1;32m    299\u001b[0m     \"\"\"\n\u001b[1;32m    300\u001b[0m     \u001b[0;31m### Compute 2D fourier. transform\u001b[0m\u001b[0;34m\u001b[0m\u001b[0;34m\u001b[0m\u001b[0;34m\u001b[0m\u001b[0m\n\u001b[0;32m--> 301\u001b[0;31m     \u001b[0mF1\u001b[0m \u001b[0;34m=\u001b[0m \u001b[0mfftpack\u001b[0m\u001b[0;34m.\u001b[0m\u001b[0mfft2\u001b[0m\u001b[0;34m(\u001b[0m\u001b[0;34m(\u001b[0m\u001b[0mimage\u001b[0m \u001b[0;34m-\u001b[0m \u001b[0mGLOBAL_MEAN\u001b[0m\u001b[0;34m)\u001b[0m\u001b[0;34m/\u001b[0m\u001b[0mGLOBAL_MEAN\u001b[0m\u001b[0;34m)\u001b[0m\u001b[0;34m\u001b[0m\u001b[0;34m\u001b[0m\u001b[0m\n\u001b[0m\u001b[1;32m    302\u001b[0m     \u001b[0mF2\u001b[0m \u001b[0;34m=\u001b[0m \u001b[0mfftpack\u001b[0m\u001b[0;34m.\u001b[0m\u001b[0mfftshift\u001b[0m\u001b[0;34m(\u001b[0m\u001b[0mF1\u001b[0m\u001b[0;34m)\u001b[0m\u001b[0;34m\u001b[0m\u001b[0;34m\u001b[0m\u001b[0m\n\u001b[1;32m    303\u001b[0m     \u001b[0;31m### Absolute value of F-transform\u001b[0m\u001b[0;34m\u001b[0m\u001b[0;34m\u001b[0m\u001b[0;34m\u001b[0m\u001b[0m\n",
      "\u001b[0;32m~/.conda/envs/v_py3/lib/python3.6/site-packages/scipy/fftpack/basic.py\u001b[0m in \u001b[0;36mfft2\u001b[0;34m(x, shape, axes, overwrite_x)\u001b[0m\n\u001b[1;32m    382\u001b[0m \u001b[0;34m\u001b[0m\u001b[0m\n\u001b[1;32m    383\u001b[0m     \"\"\"\n\u001b[0;32m--> 384\u001b[0;31m     \u001b[0;32mreturn\u001b[0m \u001b[0mfftn\u001b[0m\u001b[0;34m(\u001b[0m\u001b[0mx\u001b[0m\u001b[0;34m,\u001b[0m\u001b[0mshape\u001b[0m\u001b[0;34m,\u001b[0m\u001b[0maxes\u001b[0m\u001b[0;34m,\u001b[0m\u001b[0moverwrite_x\u001b[0m\u001b[0;34m)\u001b[0m\u001b[0;34m\u001b[0m\u001b[0;34m\u001b[0m\u001b[0m\n\u001b[0m\u001b[1;32m    385\u001b[0m \u001b[0;34m\u001b[0m\u001b[0m\n\u001b[1;32m    386\u001b[0m \u001b[0;34m\u001b[0m\u001b[0m\n",
      "\u001b[0;32m~/.conda/envs/v_py3/lib/python3.6/site-packages/scipy/fftpack/basic.py\u001b[0m in \u001b[0;36mfftn\u001b[0;34m(x, shape, axes, overwrite_x)\u001b[0m\n\u001b[1;32m    335\u001b[0m     \"\"\"\n\u001b[1;32m    336\u001b[0m     \u001b[0mshape\u001b[0m \u001b[0;34m=\u001b[0m \u001b[0m_good_shape\u001b[0m\u001b[0;34m(\u001b[0m\u001b[0mx\u001b[0m\u001b[0;34m,\u001b[0m \u001b[0mshape\u001b[0m\u001b[0;34m,\u001b[0m \u001b[0maxes\u001b[0m\u001b[0;34m)\u001b[0m\u001b[0;34m\u001b[0m\u001b[0;34m\u001b[0m\u001b[0m\n\u001b[0;32m--> 337\u001b[0;31m     \u001b[0;32mreturn\u001b[0m \u001b[0m_pocketfft\u001b[0m\u001b[0;34m.\u001b[0m\u001b[0mfftn\u001b[0m\u001b[0;34m(\u001b[0m\u001b[0mx\u001b[0m\u001b[0;34m,\u001b[0m \u001b[0mshape\u001b[0m\u001b[0;34m,\u001b[0m \u001b[0maxes\u001b[0m\u001b[0;34m,\u001b[0m \u001b[0;32mNone\u001b[0m\u001b[0;34m,\u001b[0m \u001b[0moverwrite_x\u001b[0m\u001b[0;34m)\u001b[0m\u001b[0;34m\u001b[0m\u001b[0;34m\u001b[0m\u001b[0m\n\u001b[0m\u001b[1;32m    338\u001b[0m \u001b[0;34m\u001b[0m\u001b[0m\n\u001b[1;32m    339\u001b[0m \u001b[0;34m\u001b[0m\u001b[0m\n",
      "\u001b[0;32m~/.conda/envs/v_py3/lib/python3.6/site-packages/scipy/fft/_pocketfft/basic.py\u001b[0m in \u001b[0;36mc2cn\u001b[0;34m(forward, x, s, axes, norm, overwrite_x, workers)\u001b[0m\n\u001b[1;32m    146\u001b[0m     \u001b[0mtmp\u001b[0m \u001b[0;34m=\u001b[0m \u001b[0m_asfarray\u001b[0m\u001b[0;34m(\u001b[0m\u001b[0mx\u001b[0m\u001b[0;34m)\u001b[0m\u001b[0;34m\u001b[0m\u001b[0;34m\u001b[0m\u001b[0m\n\u001b[1;32m    147\u001b[0m \u001b[0;34m\u001b[0m\u001b[0m\n\u001b[0;32m--> 148\u001b[0;31m     \u001b[0mshape\u001b[0m\u001b[0;34m,\u001b[0m \u001b[0maxes\u001b[0m \u001b[0;34m=\u001b[0m \u001b[0m_init_nd_shape_and_axes\u001b[0m\u001b[0;34m(\u001b[0m\u001b[0mtmp\u001b[0m\u001b[0;34m,\u001b[0m \u001b[0ms\u001b[0m\u001b[0;34m,\u001b[0m \u001b[0maxes\u001b[0m\u001b[0;34m)\u001b[0m\u001b[0;34m\u001b[0m\u001b[0;34m\u001b[0m\u001b[0m\n\u001b[0m\u001b[1;32m    149\u001b[0m     \u001b[0moverwrite_x\u001b[0m \u001b[0;34m=\u001b[0m \u001b[0moverwrite_x\u001b[0m \u001b[0;32mor\u001b[0m \u001b[0m_datacopied\u001b[0m\u001b[0;34m(\u001b[0m\u001b[0mtmp\u001b[0m\u001b[0;34m,\u001b[0m \u001b[0mx\u001b[0m\u001b[0;34m)\u001b[0m\u001b[0;34m\u001b[0m\u001b[0;34m\u001b[0m\u001b[0m\n\u001b[1;32m    150\u001b[0m     \u001b[0mworkers\u001b[0m \u001b[0;34m=\u001b[0m \u001b[0m_workers\u001b[0m\u001b[0;34m(\u001b[0m\u001b[0mworkers\u001b[0m\u001b[0;34m)\u001b[0m\u001b[0;34m\u001b[0m\u001b[0;34m\u001b[0m\u001b[0m\n",
      "\u001b[0;32m~/.conda/envs/v_py3/lib/python3.6/site-packages/scipy/fft/_pocketfft/helper.py\u001b[0m in \u001b[0;36m_init_nd_shape_and_axes\u001b[0;34m(x, shape, axes)\u001b[0m\n\u001b[1;32m     49\u001b[0m \u001b[0;34m\u001b[0m\u001b[0m\n\u001b[1;32m     50\u001b[0m         \u001b[0;32mif\u001b[0m \u001b[0many\u001b[0m\u001b[0;34m(\u001b[0m\u001b[0ma\u001b[0m \u001b[0;34m>=\u001b[0m \u001b[0mx\u001b[0m\u001b[0;34m.\u001b[0m\u001b[0mndim\u001b[0m \u001b[0;32mor\u001b[0m \u001b[0ma\u001b[0m \u001b[0;34m<\u001b[0m \u001b[0;36m0\u001b[0m \u001b[0;32mfor\u001b[0m \u001b[0ma\u001b[0m \u001b[0;32min\u001b[0m \u001b[0maxes\u001b[0m\u001b[0;34m)\u001b[0m\u001b[0;34m:\u001b[0m\u001b[0;34m\u001b[0m\u001b[0;34m\u001b[0m\u001b[0m\n\u001b[0;32m---> 51\u001b[0;31m             \u001b[0;32mraise\u001b[0m \u001b[0mValueError\u001b[0m\u001b[0;34m(\u001b[0m\u001b[0;34m\"axes exceeds dimensionality of input\"\u001b[0m\u001b[0;34m)\u001b[0m\u001b[0;34m\u001b[0m\u001b[0;34m\u001b[0m\u001b[0m\n\u001b[0m\u001b[1;32m     52\u001b[0m         \u001b[0;32mif\u001b[0m \u001b[0mlen\u001b[0m\u001b[0;34m(\u001b[0m\u001b[0mset\u001b[0m\u001b[0;34m(\u001b[0m\u001b[0maxes\u001b[0m\u001b[0;34m)\u001b[0m\u001b[0;34m)\u001b[0m \u001b[0;34m!=\u001b[0m \u001b[0mlen\u001b[0m\u001b[0;34m(\u001b[0m\u001b[0maxes\u001b[0m\u001b[0;34m)\u001b[0m\u001b[0;34m:\u001b[0m\u001b[0;34m\u001b[0m\u001b[0;34m\u001b[0m\u001b[0m\n\u001b[1;32m     53\u001b[0m             \u001b[0;32mraise\u001b[0m \u001b[0mValueError\u001b[0m\u001b[0;34m(\u001b[0m\u001b[0;34m\"all axes must be unique\"\u001b[0m\u001b[0;34m)\u001b[0m\u001b[0;34m\u001b[0m\u001b[0;34m\u001b[0m\u001b[0m\n",
      "\u001b[0;31mValueError\u001b[0m: axes exceeds dimensionality of input"
     ]
    }
   ],
   "source": [
    "f_compute_spectrum(imgs[0])"
   ]
  },
  {
   "cell_type": "markdown",
   "metadata": {
    "jupyter": {
     "outputs_hidden": true
    }
   },
   "source": [
    "## Compare srch,diff and temp files for same Index"
   ]
  },
  {
   "cell_type": "markdown",
   "metadata": {},
   "source": [
    "### Extract data"
   ]
  },
  {
   "cell_type": "code",
   "execution_count": 17,
   "metadata": {},
   "outputs": [
    {
     "data": {
      "text/html": [
       "<div>\n",
       "<style scoped>\n",
       "    .dataframe tbody tr th:only-of-type {\n",
       "        vertical-align: middle;\n",
       "    }\n",
       "\n",
       "    .dataframe tbody tr th {\n",
       "        vertical-align: top;\n",
       "    }\n",
       "\n",
       "    .dataframe thead th {\n",
       "        text-align: right;\n",
       "    }\n",
       "</style>\n",
       "<table border=\"1\" class=\"dataframe\">\n",
       "  <thead>\n",
       "    <tr style=\"text-align: right;\">\n",
       "      <th></th>\n",
       "      <th>ID</th>\n",
       "      <th>filename</th>\n",
       "      <th>file path</th>\n",
       "      <th>Label</th>\n",
       "    </tr>\n",
       "  </thead>\n",
       "  <tbody>\n",
       "    <tr>\n",
       "      <th>0</th>\n",
       "      <td>7765522</td>\n",
       "      <td>temp7765522.gif</td>\n",
       "      <td>/global/project/projectdirs/dasrepo/vpa/supern...</td>\n",
       "      <td>1</td>\n",
       "    </tr>\n",
       "    <tr>\n",
       "      <th>1</th>\n",
       "      <td>7765522</td>\n",
       "      <td>srch7765522.gif</td>\n",
       "      <td>/global/project/projectdirs/dasrepo/vpa/supern...</td>\n",
       "      <td>1</td>\n",
       "    </tr>\n",
       "    <tr>\n",
       "      <th>2</th>\n",
       "      <td>7765522</td>\n",
       "      <td>diff7765522.gif</td>\n",
       "      <td>/global/project/projectdirs/dasrepo/vpa/supern...</td>\n",
       "      <td>1</td>\n",
       "    </tr>\n",
       "  </tbody>\n",
       "</table>\n",
       "</div>"
      ],
      "text/plain": [
       "        ID         filename  \\\n",
       "0  7765522  temp7765522.gif   \n",
       "1  7765522  srch7765522.gif   \n",
       "2  7765522  diff7765522.gif   \n",
       "\n",
       "                                           file path  Label  \n",
       "0  /global/project/projectdirs/dasrepo/vpa/supern...      1  \n",
       "1  /global/project/projectdirs/dasrepo/vpa/supern...      1  \n",
       "2  /global/project/projectdirs/dasrepo/vpa/supern...      1  "
      ]
     },
     "metadata": {},
     "output_type": "display_data"
    }
   ],
   "source": [
    "def f_extract_imgs_index(df,ID):\n",
    "    ''' Module to extract all 3 types of files for a certain ID\n",
    "    '''\n",
    "#     assert ID<df.shape[0],\"Index %s must be in Dataframe of size %s\"%(ID,df.shape[0])\n",
    "    \n",
    "    df2=df[df.ID==ID].reset_index(drop=True)\n",
    "    display(df2)\n",
    "    labels=[ftype[:4] for ftype in df2.filename.values]\n",
    "    \n",
    "    img_lst=np.array([plt.imread(fle) for fle in df2['file path']])\n",
    "    return img_lst,labels\n",
    "\n",
    "\n",
    "\n",
    "### Get image array and labels for the 3 types\n",
    "ID=df_sig.ID.values[10]\n",
    "img_arr,labels=f_extract_imgs_index(df_sig,ID)\n",
    "\n"
   ]
  },
  {
   "cell_type": "markdown",
   "metadata": {},
   "source": [
    "### Grid plot: Compare all 3 images"
   ]
  },
  {
   "cell_type": "code",
   "execution_count": 18,
   "metadata": {},
   "outputs": [
    {
     "name": "stdout",
     "output_type": "stream",
     "text": [
      "1 3\n"
     ]
    },
    {
     "data": {
      "application/vnd.jupyter.widget-view+json": {
       "model_id": "60aa15608cab411380b2c4dc5b7f627f",
       "version_major": 2,
       "version_minor": 0
      },
      "text/plain": [
       "Canvas(toolbar=Toolbar(toolitems=[('Home', 'Reset original view', 'home', 'home'), ('Back', 'Back to previous …"
      ]
     },
     "metadata": {},
     "output_type": "display_data"
    }
   ],
   "source": [
    "f_plot_grid(np.array(img_arr),cols=3,fig_size=(6,6))"
   ]
  },
  {
   "cell_type": "markdown",
   "metadata": {},
   "source": [
    "### "
   ]
  },
  {
   "cell_type": "markdown",
   "metadata": {},
   "source": [
    "### Compare pixel intensities"
   ]
  },
  {
   "cell_type": "code",
   "execution_count": 176,
   "metadata": {},
   "outputs": [
    {
     "name": "stderr",
     "output_type": "stream",
     "text": [
      "/global/u1/v/vpa/project/jpt_notebooks/Cosmology/Supernova-cnn/cnn_supernova/1_raw_data_visualization/modules_image_analysis.py:157: RuntimeWarning: More than 20 figures have been opened. Figures created through the pyplot interface (`matplotlib.pyplot.figure`) are retained until explicitly closed and may consume too much memory. (To control this warning, see the rcParam `figure.max_open_warning`).\n",
      "  plt.figure()\n"
     ]
    },
    {
     "data": {
      "application/vnd.jupyter.widget-view+json": {
       "model_id": "00b79dd4efa643fdb467bf3bdfb3db6c",
       "version_major": 2,
       "version_minor": 0
      },
      "text/plain": [
       "Canvas(toolbar=Toolbar(toolitems=[('Home', 'Reset original view', 'home', 'home'), ('Back', 'Back to previous …"
      ]
     },
     "metadata": {},
     "output_type": "display_data"
    },
    {
     "name": "stdout",
     "output_type": "stream",
     "text": [
      "(51, 25)\n",
      "(51, 25)\n",
      "(51, 25)\n"
     ]
    }
   ],
   "source": [
    "f_compare_pixel_intensity(img_arr,label_lst=labels,normalize=False,log_scale=True, mode='avg',bins=25)"
   ]
  },
  {
   "cell_type": "code",
   "execution_count": null,
   "metadata": {},
   "outputs": [],
   "source": []
  }
 ],
 "metadata": {
  "kernelspec": {
   "display_name": "v_py3",
   "language": "python",
   "name": "v_jpt_py3"
  },
  "language_info": {
   "codemirror_mode": {
    "name": "ipython",
    "version": 3
   },
   "file_extension": ".py",
   "mimetype": "text/x-python",
   "name": "python",
   "nbconvert_exporter": "python",
   "pygments_lexer": "ipython3",
   "version": "3.6.8"
  }
 },
 "nbformat": 4,
 "nbformat_minor": 4
}
