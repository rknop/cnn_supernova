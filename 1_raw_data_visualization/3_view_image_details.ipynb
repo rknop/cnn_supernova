{
 "cells": [
  {
   "cell_type": "markdown",
   "metadata": {},
   "source": [
    "# Code to view image details\n",
    "April 23, 2020\n",
    "\n"
   ]
  },
  {
   "cell_type": "code",
   "execution_count": 1,
   "metadata": {},
   "outputs": [],
   "source": [
    "import numpy as np\n",
    "import matplotlib.pyplot as plt\n",
    "import pandas as pd\n",
    "\n",
    "import subprocess as sp\n",
    "import os\n",
    "import sys\n",
    "import time"
   ]
  },
  {
   "cell_type": "code",
   "execution_count": 2,
   "metadata": {},
   "outputs": [],
   "source": [
    "%matplotlib widget"
   ]
  },
  {
   "cell_type": "code",
   "execution_count": 3,
   "metadata": {},
   "outputs": [
    {
     "name": "stdout",
     "output_type": "stream",
     "text": [
      "[NbConvertApp] Converting notebook modules_image_analysis.ipynb to script\n",
      "[NbConvertApp] Writing 8876 bytes to modules_image_analysis.py\n"
     ]
    }
   ],
   "source": [
    "sys.path.append('/global/u1/v/vpa/project/jpt_notebooks/Cosmology/Cosmo_GAN/LBANN/lbann_cosmogan/3_analysis/')\n",
    "from modules_image_analysis import *"
   ]
  },
  {
   "cell_type": "code",
   "execution_count": null,
   "metadata": {},
   "outputs": [],
   "source": [
    "data_dir='/global/project/projectdirs/dasrepo/vpa/supernova_cnn/data/gathered_data/'"
   ]
  },
  {
   "cell_type": "code",
   "execution_count": null,
   "metadata": {},
   "outputs": [],
   "source": [
    "fname1=data_dir+'summary_label_files.csv'\n",
    "df1=pd.read_csv(fname1,sep=',',comment='#')\n",
    "print(df1.shape)"
   ]
  },
  {
   "cell_type": "code",
   "execution_count": null,
   "metadata": {},
   "outputs": [],
   "source": [
    "num_sig,num_bkgnd=df1[df1.Label==1].shape[0],df1[df1.Label==0].shape[0]\n",
    "print(\"Proportion of Signal-Background: {0}-{1}.\\nProportion of Signal: {2}\".format(num_sig,num_bkgnd,num_sig*1.0/(num_sig+num_bkgnd)))"
   ]
  },
  {
   "cell_type": "markdown",
   "metadata": {},
   "source": [
    "### Extract a slice of data"
   ]
  },
  {
   "cell_type": "code",
   "execution_count": null,
   "metadata": {},
   "outputs": [],
   "source": [
    "### Extracting 30 images of signal and bkgnd\n",
    "size= 3000\n",
    "df_sig=df1[df1.Label==1].head(size)\n",
    "df_bkg=df1[df1.Label==0].head(size)\n",
    "\n",
    "del(df1)"
   ]
  },
  {
   "cell_type": "code",
   "execution_count": null,
   "metadata": {},
   "outputs": [],
   "source": [
    "#df_sig\n",
    "# df_bkg"
   ]
  },
  {
   "cell_type": "markdown",
   "metadata": {},
   "source": [
    "## Extract image arrays"
   ]
  },
  {
   "cell_type": "code",
   "execution_count": null,
   "metadata": {},
   "outputs": [],
   "source": [
    "def f_get_image_arr(df,mode='type',ftype='diff',idx=5):\n",
    "    '''\n",
    "    Module to get image arrays from dataframe with filenames\n",
    "    Input: Dataframe, mode\n",
    "    2 modes: \n",
    "    'type': Gives all the images for the same type of files,\n",
    "    'index': Gives all 3 types for the same index\n",
    "    'ftype': type of files to extract : srch, temp, diff\n",
    "    'idx': index number of ID array from which to extract\n",
    "    '''\n",
    "    \n",
    "    if mode=='type': ### Pick all images of type=ftype\n",
    "        df2=df[df.filename.str.contains(ftype)].reset_index(drop=True)\n",
    "        ### Read .gif files and store them in an array\n",
    "        imgs=[plt.imread(fle) for fle in df2['file path']]\n",
    "        \n",
    "    elif mode=='index': ### Pick srch','temp','diff'\n",
    "        index=np.unique(df_sig.ID.values)[idx]\n",
    "        df2=df[df.ID==index].reset_index(drop=True)\n",
    "        imgs=[plt.imread(fle) for fle in df2['file path']]\n",
    "    \n",
    "    df2.loc[:,'image']=imgs\n",
    "    return df2\n",
    "    \n",
    "# df=f_get_image_arr(df_sig,mode='index',idx=0)\n",
    "# df=f_get_image_arr(df_sig,mode='type',ftype='diff')\n"
   ]
  },
  {
   "cell_type": "code",
   "execution_count": null,
   "metadata": {},
   "outputs": [],
   "source": [
    "df=f_get_image_arr(df_sig,mode='type',ftype='temp')\n",
    "img_arr=np.stack(df.image.values)\n",
    "f_pixel_intensity(img_arr,normalize=False)"
   ]
  },
  {
   "cell_type": "code",
   "execution_count": null,
   "metadata": {},
   "outputs": [],
   "source": [
    "\n",
    "def f_compare_pixel_intensity_images(df_input,title,mode='normal'):\n",
    "    '''\n",
    "    Compare pixel intensity histogram of all 3 files.\n",
    "    2 modes: \n",
    "        normal: takes all values and computes histogram\n",
    "        averaged: takes histograms for each images and computes mean and error\n",
    "    '''\n",
    "    \n",
    "    plt.figure()\n",
    "\n",
    "    for ftype in['srch','temp','diff']:\n",
    "        df=f_get_image_arr(df_input,mode='type',ftype=ftype)\n",
    "        img_arr=np.stack(df.image.values)  ### Extract the image array samples\n",
    "        \n",
    "        norm=True\n",
    "        if mode=='normal':\n",
    "            hist, bin_edges = np.histogram(img_arr.flatten(), bins=25, density=norm)\n",
    "            centers = (bin_edges[:-1] + bin_edges[1:]) / 2\n",
    "            #     print(bin_edges,centers)\n",
    "            plt.errorbar(centers, hist, fmt='o-', label=ftype)\n",
    "\n",
    "        elif mode=='avg':\n",
    "            hist_arr=np.array([np.histogram(arr.flatten(), bins=25, density=norm) for arr in img_arr])\n",
    "            hist=np.stack(hist_arr[:,0])\n",
    "            bins=np.stack(hist_arr[:,1])\n",
    "            ### Compute statistics of histogram of each image\n",
    "            mean,err=np.mean(hist,axis=0),np.std(hist,axis=0)/np.sqrt(hist.shape[0])\n",
    "            bin_edges=bins[0]\n",
    "            centers = (bin_edges[:-1] + bin_edges[1:]) / 2\n",
    "\n",
    "            plt.errorbar(centers,mean,yerr=err,fmt='o-',label=ftype)\n",
    "        \n",
    "        \n",
    "    plt.xlabel('Pixel value')\n",
    "    plt.ylabel('Counts')\n",
    "    plt.title('Pixel Intensity Histogram of '+title)\n",
    "    plt.legend(loc='best')\n",
    "    \n",
    "    \n",
    "f_compare_pixel_intensity_images(df_sig,'signal',mode='avg')"
   ]
  },
  {
   "cell_type": "code",
   "execution_count": null,
   "metadata": {},
   "outputs": [],
   "source": [
    "f_compare_pixel_intensity_images(df_bkg,title='bkgnd',mode='avg')"
   ]
  },
  {
   "cell_type": "markdown",
   "metadata": {},
   "source": [
    "### Plot power spectrum"
   ]
  },
  {
   "cell_type": "code",
   "execution_count": null,
   "metadata": {},
   "outputs": [],
   "source": [
    "# f_compute_spectrum(img_arr)"
   ]
  },
  {
   "cell_type": "code",
   "execution_count": null,
   "metadata": {},
   "outputs": [],
   "source": [
    "# df=f_get_image_arr(df_sig,mode='index',idx=0)\n",
    "# df"
   ]
  },
  {
   "cell_type": "code",
   "execution_count": null,
   "metadata": {},
   "outputs": [],
   "source": [
    "imgs=df.image.values"
   ]
  }
 ],
 "metadata": {
  "kernelspec": {
   "display_name": "v_py3",
   "language": "python",
   "name": "v_jpt_py3"
  },
  "language_info": {
   "codemirror_mode": {
    "name": "ipython",
    "version": 3
   },
   "file_extension": ".py",
   "mimetype": "text/x-python",
   "name": "python",
   "nbconvert_exporter": "python",
   "pygments_lexer": "ipython3",
   "version": "3.6.8"
  }
 },
 "nbformat": 4,
 "nbformat_minor": 4
}
