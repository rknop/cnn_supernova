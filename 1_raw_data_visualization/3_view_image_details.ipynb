{
 "cells": [
  {
   "cell_type": "markdown",
   "metadata": {},
   "source": [
    "# Code to view image details\n",
    "April 23, 2020\n",
    "\n"
   ]
  },
  {
   "cell_type": "code",
   "execution_count": 1,
   "metadata": {},
   "outputs": [],
   "source": [
    "import numpy as np\n",
    "import matplotlib.pyplot as plt\n",
    "import pandas as pd\n",
    "\n",
    "import subprocess as sp\n",
    "import os\n",
    "import sys\n",
    "import time"
   ]
  },
  {
   "cell_type": "code",
   "execution_count": 2,
   "metadata": {},
   "outputs": [],
   "source": [
    "%matplotlib widget"
   ]
  },
  {
   "cell_type": "code",
   "execution_count": 3,
   "metadata": {},
   "outputs": [
    {
     "name": "stdout",
     "output_type": "stream",
     "text": [
      "[NbConvertApp] Converting notebook modules_image_analysis.ipynb to script\n",
      "[NbConvertApp] Writing 13913 bytes to modules_image_analysis.py\n"
     ]
    }
   ],
   "source": [
    "sys.path.append('/global/u1/v/vpa/project/jpt_notebooks/Cosmology/Cosmo_GAN/LBANN/lbann_cosmogan/3_analysis/')\n",
    "from modules_image_analysis import *"
   ]
  },
  {
   "cell_type": "code",
   "execution_count": 4,
   "metadata": {},
   "outputs": [],
   "source": [
    "data_dir='/global/project/projectdirs/dasrepo/vpa/supernova_cnn/data/gathered_data/'"
   ]
  },
  {
   "cell_type": "code",
   "execution_count": 5,
   "metadata": {},
   "outputs": [
    {
     "name": "stdout",
     "output_type": "stream",
     "text": [
      "(2696889, 4)\n"
     ]
    }
   ],
   "source": [
    "fname1=data_dir+'summary_label_files.csv'\n",
    "df1=pd.read_csv(fname1,sep=',',comment='#')\n",
    "print(df1.shape)"
   ]
  },
  {
   "cell_type": "code",
   "execution_count": 6,
   "metadata": {},
   "outputs": [
    {
     "name": "stdout",
     "output_type": "stream",
     "text": [
      "Proportion of Signal-Background: 1334613-1362276.\n",
      "Proportion of Signal: 0.49487131283489977\n"
     ]
    }
   ],
   "source": [
    "num_sig,num_bkgnd=df1[df1.Label==1].shape[0],df1[df1.Label==0].shape[0]\n",
    "print(\"Proportion of Signal-Background: {0}-{1}.\\nProportion of Signal: {2}\".format(num_sig,num_bkgnd,num_sig*1.0/(num_sig+num_bkgnd)))"
   ]
  },
  {
   "cell_type": "markdown",
   "metadata": {},
   "source": [
    "### Extract a slice of data"
   ]
  },
  {
   "cell_type": "code",
   "execution_count": 7,
   "metadata": {},
   "outputs": [],
   "source": [
    "### Extracting 30 images of signal and bkgnd\n",
    "size= 3000\n",
    "df_sig=df1[df1.Label==1].head(size)\n",
    "df_bkg=df1[df1.Label==0].head(size)\n",
    "\n",
    "del(df1)"
   ]
  },
  {
   "cell_type": "code",
   "execution_count": 8,
   "metadata": {},
   "outputs": [],
   "source": [
    "#df_sig\n",
    "# df_bkg"
   ]
  },
  {
   "cell_type": "markdown",
   "metadata": {},
   "source": [
    "## Extract image arrays"
   ]
  },
  {
   "cell_type": "code",
   "execution_count": 9,
   "metadata": {},
   "outputs": [],
   "source": [
    "def f_get_image_arr(df,mode='type',ftype='diff',idx=5):\n",
    "    '''\n",
    "    Module to get image arrays from dataframe with filenames\n",
    "    Input: Dataframe, mode\n",
    "    2 modes: \n",
    "    'type': Gives all the images for the same type of files,\n",
    "    'index': Gives all 3 types for the same index\n",
    "    'ftype': type of files to extract : srch, temp, diff\n",
    "    'idx': index number of ID array from which to extract\n",
    "    '''\n",
    "    \n",
    "    if mode=='type': ### Pick all images of type=ftype\n",
    "        df2=df[df.filename.str.contains(ftype)].reset_index(drop=True)\n",
    "        ### Read .gif files and store them in an array\n",
    "        imgs=[plt.imread(fle) for fle in df2['file path']]\n",
    "        \n",
    "    elif mode=='index': ### Pick srch','temp','diff'\n",
    "        index=np.unique(df_sig.ID.values)[idx]\n",
    "        df2=df[df.ID==index].reset_index(drop=True)\n",
    "        imgs=[plt.imread(fle) for fle in df2['file path']]\n",
    "    \n",
    "    df2.loc[:,'image']=imgs\n",
    "    return df2\n",
    "    \n",
    "# df=f_get_image_arr(df_sig,mode='index',idx=0)\n",
    "# df=f_get_image_arr(df_sig,mode='type',ftype='diff')\n"
   ]
  },
  {
   "cell_type": "code",
   "execution_count": 10,
   "metadata": {},
   "outputs": [
    {
     "data": {
      "application/vnd.jupyter.widget-view+json": {
       "model_id": "646df2db20c441dc9589212c42ed5d8e",
       "version_major": 2,
       "version_minor": 0
      },
      "text/plain": [
       "Canvas(toolbar=Toolbar(toolitems=[('Home', 'Reset original view', 'home', 'home'), ('Back', 'Back to previous …"
      ]
     },
     "metadata": {},
     "output_type": "display_data"
    },
    {
     "name": "stdout",
     "output_type": "stream",
     "text": [
      "(1000, 25)\n"
     ]
    },
    {
     "data": {
      "text/plain": [
       "(array([798.269, 368.98 , 172.588, 113.127,  87.747,  85.881,  75.259,\n",
       "         75.061,  75.039,  75.158,  80.794,  69.594,  64.968,  59.656,\n",
       "         52.888,  49.035,  36.766,  29.692,  23.503,  18.121,  15.131,\n",
       "         10.784,   9.455,   7.583, 145.921]),\n",
       " array([28.92149447, 15.44668131,  8.17300974,  5.64064029,  3.90776343,\n",
       "         3.51852566,  3.00426196,  2.86808216,  2.88649744,  2.98946501,\n",
       "         3.24046934,  2.87520002,  2.77020306,  2.62313013,  2.402059  ,\n",
       "         2.27022285,  1.73953075,  1.43718653,  1.14525455,  0.89853679,\n",
       "         0.76295468,  0.66894345,  1.25331081,  1.14814856,  5.8262958 ]))"
      ]
     },
     "execution_count": 10,
     "metadata": {},
     "output_type": "execute_result"
    }
   ],
   "source": [
    "df=f_get_image_arr(df_sig,mode='type',ftype='temp')\n",
    "img_arr=np.stack(df.image.values)\n",
    "f_pixel_intensity(img_arr,normalize=False)"
   ]
  },
  {
   "cell_type": "code",
   "execution_count": 11,
   "metadata": {},
   "outputs": [
    {
     "data": {
      "application/vnd.jupyter.widget-view+json": {
       "model_id": "6088e61c2332477eaf990c5ce0cc1011",
       "version_major": 2,
       "version_minor": 0
      },
      "text/plain": [
       "Canvas(toolbar=Toolbar(toolitems=[('Home', 'Reset original view', 'home', 'home'), ('Back', 'Back to previous …"
      ]
     },
     "metadata": {},
     "output_type": "display_data"
    }
   ],
   "source": [
    "\n",
    "def f_compare_pixel_intensity_images(df_input,title,mode='normal'):\n",
    "    '''\n",
    "    Compare pixel intensity histogram of all 3 files.\n",
    "    2 modes: \n",
    "        normal: takes all values and computes histogram\n",
    "        averaged: takes histograms for each images and computes mean and error\n",
    "    '''\n",
    "    \n",
    "    plt.figure()\n",
    "\n",
    "    for ftype in['srch','temp','diff']:\n",
    "        df=f_get_image_arr(df_input,mode='type',ftype=ftype)\n",
    "        img_arr=np.stack(df.image.values)  ### Extract the image array samples\n",
    "        \n",
    "        norm=True\n",
    "        if mode=='normal':\n",
    "            hist, bin_edges = np.histogram(img_arr.flatten(), bins=25, density=norm)\n",
    "            centers = (bin_edges[:-1] + bin_edges[1:]) / 2\n",
    "            #     print(bin_edges,centers)\n",
    "            plt.errorbar(centers, hist, fmt='o-', label=ftype)\n",
    "\n",
    "        elif mode=='avg':\n",
    "            hist_arr=np.array([np.histogram(arr.flatten(), bins=25, density=norm) for arr in img_arr])\n",
    "            hist=np.stack(hist_arr[:,0])\n",
    "            bins=np.stack(hist_arr[:,1])\n",
    "            ### Compute statistics of histogram of each image\n",
    "            mean,err=np.mean(hist,axis=0),np.std(hist,axis=0)/np.sqrt(hist.shape[0])\n",
    "            bin_edges=bins[0]\n",
    "            centers = (bin_edges[:-1] + bin_edges[1:]) / 2\n",
    "\n",
    "            plt.errorbar(centers,mean,yerr=err,fmt='o-',label=ftype)\n",
    "        \n",
    "        \n",
    "    plt.xlabel('Pixel value')\n",
    "    plt.ylabel('Counts')\n",
    "    plt.title('Pixel Intensity Histogram of '+title)\n",
    "    plt.legend(loc='best')\n",
    "    \n",
    "    \n",
    "f_compare_pixel_intensity_images(df_sig,'signal',mode='avg')"
   ]
  },
  {
   "cell_type": "code",
   "execution_count": 12,
   "metadata": {},
   "outputs": [
    {
     "data": {
      "application/vnd.jupyter.widget-view+json": {
       "model_id": "de3c5e8f4852473b8ad87f5015def85d",
       "version_major": 2,
       "version_minor": 0
      },
      "text/plain": [
       "Canvas(toolbar=Toolbar(toolitems=[('Home', 'Reset original view', 'home', 'home'), ('Back', 'Back to previous …"
      ]
     },
     "metadata": {},
     "output_type": "display_data"
    }
   ],
   "source": [
    "f_compare_pixel_intensity_images(df_bkg,title='bkgnd',mode='avg')"
   ]
  },
  {
   "cell_type": "markdown",
   "metadata": {},
   "source": [
    "### Plot power spectrum"
   ]
  },
  {
   "cell_type": "code",
   "execution_count": 13,
   "metadata": {},
   "outputs": [],
   "source": [
    "# f_compute_spectrum(img_arr)"
   ]
  },
  {
   "cell_type": "code",
   "execution_count": 14,
   "metadata": {},
   "outputs": [],
   "source": [
    "# df=f_get_image_arr(df_sig,mode='index',idx=0)\n",
    "# df"
   ]
  },
  {
   "cell_type": "code",
   "execution_count": 15,
   "metadata": {},
   "outputs": [],
   "source": [
    "imgs=df.image.values"
   ]
  }
 ],
 "metadata": {
  "kernelspec": {
   "display_name": "v_py3",
   "language": "python",
   "name": "v_jpt_py3"
  },
  "language_info": {
   "codemirror_mode": {
    "name": "ipython",
    "version": 3
   },
   "file_extension": ".py",
   "mimetype": "text/x-python",
   "name": "python",
   "nbconvert_exporter": "python",
   "pygments_lexer": "ipython3",
   "version": "3.6.8"
  }
 },
 "nbformat": 4,
 "nbformat_minor": 4
}
