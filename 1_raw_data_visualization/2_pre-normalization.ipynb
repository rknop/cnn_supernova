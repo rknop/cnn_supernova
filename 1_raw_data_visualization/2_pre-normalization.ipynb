{
 "cells": [
  {
   "cell_type": "markdown",
   "metadata": {},
   "source": [
    "# Code to normalize the images\n",
    "April 7, 2020\n",
    "\n"
   ]
  },
  {
   "cell_type": "code",
   "execution_count": 1,
   "metadata": {},
   "outputs": [],
   "source": [
    "import numpy as np\n",
    "import matplotlib.pyplot as plt\n",
    "import pandas as pd\n",
    "\n",
    "import subprocess as sp\n",
    "import os\n",
    "import sys\n",
    "import time"
   ]
  },
  {
   "cell_type": "code",
   "execution_count": 2,
   "metadata": {},
   "outputs": [],
   "source": [
    "%matplotlib widget"
   ]
  },
  {
   "cell_type": "code",
   "execution_count": 3,
   "metadata": {},
   "outputs": [
    {
     "name": "stdout",
     "output_type": "stream",
     "text": [
      "[NbConvertApp] Converting notebook modules_image_analysis.ipynb to script\n",
      "[NbConvertApp] Writing 10903 bytes to modules_image_analysis.py\n"
     ]
    }
   ],
   "source": [
    "sys.path.append('/global/u1/v/vpa/project/jpt_notebooks/Cosmology/Cosmo_GAN/LBANN/lbann_cosmogan/3_analysis/')\n",
    "from modules_image_analysis import *"
   ]
  },
  {
   "cell_type": "markdown",
   "metadata": {},
   "source": [
    "### Implementing MAD: Median Absolute Deviation\n",
    "https://en.wikipedia.org/wiki/Median_absolute_deviation\n",
    "\n",
    "$ MAD=Median \\left(X-\\tilde{X} \\right) \\ \\ $   where $ \\tilde{X}$ is the median of array\n",
    "\n",
    "$ \\sigma = k . MAD $"
   ]
  },
  {
   "cell_type": "markdown",
   "metadata": {},
   "source": [
    "## Implement normalization with actual data"
   ]
  },
  {
   "cell_type": "markdown",
   "metadata": {},
   "source": [
    "Procedure for normalization : \n",
    "\n",
    "For each sample (3 image types)\n",
    "- Computed sigma using MAD method on diff image\n",
    "- Divide entire sample by that value\n",
    "- Some images give zero sigma, ignore normalization for these\n"
   ]
  },
  {
   "cell_type": "code",
   "execution_count": 6,
   "metadata": {},
   "outputs": [
    {
     "name": "stdout",
     "output_type": "stream",
     "text": [
      "(898963, 51, 51, 3)\n",
      "Small value 1808 0.0\n",
      "Small value 1856 0.0\n",
      "Small value 3176 0.0\n",
      "Small value 5066 0.0\n",
      "1.830139398574829\n",
      "Number of zero median images 4\n",
      "(10000, 51, 51, 3)\n"
     ]
    }
   ],
   "source": [
    "save_location='/global/project/projectdirs/dasrepo/vpa/supernova_cnn/data/gathered_data/input_npy_files/'\n",
    "f1='full_x.npy'\n",
    "f2='renorm_full_x.npy'\n",
    "\n",
    "### Read data from .npy file\n",
    "ip_arr=np.load(save_location+f1)\n",
    "print(ip_arr.shape)\n",
    "\n",
    "def f_rescale_samples(samples):\n",
    "    ''' Rescale individual images with MAD value of diff image\n",
    "    '''\n",
    "    def f_mad(arr):\n",
    "        '''\n",
    "        Compute MAD and std\n",
    "        '''\n",
    "        arr2=arr.flatten()\n",
    "        MD=np.median(arr2)\n",
    "    #     print(MD)\n",
    "        mad=np.median(np.abs(arr2-MD))\n",
    "        k=1.4826 ### For normal distribution\n",
    "        sigma=mad*k\n",
    "\n",
    "        return mad,sigma\n",
    "    \n",
    "    \n",
    "    scaled_samples=np.ones_like(samples)\n",
    "    lst_zeros=[] # List to store indices where the MAD value is zero\n",
    "    for i,row in enumerate(samples):\n",
    "        scale=f_mad(row[:,:,2])[1]\n",
    "        if scale<1e-10: \n",
    "            print(\"Small value\",i,scale)\n",
    "#             print(i,row.shape,f_mad(row[:,:,0]),f_mad(row[:,:,1]),f_mad(row[:,:,2]))\n",
    "            lst_zeros.append(i)\n",
    "            scale=1.0\n",
    "        scaled_samples[i]=row*(1.0/scale)\n",
    "    \n",
    "    ### For every row, compute the MAD value for diff image (idx =2 ) and multiple its inverse to each sample\n",
    "#     scaled_samples=np.array([(1.0/f_mad(i[:,:,2])[1]+1e-6)*i for i in samples])\n",
    "    \n",
    "    return scaled_samples,lst_zeros\n",
    "\n",
    "t1=time.time()\n",
    "rescaled_arr,zero_lst=f_rescale_samples(ip_arr[:10000])\n",
    "t2=time.time()\n",
    "print(t2-t1)\n",
    "print('Number of zero median images',len(zero_lst))\n",
    "print(rescaled_arr.shape)\n",
    "# np.save(save_location+f2,rescaled_arr)"
   ]
  },
  {
   "cell_type": "markdown",
   "metadata": {},
   "source": [
    "### Analyzing the zero NMAD valued points\n",
    "There are a few 761 (0.08%) images for which the diff images have a 0 NMAD value. These reason is because these images have most pixels with the same value."
   ]
  },
  {
   "cell_type": "code",
   "execution_count": 7,
   "metadata": {},
   "outputs": [
    {
     "data": {
      "text/plain": [
       "[1808, 1856, 3176, 5066]"
      ]
     },
     "execution_count": 7,
     "metadata": {},
     "output_type": "execute_result"
    }
   ],
   "source": [
    "zero_lst\n",
    "# zero_imgs=ip_arr[zero_lst][:,:,:,2]\n",
    "# print(zero_imgs.shape)"
   ]
  },
  {
   "cell_type": "code",
   "execution_count": 8,
   "metadata": {},
   "outputs": [
    {
     "data": {
      "application/vnd.jupyter.widget-view+json": {
       "model_id": "85b4a186b302462fb8cdc5b3c17a7e4e",
       "version_major": 2,
       "version_minor": 0
      },
      "text/plain": [
       "Canvas(toolbar=Toolbar(toolitems=[('Home', 'Reset original view', 'home', 'home'), ('Back', 'Back to previous …"
      ]
     },
     "metadata": {},
     "output_type": "display_data"
    }
   ],
   "source": [
    "img_arr=np.array([ip_arr[idx][:,:,2] for idx in [1806,1807,1808,1809]])\n",
    "# img_arr=np.array([ip_arr[idx][:,:,2] for idx in [10168,10167,10169,10170]])\n",
    "# img_arr=np.array([ip_arr[idx][:,:,2] for idx in zero_lst[-13:-1]])\n",
    "\n",
    "f_plot_grid(img_arr,cols=4)"
   ]
  },
  {
   "cell_type": "code",
   "execution_count": 9,
   "metadata": {},
   "outputs": [
    {
     "data": {
      "application/vnd.jupyter.widget-view+json": {
       "model_id": "0f2144c1e2cf4cf8abd614fe377dfea5",
       "version_major": 2,
       "version_minor": 0
      },
      "text/plain": [
       "Canvas(toolbar=Toolbar(toolitems=[('Home', 'Reset original view', 'home', 'home'), ('Back', 'Back to previous …"
      ]
     },
     "metadata": {},
     "output_type": "display_data"
    }
   ],
   "source": [
    "f_plot_intensity_grid(img_arr,cols=2)"
   ]
  }
 ],
 "metadata": {
  "kernelspec": {
   "display_name": "v_py3",
   "language": "python",
   "name": "v_jpt_py3"
  },
  "language_info": {
   "codemirror_mode": {
    "name": "ipython",
    "version": 3
   },
   "file_extension": ".py",
   "mimetype": "text/x-python",
   "name": "python",
   "nbconvert_exporter": "python",
   "pygments_lexer": "ipython3",
   "version": "3.6.8"
  }
 },
 "nbformat": 4,
 "nbformat_minor": 4
}
