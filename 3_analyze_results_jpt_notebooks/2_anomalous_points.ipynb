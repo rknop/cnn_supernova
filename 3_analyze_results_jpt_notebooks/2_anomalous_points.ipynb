{
 "cells": [
  {
   "cell_type": "markdown",
   "metadata": {},
   "source": [
    "# Code to identify mis-classified points and explore their features\n",
    "\n",
    "July 21, 2020\n"
   ]
  },
  {
   "cell_type": "code",
   "execution_count": 1,
   "metadata": {},
   "outputs": [],
   "source": [
    "import numpy as np\n",
    "import matplotlib.pyplot as plt\n",
    "import seaborn as sns\n",
    "\n",
    "import pandas as pd\n",
    "\n",
    "import subprocess as sp\n",
    "import pickle\n",
    "import ipywidgets as widgets\n",
    "import time\n"
   ]
  },
  {
   "cell_type": "code",
   "execution_count": 2,
   "metadata": {},
   "outputs": [],
   "source": [
    "from sklearn.metrics import roc_curve"
   ]
  },
  {
   "cell_type": "code",
   "execution_count": 3,
   "metadata": {},
   "outputs": [],
   "source": [
    "%matplotlib widget"
   ]
  },
  {
   "cell_type": "markdown",
   "metadata": {},
   "source": [
    "## Read test data and IDs"
   ]
  },
  {
   "cell_type": "code",
   "execution_count": 4,
   "metadata": {},
   "outputs": [
    {
     "data": {
      "text/html": [
       "<div>\n",
       "<style scoped>\n",
       "    .dataframe tbody tr th:only-of-type {\n",
       "        vertical-align: middle;\n",
       "    }\n",
       "\n",
       "    .dataframe tbody tr th {\n",
       "        vertical-align: top;\n",
       "    }\n",
       "\n",
       "    .dataframe thead th {\n",
       "        text-align: right;\n",
       "    }\n",
       "</style>\n",
       "<table border=\"1\" class=\"dataframe\">\n",
       "  <thead>\n",
       "    <tr style=\"text-align: right;\">\n",
       "      <th></th>\n",
       "      <th>test</th>\n",
       "      <th>ID</th>\n",
       "    </tr>\n",
       "  </thead>\n",
       "  <tbody>\n",
       "    <tr>\n",
       "      <th>0</th>\n",
       "      <td>1</td>\n",
       "      <td>11192965</td>\n",
       "    </tr>\n",
       "    <tr>\n",
       "      <th>1</th>\n",
       "      <td>1</td>\n",
       "      <td>11776878</td>\n",
       "    </tr>\n",
       "    <tr>\n",
       "      <th>2</th>\n",
       "      <td>1</td>\n",
       "      <td>10829754</td>\n",
       "    </tr>\n",
       "    <tr>\n",
       "      <th>3</th>\n",
       "      <td>1</td>\n",
       "      <td>10887873</td>\n",
       "    </tr>\n",
       "    <tr>\n",
       "      <th>4</th>\n",
       "      <td>0</td>\n",
       "      <td>9554136</td>\n",
       "    </tr>\n",
       "  </tbody>\n",
       "</table>\n",
       "</div>"
      ],
      "text/plain": [
       "   test        ID\n",
       "0     1  11192965\n",
       "1     1  11776878\n",
       "2     1  10829754\n",
       "3     1  10887873\n",
       "4     0   9554136"
      ]
     },
     "execution_count": 4,
     "metadata": {},
     "output_type": "execute_result"
    }
   ],
   "source": [
    "df_preds=pd.DataFrame()\n",
    "# Pick any test data, all are same\n",
    "test_fname='/global/project/projectdirs/dasrepo/vpa/supernova_cnn/data/results_data/results/ytest_3.test'\n",
    "ID_fname='/global/cfs/cdirs/dasrepo/vpa/supernova_cnn/data/results_data/results/id_test_3.test'\n",
    "\n",
    "df_preds['test']=np.loadtxt(test_fname,dtype=np.int16)\n",
    "df_preds['ID']=np.loadtxt(ID_fname,dtype=np.int32)\n",
    "\n",
    "df_preds.head()"
   ]
  },
  {
   "cell_type": "markdown",
   "metadata": {},
   "source": [
    "### Explore misclassified points"
   ]
  },
  {
   "cell_type": "code",
   "execution_count": 5,
   "metadata": {},
   "outputs": [],
   "source": [
    "## Key index  classification_index \n",
    "classification_key={1:'sig_bkg_strong',2:'sig_bkg_weak', 3:'sig_sig',4:'bkg_bkg',5:'bkg_sig_weak',6:'bkg_sig_strong'}\n",
    "\n",
    "def f_classify_pred(series,col):\n",
    "\n",
    "    if   ((series.test==1.0) & (series[col]<=0.1)) : val=1\n",
    "    elif ((series.test==1.0) & ((series[col]>0.1) & (series[col]<0.5))): val=2\n",
    "    elif ((series.test==1.0) & (series[col]>=0.5)): val=3\n",
    "    elif ((series.test==0.0) & (series[col]<=0.5)): val=4\n",
    "    elif ((series.test==0.0) & ((series[col]<0.9) & (series[col]>0.5))): val=5\n",
    "    elif ((series.test==0.0) & (series[col]>=0.9)) : val=6\n",
    "\n",
    "    else: raise SystemError\n",
    "    \n",
    "    return val\n"
   ]
  },
  {
   "cell_type": "code",
   "execution_count": 6,
   "metadata": {},
   "outputs": [],
   "source": [
    "for model_num in ([3,8,9,16]):\n",
    "    col='m_'+str(model_num)\n",
    "    fname='/global/project/projectdirs/dasrepo/vpa/supernova_cnn/data/results_data/results/ypred_{0}.test'.format(model_num)\n",
    "    df_preds[col]=np.loadtxt(fname)\n",
    "\n",
    "    pred_class=df_preds.apply(lambda row: f_classify_pred(row,col),axis=1).values\n",
    "    new_col='pred_'+col\n",
    "    df_preds[new_col]=pred_class\n"
   ]
  },
  {
   "cell_type": "code",
   "execution_count": 7,
   "metadata": {},
   "outputs": [],
   "source": [
    "# df_preds.hist(column='pred_m_8',bins=20)"
   ]
  },
  {
   "cell_type": "code",
   "execution_count": 8,
   "metadata": {},
   "outputs": [
    {
     "data": {
      "text/html": [
       "<div>\n",
       "<style scoped>\n",
       "    .dataframe tbody tr th:only-of-type {\n",
       "        vertical-align: middle;\n",
       "    }\n",
       "\n",
       "    .dataframe tbody tr th {\n",
       "        vertical-align: top;\n",
       "    }\n",
       "\n",
       "    .dataframe thead th {\n",
       "        text-align: right;\n",
       "    }\n",
       "</style>\n",
       "<table border=\"1\" class=\"dataframe\">\n",
       "  <thead>\n",
       "    <tr style=\"text-align: right;\">\n",
       "      <th></th>\n",
       "      <th>test</th>\n",
       "      <th>ID</th>\n",
       "      <th>m_3</th>\n",
       "      <th>pred_m_3</th>\n",
       "      <th>m_8</th>\n",
       "      <th>pred_m_8</th>\n",
       "      <th>m_9</th>\n",
       "      <th>pred_m_9</th>\n",
       "      <th>m_16</th>\n",
       "      <th>pred_m_16</th>\n",
       "    </tr>\n",
       "  </thead>\n",
       "  <tbody>\n",
       "    <tr>\n",
       "      <th>0</th>\n",
       "      <td>1</td>\n",
       "      <td>11192965</td>\n",
       "      <td>0.999642</td>\n",
       "      <td>3</td>\n",
       "      <td>0.999418</td>\n",
       "      <td>3</td>\n",
       "      <td>0.999994</td>\n",
       "      <td>3</td>\n",
       "      <td>0.998871</td>\n",
       "      <td>3</td>\n",
       "    </tr>\n",
       "    <tr>\n",
       "      <th>1</th>\n",
       "      <td>1</td>\n",
       "      <td>11776878</td>\n",
       "      <td>0.997763</td>\n",
       "      <td>3</td>\n",
       "      <td>0.999965</td>\n",
       "      <td>3</td>\n",
       "      <td>0.999748</td>\n",
       "      <td>3</td>\n",
       "      <td>0.999251</td>\n",
       "      <td>3</td>\n",
       "    </tr>\n",
       "    <tr>\n",
       "      <th>2</th>\n",
       "      <td>1</td>\n",
       "      <td>10829754</td>\n",
       "      <td>0.983380</td>\n",
       "      <td>3</td>\n",
       "      <td>0.993709</td>\n",
       "      <td>3</td>\n",
       "      <td>0.997372</td>\n",
       "      <td>3</td>\n",
       "      <td>0.972569</td>\n",
       "      <td>3</td>\n",
       "    </tr>\n",
       "    <tr>\n",
       "      <th>3</th>\n",
       "      <td>1</td>\n",
       "      <td>10887873</td>\n",
       "      <td>0.999104</td>\n",
       "      <td>3</td>\n",
       "      <td>0.999811</td>\n",
       "      <td>3</td>\n",
       "      <td>0.999910</td>\n",
       "      <td>3</td>\n",
       "      <td>0.994881</td>\n",
       "      <td>3</td>\n",
       "    </tr>\n",
       "    <tr>\n",
       "      <th>4</th>\n",
       "      <td>0</td>\n",
       "      <td>9554136</td>\n",
       "      <td>0.011799</td>\n",
       "      <td>4</td>\n",
       "      <td>0.000692</td>\n",
       "      <td>4</td>\n",
       "      <td>0.000773</td>\n",
       "      <td>4</td>\n",
       "      <td>0.001254</td>\n",
       "      <td>4</td>\n",
       "    </tr>\n",
       "    <tr>\n",
       "      <th>5</th>\n",
       "      <td>1</td>\n",
       "      <td>10710441</td>\n",
       "      <td>0.999612</td>\n",
       "      <td>3</td>\n",
       "      <td>0.999733</td>\n",
       "      <td>3</td>\n",
       "      <td>0.999978</td>\n",
       "      <td>3</td>\n",
       "      <td>0.999652</td>\n",
       "      <td>3</td>\n",
       "    </tr>\n",
       "    <tr>\n",
       "      <th>6</th>\n",
       "      <td>1</td>\n",
       "      <td>7728956</td>\n",
       "      <td>0.241116</td>\n",
       "      <td>2</td>\n",
       "      <td>0.014566</td>\n",
       "      <td>1</td>\n",
       "      <td>0.011610</td>\n",
       "      <td>1</td>\n",
       "      <td>0.142679</td>\n",
       "      <td>2</td>\n",
       "    </tr>\n",
       "    <tr>\n",
       "      <th>7</th>\n",
       "      <td>1</td>\n",
       "      <td>10876213</td>\n",
       "      <td>0.996556</td>\n",
       "      <td>3</td>\n",
       "      <td>0.993969</td>\n",
       "      <td>3</td>\n",
       "      <td>0.997200</td>\n",
       "      <td>3</td>\n",
       "      <td>0.981536</td>\n",
       "      <td>3</td>\n",
       "    </tr>\n",
       "    <tr>\n",
       "      <th>8</th>\n",
       "      <td>0</td>\n",
       "      <td>9175547</td>\n",
       "      <td>0.041130</td>\n",
       "      <td>4</td>\n",
       "      <td>0.000071</td>\n",
       "      <td>4</td>\n",
       "      <td>0.042915</td>\n",
       "      <td>4</td>\n",
       "      <td>0.001054</td>\n",
       "      <td>4</td>\n",
       "    </tr>\n",
       "    <tr>\n",
       "      <th>9</th>\n",
       "      <td>1</td>\n",
       "      <td>8189645</td>\n",
       "      <td>0.999638</td>\n",
       "      <td>3</td>\n",
       "      <td>0.999919</td>\n",
       "      <td>3</td>\n",
       "      <td>0.999930</td>\n",
       "      <td>3</td>\n",
       "      <td>0.999063</td>\n",
       "      <td>3</td>\n",
       "    </tr>\n",
       "    <tr>\n",
       "      <th>10</th>\n",
       "      <td>0</td>\n",
       "      <td>10957468</td>\n",
       "      <td>0.001687</td>\n",
       "      <td>4</td>\n",
       "      <td>0.000122</td>\n",
       "      <td>4</td>\n",
       "      <td>0.000013</td>\n",
       "      <td>4</td>\n",
       "      <td>0.000729</td>\n",
       "      <td>4</td>\n",
       "    </tr>\n",
       "    <tr>\n",
       "      <th>11</th>\n",
       "      <td>0</td>\n",
       "      <td>11854756</td>\n",
       "      <td>0.012353</td>\n",
       "      <td>4</td>\n",
       "      <td>0.000228</td>\n",
       "      <td>4</td>\n",
       "      <td>0.000024</td>\n",
       "      <td>4</td>\n",
       "      <td>0.000317</td>\n",
       "      <td>4</td>\n",
       "    </tr>\n",
       "    <tr>\n",
       "      <th>12</th>\n",
       "      <td>1</td>\n",
       "      <td>10500825</td>\n",
       "      <td>0.999011</td>\n",
       "      <td>3</td>\n",
       "      <td>0.997949</td>\n",
       "      <td>3</td>\n",
       "      <td>0.999959</td>\n",
       "      <td>3</td>\n",
       "      <td>0.999969</td>\n",
       "      <td>3</td>\n",
       "    </tr>\n",
       "    <tr>\n",
       "      <th>13</th>\n",
       "      <td>1</td>\n",
       "      <td>8030079</td>\n",
       "      <td>0.999267</td>\n",
       "      <td>3</td>\n",
       "      <td>0.999705</td>\n",
       "      <td>3</td>\n",
       "      <td>0.999986</td>\n",
       "      <td>3</td>\n",
       "      <td>0.995265</td>\n",
       "      <td>3</td>\n",
       "    </tr>\n",
       "    <tr>\n",
       "      <th>14</th>\n",
       "      <td>1</td>\n",
       "      <td>9152066</td>\n",
       "      <td>0.023282</td>\n",
       "      <td>1</td>\n",
       "      <td>0.019976</td>\n",
       "      <td>1</td>\n",
       "      <td>0.000784</td>\n",
       "      <td>1</td>\n",
       "      <td>0.001928</td>\n",
       "      <td>1</td>\n",
       "    </tr>\n",
       "    <tr>\n",
       "      <th>15</th>\n",
       "      <td>1</td>\n",
       "      <td>8647318</td>\n",
       "      <td>0.967741</td>\n",
       "      <td>3</td>\n",
       "      <td>0.998895</td>\n",
       "      <td>3</td>\n",
       "      <td>0.999948</td>\n",
       "      <td>3</td>\n",
       "      <td>0.994092</td>\n",
       "      <td>3</td>\n",
       "    </tr>\n",
       "    <tr>\n",
       "      <th>16</th>\n",
       "      <td>1</td>\n",
       "      <td>8029604</td>\n",
       "      <td>0.995401</td>\n",
       "      <td>3</td>\n",
       "      <td>0.998622</td>\n",
       "      <td>3</td>\n",
       "      <td>0.999959</td>\n",
       "      <td>3</td>\n",
       "      <td>0.997079</td>\n",
       "      <td>3</td>\n",
       "    </tr>\n",
       "    <tr>\n",
       "      <th>17</th>\n",
       "      <td>1</td>\n",
       "      <td>8983350</td>\n",
       "      <td>0.988448</td>\n",
       "      <td>3</td>\n",
       "      <td>0.997498</td>\n",
       "      <td>3</td>\n",
       "      <td>0.999512</td>\n",
       "      <td>3</td>\n",
       "      <td>0.989800</td>\n",
       "      <td>3</td>\n",
       "    </tr>\n",
       "    <tr>\n",
       "      <th>18</th>\n",
       "      <td>1</td>\n",
       "      <td>7049040</td>\n",
       "      <td>0.995545</td>\n",
       "      <td>3</td>\n",
       "      <td>0.998559</td>\n",
       "      <td>3</td>\n",
       "      <td>0.999993</td>\n",
       "      <td>3</td>\n",
       "      <td>0.999643</td>\n",
       "      <td>3</td>\n",
       "    </tr>\n",
       "    <tr>\n",
       "      <th>19</th>\n",
       "      <td>1</td>\n",
       "      <td>7794064</td>\n",
       "      <td>0.999099</td>\n",
       "      <td>3</td>\n",
       "      <td>0.999792</td>\n",
       "      <td>3</td>\n",
       "      <td>0.999962</td>\n",
       "      <td>3</td>\n",
       "      <td>0.999182</td>\n",
       "      <td>3</td>\n",
       "    </tr>\n",
       "  </tbody>\n",
       "</table>\n",
       "</div>"
      ],
      "text/plain": [
       "    test        ID       m_3  pred_m_3       m_8  pred_m_8       m_9  \\\n",
       "0      1  11192965  0.999642         3  0.999418         3  0.999994   \n",
       "1      1  11776878  0.997763         3  0.999965         3  0.999748   \n",
       "2      1  10829754  0.983380         3  0.993709         3  0.997372   \n",
       "3      1  10887873  0.999104         3  0.999811         3  0.999910   \n",
       "4      0   9554136  0.011799         4  0.000692         4  0.000773   \n",
       "5      1  10710441  0.999612         3  0.999733         3  0.999978   \n",
       "6      1   7728956  0.241116         2  0.014566         1  0.011610   \n",
       "7      1  10876213  0.996556         3  0.993969         3  0.997200   \n",
       "8      0   9175547  0.041130         4  0.000071         4  0.042915   \n",
       "9      1   8189645  0.999638         3  0.999919         3  0.999930   \n",
       "10     0  10957468  0.001687         4  0.000122         4  0.000013   \n",
       "11     0  11854756  0.012353         4  0.000228         4  0.000024   \n",
       "12     1  10500825  0.999011         3  0.997949         3  0.999959   \n",
       "13     1   8030079  0.999267         3  0.999705         3  0.999986   \n",
       "14     1   9152066  0.023282         1  0.019976         1  0.000784   \n",
       "15     1   8647318  0.967741         3  0.998895         3  0.999948   \n",
       "16     1   8029604  0.995401         3  0.998622         3  0.999959   \n",
       "17     1   8983350  0.988448         3  0.997498         3  0.999512   \n",
       "18     1   7049040  0.995545         3  0.998559         3  0.999993   \n",
       "19     1   7794064  0.999099         3  0.999792         3  0.999962   \n",
       "\n",
       "    pred_m_9      m_16  pred_m_16  \n",
       "0          3  0.998871          3  \n",
       "1          3  0.999251          3  \n",
       "2          3  0.972569          3  \n",
       "3          3  0.994881          3  \n",
       "4          4  0.001254          4  \n",
       "5          3  0.999652          3  \n",
       "6          1  0.142679          2  \n",
       "7          3  0.981536          3  \n",
       "8          4  0.001054          4  \n",
       "9          3  0.999063          3  \n",
       "10         4  0.000729          4  \n",
       "11         4  0.000317          4  \n",
       "12         3  0.999969          3  \n",
       "13         3  0.995265          3  \n",
       "14         1  0.001928          1  \n",
       "15         3  0.994092          3  \n",
       "16         3  0.997079          3  \n",
       "17         3  0.989800          3  \n",
       "18         3  0.999643          3  \n",
       "19         3  0.999182          3  "
      ]
     },
     "execution_count": 8,
     "metadata": {},
     "output_type": "execute_result"
    }
   ],
   "source": [
    "df_preds.head(20)"
   ]
  },
  {
   "cell_type": "markdown",
   "metadata": {},
   "source": [
    "### Compare models"
   ]
  },
  {
   "cell_type": "code",
   "execution_count": null,
   "metadata": {},
   "outputs": [],
   "source": [
    "df=df_preds.copy()"
   ]
  },
  {
   "cell_type": "code",
   "execution_count": null,
   "metadata": {},
   "outputs": [],
   "source": [
    "# df"
   ]
  },
  {
   "cell_type": "code",
   "execution_count": null,
   "metadata": {},
   "outputs": [],
   "source": [
    "### Proportion of models in each category\n",
    "for i in np.unique(df.pred_m_3.values):\n",
    "    print(i,df[df.pred_m_3==i].shape[0]/df.shape[0])"
   ]
  },
  {
   "cell_type": "code",
   "execution_count": null,
   "metadata": {},
   "outputs": [],
   "source": [
    "## Histogram of signal points strongly mis-classified as background\n",
    "def f_hist_compare(df,col1,value):\n",
    "    \n",
    "    col_list=[ i for i in df.columns.values if i[:4]=='pred']\n",
    "    cols=[col for col in col_list if col != col1] # Pick columns except the one used to splice df\n",
    "    \n",
    "    df[df[col1]==value].plot(kind='hist',y=cols,subplots=True,grid=True,bins=12)\n",
    "    print('Total points in category',df[df[col1]==value].shape[0])\n",
    "\n",
    "f_hist_compare(df,'pred_m_3',1)\n"
   ]
  },
  {
   "cell_type": "code",
   "execution_count": null,
   "metadata": {},
   "outputs": [],
   "source": [
    "## misclassified points for all models\n",
    "df[(df.pred_m_3==1)&(df.pred_m_8==1)&(df.pred_m_16==1)&(df.pred_m_9==1)].shape"
   ]
  },
  {
   "cell_type": "code",
   "execution_count": null,
   "metadata": {},
   "outputs": [],
   "source": []
  },
  {
   "cell_type": "markdown",
   "metadata": {},
   "source": [
    "### View features of misclassified points"
   ]
  },
  {
   "cell_type": "code",
   "execution_count": null,
   "metadata": {},
   "outputs": [],
   "source": [
    "### Get features of IDs of test dataset\n",
    "f2='/global/project/projectdirs/dasrepo/vpa/supernova_cnn/data/gathered_data/autoscan_features.3.csv'\n",
    "df_features=pd.read_csv(f2,sep=',',comment='#')\n",
    "df_features=df_features[df_features.ID.isin(df.ID.values)]"
   ]
  },
  {
   "cell_type": "code",
   "execution_count": null,
   "metadata": {},
   "outputs": [],
   "source": [
    "df.head(5)"
   ]
  },
  {
   "cell_type": "code",
   "execution_count": null,
   "metadata": {},
   "outputs": [],
   "source": [
    "# pd.concat([df.set_index('ID'),df_features.set_index('ID')],join='outer').reset_index()\n",
    "df_merged=pd.merge(df,df_features,on='ID')"
   ]
  },
  {
   "cell_type": "code",
   "execution_count": null,
   "metadata": {},
   "outputs": [],
   "source": [
    "df=df_merged[df_merged.pred_m_3==1]"
   ]
  },
  {
   "cell_type": "code",
   "execution_count": null,
   "metadata": {},
   "outputs": [],
   "source": [
    "df.head()"
   ]
  },
  {
   "cell_type": "code",
   "execution_count": null,
   "metadata": {},
   "outputs": [],
   "source": [
    "# df_merged.columns\n",
    "# df_merged.describe()"
   ]
  },
  {
   "cell_type": "code",
   "execution_count": null,
   "metadata": {},
   "outputs": [],
   "source": [
    "def f_plot_col(df,xcol,ycol='pred_m_3'):\n",
    "    df.plot(x=xcol,y=ycol,kind='line',linestyle='',marker='*',color='r')\n"
   ]
  },
  {
   "cell_type": "code",
   "execution_count": null,
   "metadata": {},
   "outputs": [],
   "source": [
    "cols=['OBJECT_TYPE','AMP', 'A_IMAGE',\n",
    "       'A_REF', 'BAND', 'B_IMAGE', 'B_REF', 'CCDID', 'COLMEDS', 'DIFFSUMRN',\n",
    "       'ELLIPTICITY', 'FLAGS', 'FLUX_RATIO', 'GAUSS', 'GFLUX', 'L1',\n",
    "       'LACOSMIC', 'MAG', 'MAGDIFF', 'MAGLIM', 'MAG_FROM_LIMIT', 'MAG_REF',\n",
    "       'MAG_REF_ERR', 'MASKFRAC', 'MIN_DISTANCE_TO_EDGE_IN_NEW', 'N2SIG3',\n",
    "       'N2SIG3SHIFT', 'N2SIG5', 'N2SIG5SHIFT', 'N3SIG3', 'N3SIG3SHIFT',\n",
    "       'N3SIG5', 'N3SIG5SHIFT', 'NN_DIST_RENORM', 'NUMNEGRN', 'SCALE', 'SNR',\n",
    "       'SPREADERR_MODEL', 'SPREAD_MODEL']\n",
    "\n",
    "### Selected columns \n",
    "cols=['AMP','A_REF','B_IMAGE', 'B_REF', 'COLMEDS', 'DIFFSUMRN','ELLIPTICITY', \n",
    "          'L1', 'SCALE', 'SPREADERR_MODEL', 'SPREAD_MODEL']\n",
    "widgets.interact(f_plot_col,df=widgets.fixed(df_merged),xcol=widgets.ToggleButtons(options=cols,disabled=False))"
   ]
  },
  {
   "cell_type": "code",
   "execution_count": null,
   "metadata": {},
   "outputs": [],
   "source": [
    "# widgets.interact(f_plot_col,df=widgets.fixed(df_merged),xcol=widgets.SelectionSlider(options=cols,disabled=False))"
   ]
  },
  {
   "cell_type": "code",
   "execution_count": null,
   "metadata": {},
   "outputs": [],
   "source": [
    "### Comparing 2 runs\n",
    "# df_merged[(df_merged.pred_m_3!=df_merged.pred_m_8)]\n"
   ]
  },
  {
   "cell_type": "code",
   "execution_count": null,
   "metadata": {},
   "outputs": [],
   "source": [
    "# plt.figure()\n",
    "# plt.plot(df_merged.pred_m_3,df_merged.pred_m_8,linestyle='',marker='o')"
   ]
  },
  {
   "cell_type": "code",
   "execution_count": null,
   "metadata": {},
   "outputs": [],
   "source": [
    "# H,x_edges,y_edges=np.histogram2d(df_merged.pred_m_3,df_merged.pred_m_8)\n",
    "# plt.figure()\n",
    "# plt.imshow(H,origin=(0,0))"
   ]
  },
  {
   "cell_type": "markdown",
   "metadata": {},
   "source": [
    "### Plot roc curve"
   ]
  },
  {
   "cell_type": "code",
   "execution_count": 9,
   "metadata": {},
   "outputs": [],
   "source": [
    "df=df_preds.copy()"
   ]
  },
  {
   "cell_type": "code",
   "execution_count": 10,
   "metadata": {},
   "outputs": [],
   "source": [
    "def f_roc(df,label):\n",
    "#     fpr,tpr,threshold=roc_curve(y_test,y_pred)\n",
    "    fpr,tpr,threshold=roc_curve(df.test,df.m_3,pos_label=0)\n",
    "\n",
    "    x,y=1-tpr,fpr\n",
    "#     plt.figure()\n",
    "    plt.plot(x, y,linestyle='',label=label,markersize=2,marker='*')\n",
    "\n",
    "    # ### Reference points in mdr plot in paper\n",
    "#     plt.plot(0.03,0.038,marker='s',markersize=8,color='k')\n",
    "#     plt.plot(0.04,0.024,marker='s',markersize=8,color='k')\n",
    "#     plt.plot(0.05,0.016,marker='s',markersize=8,color='k')\n",
    "\n",
    "    plt.xlabel('MDR')\n",
    "    plt.ylabel('FPR')\n",
    "    \n",
    "    #     plt.xlim(0,0.1)\n",
    "#     plt.ylim(0,0.05)\n",
    "    "
   ]
  },
  {
   "cell_type": "code",
   "execution_count": 11,
   "metadata": {},
   "outputs": [
    {
     "data": {
      "text/html": [
       "<div>\n",
       "<style scoped>\n",
       "    .dataframe tbody tr th:only-of-type {\n",
       "        vertical-align: middle;\n",
       "    }\n",
       "\n",
       "    .dataframe tbody tr th {\n",
       "        vertical-align: top;\n",
       "    }\n",
       "\n",
       "    .dataframe thead th {\n",
       "        text-align: right;\n",
       "    }\n",
       "</style>\n",
       "<table border=\"1\" class=\"dataframe\">\n",
       "  <thead>\n",
       "    <tr style=\"text-align: right;\">\n",
       "      <th></th>\n",
       "      <th>test</th>\n",
       "      <th>ID</th>\n",
       "      <th>m_3</th>\n",
       "      <th>pred_m_3</th>\n",
       "      <th>m_8</th>\n",
       "      <th>pred_m_8</th>\n",
       "      <th>m_9</th>\n",
       "      <th>pred_m_9</th>\n",
       "      <th>m_16</th>\n",
       "      <th>pred_m_16</th>\n",
       "    </tr>\n",
       "  </thead>\n",
       "  <tbody>\n",
       "    <tr>\n",
       "      <th>0</th>\n",
       "      <td>1</td>\n",
       "      <td>11192965</td>\n",
       "      <td>0.999642</td>\n",
       "      <td>3</td>\n",
       "      <td>0.999418</td>\n",
       "      <td>3</td>\n",
       "      <td>0.999994</td>\n",
       "      <td>3</td>\n",
       "      <td>0.998871</td>\n",
       "      <td>3</td>\n",
       "    </tr>\n",
       "    <tr>\n",
       "      <th>1</th>\n",
       "      <td>1</td>\n",
       "      <td>11776878</td>\n",
       "      <td>0.997763</td>\n",
       "      <td>3</td>\n",
       "      <td>0.999965</td>\n",
       "      <td>3</td>\n",
       "      <td>0.999748</td>\n",
       "      <td>3</td>\n",
       "      <td>0.999251</td>\n",
       "      <td>3</td>\n",
       "    </tr>\n",
       "    <tr>\n",
       "      <th>2</th>\n",
       "      <td>1</td>\n",
       "      <td>10829754</td>\n",
       "      <td>0.983380</td>\n",
       "      <td>3</td>\n",
       "      <td>0.993709</td>\n",
       "      <td>3</td>\n",
       "      <td>0.997372</td>\n",
       "      <td>3</td>\n",
       "      <td>0.972569</td>\n",
       "      <td>3</td>\n",
       "    </tr>\n",
       "    <tr>\n",
       "      <th>3</th>\n",
       "      <td>1</td>\n",
       "      <td>10887873</td>\n",
       "      <td>0.999104</td>\n",
       "      <td>3</td>\n",
       "      <td>0.999811</td>\n",
       "      <td>3</td>\n",
       "      <td>0.999910</td>\n",
       "      <td>3</td>\n",
       "      <td>0.994881</td>\n",
       "      <td>3</td>\n",
       "    </tr>\n",
       "    <tr>\n",
       "      <th>4</th>\n",
       "      <td>0</td>\n",
       "      <td>9554136</td>\n",
       "      <td>0.011799</td>\n",
       "      <td>4</td>\n",
       "      <td>0.000692</td>\n",
       "      <td>4</td>\n",
       "      <td>0.000773</td>\n",
       "      <td>4</td>\n",
       "      <td>0.001254</td>\n",
       "      <td>4</td>\n",
       "    </tr>\n",
       "  </tbody>\n",
       "</table>\n",
       "</div>"
      ],
      "text/plain": [
       "   test        ID       m_3  pred_m_3       m_8  pred_m_8       m_9  pred_m_9  \\\n",
       "0     1  11192965  0.999642         3  0.999418         3  0.999994         3   \n",
       "1     1  11776878  0.997763         3  0.999965         3  0.999748         3   \n",
       "2     1  10829754  0.983380         3  0.993709         3  0.997372         3   \n",
       "3     1  10887873  0.999104         3  0.999811         3  0.999910         3   \n",
       "4     0   9554136  0.011799         4  0.000692         4  0.000773         4   \n",
       "\n",
       "       m_16  pred_m_16  \n",
       "0  0.998871          3  \n",
       "1  0.999251          3  \n",
       "2  0.972569          3  \n",
       "3  0.994881          3  \n",
       "4  0.001254          4  "
      ]
     },
     "execution_count": 11,
     "metadata": {},
     "output_type": "execute_result"
    }
   ],
   "source": [
    "df.head(5)"
   ]
  },
  {
   "cell_type": "code",
   "execution_count": 22,
   "metadata": {},
   "outputs": [
    {
     "data": {
      "application/vnd.jupyter.widget-view+json": {
       "model_id": "03a06ee64fdd4004972e9d9989b61e19",
       "version_major": 2,
       "version_minor": 0
      },
      "text/plain": [
       "Canvas(toolbar=Toolbar(toolitems=[('Home', 'Reset original view', 'home', 'home'), ('Back', 'Back to previous …"
      ]
     },
     "metadata": {},
     "output_type": "display_data"
    },
    {
     "name": "stdout",
     "output_type": "stream",
     "text": [
      "[1.99999994e+00 9.99999940e-01 9.99999881e-01 ... 1.69873238e-06\n",
      " 1.54972076e-06 3.27825546e-07]\n",
      "[1.99999994e+00 9.99999940e-01 9.99999881e-01 ... 1.69873238e-06\n",
      " 1.54972076e-06 3.27825546e-07]\n",
      "[1.99999994e+00 9.99999940e-01 9.99999881e-01 ... 1.69873238e-06\n",
      " 1.54972076e-06 3.27825546e-07]\n",
      "[1.99999994e+00 9.99999940e-01 9.99999881e-01 ... 1.69873238e-06\n",
      " 1.54972076e-06 3.27825546e-07]\n"
     ]
    },
    {
     "data": {
      "text/plain": [
       "<matplotlib.legend.Legend at 0x2aaadfab5198>"
      ]
     },
     "execution_count": 22,
     "metadata": {},
     "output_type": "execute_result"
    }
   ],
   "source": [
    "def f_roc(df,label):\n",
    "#     fpr,tpr,threshold=roc_curve(y_test,y_pred)\n",
    "    fpr,tpr,threshold=roc_curve(df.test,df.m_3,pos_label=None)\n",
    "\n",
    "    x,y=1-tpr,fpr    \n",
    "    x,y=fpr,(1-tpr)\n",
    "#     plt.figure()\n",
    "    plt.plot(x, y,linestyle='',label=label,markersize=2,marker='*')\n",
    "    \n",
    "#     plt.plot(fpr,color='r',label='fpr')\n",
    "#     plt.plot(tpr,color='b',label='tpr')\n",
    "# #     plt.plot((1-tpr),color='y',label='mdr')  ### mdr=1-tpr\n",
    "#     plt.plot(threshold[1:],label='threshold')\n",
    "    # ### Reference points in mdr plot in paper\n",
    "    plt.plot(0.03,0.038,marker='s',markersize=8,color='k')\n",
    "    plt.plot(0.04,0.024,marker='s',markersize=8,color='k')\n",
    "    plt.plot(0.05,0.016,marker='s',markersize=8,color='k')\n",
    "\n",
    "    plt.xlabel('MDR')\n",
    "    plt.ylabel('FPR')\n",
    "    plt.xlim(0,0.1)\n",
    "    plt.ylim(0,0.05)\n",
    "    print(threshold)\n",
    "\n",
    "\n",
    "\n",
    "### roc ruve with all points dropped \n",
    "\n",
    "plt.figure()\n",
    "f_roc(df,'raw')\n",
    "f_roc(df[(df.pred_m_3!=6)],'drop bkg-sig')\n",
    "f_roc(df[(df.pred_m_3!=1)],'drop sig-bkgnd')\n",
    "f_roc(df[(df.pred_m_3!=1)&(df.pred_m_3!=6)],'drop-both')\n",
    "# f_roc(df[(df.pred_m_3!=5)],'drop-weak-bkg-sig')\n",
    "# f_roc(df[(df.pred_m_3!=2)],'drop-weak-sig-bkg')\n",
    "\n",
    "plt.legend()"
   ]
  },
  {
   "cell_type": "code",
   "execution_count": 20,
   "metadata": {},
   "outputs": [
    {
     "data": {
      "application/vnd.jupyter.widget-view+json": {
       "model_id": "fc04a503d9454e4f9c1459390c91fa1d",
       "version_major": 2,
       "version_minor": 0
      },
      "text/plain": [
       "Canvas(toolbar=Toolbar(toolitems=[('Home', 'Reset original view', 'home', 'home'), ('Back', 'Back to previous …"
      ]
     },
     "metadata": {},
     "output_type": "display_data"
    },
    {
     "data": {
      "text/plain": [
       "<matplotlib.legend.Legend at 0x2aaadf6100f0>"
      ]
     },
     "execution_count": 20,
     "metadata": {},
     "output_type": "execute_result"
    }
   ],
   "source": [
    "plt.figure()\n",
    "\n",
    "fpr,tpr,threshold=roc_curve(df.test,df.m_3,pos_label=0)\n",
    "x,y=1-tpr,fpr\n",
    "x,y=tpr,fpr\n",
    "x,y=fpr,(1-tpr)\n",
    "label='a'\n",
    "plt.plot(x, y,linestyle='',label=label,markersize=2,marker='*')\n",
    "\n",
    "# plt.plot(fpr,color='r',label='fpr')\n",
    "# plt.plot(tpr,color='b',label='tpr')\n",
    "# plt.plot(threshold[1:],label='threshold')\n",
    "\n",
    "plt.ylabel('FPR')\n",
    "plt.legend()\n"
   ]
  },
  {
   "cell_type": "code",
   "execution_count": null,
   "metadata": {},
   "outputs": [],
   "source": [
    "tpr"
   ]
  },
  {
   "cell_type": "code",
   "execution_count": null,
   "metadata": {},
   "outputs": [],
   "source": [
    "fpr"
   ]
  },
  {
   "cell_type": "code",
   "execution_count": 21,
   "metadata": {},
   "outputs": [
    {
     "name": "stdout",
     "output_type": "stream",
     "text": [
      "(44948, 10) (44769, 10) (44853, 10) (44674, 10)\n"
     ]
    },
    {
     "data": {
      "application/vnd.jupyter.widget-view+json": {
       "model_id": "7986a97e045049c68bf8313d46eeaa2b",
       "version_major": 2,
       "version_minor": 0
      },
      "text/plain": [
       "Canvas(toolbar=Toolbar(toolitems=[('Home', 'Reset original view', 'home', 'home'), ('Back', 'Back to previous …"
      ]
     },
     "metadata": {},
     "output_type": "display_data"
    },
    {
     "name": "stdout",
     "output_type": "stream",
     "text": [
      "[2.00000000e+00 1.00000000e+00 9.99999940e-01 ... 5.96046448e-08\n",
      " 2.98023224e-08 0.00000000e+00]\n",
      "[2.00000000e+00 1.00000000e+00 9.99999940e-01 ... 5.96046448e-08\n",
      " 2.98023224e-08 0.00000000e+00]\n",
      "[2.00000000e+00 1.00000000e+00 9.99999940e-01 ... 5.96046448e-08\n",
      " 2.98023224e-08 0.00000000e+00]\n",
      "[2.00000000e+00 1.00000000e+00 9.99999940e-01 ... 5.96046448e-08\n",
      " 2.98023224e-08 0.00000000e+00]\n"
     ]
    },
    {
     "data": {
      "text/plain": [
       "<matplotlib.legend.Legend at 0x2aaadfa64208>"
      ]
     },
     "execution_count": 21,
     "metadata": {},
     "output_type": "execute_result"
    }
   ],
   "source": [
    "### roc ruve with 50% points dropped \n",
    "def f_get_frac_points(df,col,val,frac=0.50):\n",
    "    # Get fraction of points belonging to category val from df, for column col\n",
    "\n",
    "    a=df[df[col]!=val]\n",
    "    b=df[df[col]==val].sample(frac=frac)\n",
    "    df1=a.append(b)\n",
    "\n",
    "    return df1\n",
    "\n",
    "dfa=f_get_frac_points(df,'pred_m_3',6,0.5)\n",
    "dfb=f_get_frac_points(df,'pred_m_3',1,0.5)\n",
    "## Both \n",
    "dfc=pd.concat([dfa[dfa['pred_m_3']!=1],dfb[dfb['pred_m_3']!=6]]).drop_duplicates().reset_index(drop=True)\n",
    "print(df.shape,dfa.shape,dfb.shape,dfc.shape)\n",
    "plt.figure()\n",
    "f_roc(df,'raw')\n",
    "f_roc(dfa,'drop 6: bkg-sig-50pct')\n",
    "f_roc(dfb,'drop 1: sig-bkg-50pct')\n",
    "f_roc(dfc,'drop both')\n",
    "plt.legend()\n"
   ]
  },
  {
   "cell_type": "markdown",
   "metadata": {},
   "source": [
    "### View strongly misclassified images"
   ]
  },
  {
   "cell_type": "code",
   "execution_count": null,
   "metadata": {},
   "outputs": [],
   "source": [
    "def f_plot_grid(arr,cols=16,fig_size=(15,5)):\n",
    "    ''' Plot a grid of images\n",
    "    '''\n",
    "    size=arr.shape[0]    \n",
    "    rows=int(np.ceil(size/cols))\n",
    "    print(rows,cols)\n",
    "\n",
    "    fig,axarr=plt.subplots(rows,cols,figsize=fig_size, gridspec_kw = {'wspace':0, 'hspace':0})\n",
    "    if rows==1: axarr=np.reshape(axarr,(rows,cols))\n",
    "    if cols==1: axarr=np.reshape(axarr,(rows,cols))\n",
    "    \n",
    "    for i in range(min(rows*cols,size)):\n",
    "        row,col=int(i/cols),i%cols\n",
    "        try: \n",
    "            axarr[row,col].imshow(arr[i],origin='lower',  extent = [0, 128, 0, 128])\n",
    "        # Drop axis label\n",
    "        except Exception as e:\n",
    "            print('Exception:',e)\n",
    "            pass\n",
    "        temp=plt.setp([a.get_xticklabels() for a in axarr[:-1,:].flatten()], visible=False)\n",
    "        temp=plt.setp([a.get_yticklabels() for a in axarr[:,1:].flatten()], visible=False)\n",
    "        \n",
    "        "
   ]
  },
  {
   "cell_type": "code",
   "execution_count": null,
   "metadata": {},
   "outputs": [],
   "source": [
    "### Extract file name\n",
    "f2='/global/project/projectdirs/dasrepo/vpa/supernova_cnn/data/gathered_data/summary_label_files.csv'\n",
    "df2=pd.read_csv(f2,sep=',',comment='#')\n",
    "# df2.head(20)"
   ]
  },
  {
   "cell_type": "code",
   "execution_count": null,
   "metadata": {},
   "outputs": [],
   "source": [
    "# fig=plt.figure()\n",
    "#     # Plot training & validation accuracy values\n",
    "\n",
    "# for count1,iD in enumerate(IDs[:1]):\n",
    "#     for count2,key in enumerate(keys):\n",
    "#         print(iD,key)\n",
    "#         df_temp=df3[(df3.ID==iD)&(df3.filename.str.startswith(key))]\n",
    "#         fle=df_temp['file path'].values[0]\n",
    "#         img=plt.imread(fle)\n",
    "# #         display(df_temp)\n",
    "#         idx1,idx2=count1+1,count2+1\n",
    "#         print(idx1,idx2)\n",
    "#         fig.add_subplot(idx1*idx2,idx1,idx2)\n",
    "#         plt.imshow(img)\n"
   ]
  },
  {
   "cell_type": "code",
   "execution_count": null,
   "metadata": {},
   "outputs": [],
   "source": [
    "df_preds.shape"
   ]
  },
  {
   "cell_type": "code",
   "execution_count": null,
   "metadata": {},
   "outputs": [],
   "source": [
    "category=6\n",
    "num_images=100\n",
    "\n",
    "IDs=df_preds[df_preds.pred_m_3==category].ID.values\n",
    "print(IDs.shape)\n",
    "np.random.shuffle(IDs)\n",
    "IDs=IDs[:num_images]\n",
    "\n",
    "df3=df2[df2.ID.isin(IDs)]\n",
    "df3.shape\n",
    "# del(df2)\n",
    "\n",
    "\n",
    "keys=['temp','srch','diff']\n",
    "img=np.array([plt.imread(df3[(df3.ID==iD)&(df3.filename.str.startswith(key))]['file path'].values[0]) for iD in IDs for key in keys ])\n",
    "print(img.shape)\n",
    "df3.head()"
   ]
  },
  {
   "cell_type": "code",
   "execution_count": null,
   "metadata": {},
   "outputs": [],
   "source": [
    "# [(iD,key) for iD in IDs[:10] for key in keys ]"
   ]
  },
  {
   "cell_type": "code",
   "execution_count": null,
   "metadata": {},
   "outputs": [],
   "source": [
    "# f_plot_grid(img,cols=9,fig_size=(9,5))\n",
    "t1=time.time()\n",
    "f_plot_grid(img,cols=3,fig_size=(3,100))\n",
    "fname='category{0}.pdf'.format(str(category))\n",
    "plt.savefig(fname)\n",
    "plt.close()\n",
    "t2=time.time()\n",
    "print(t2-t1)\n"
   ]
  },
  {
   "cell_type": "code",
   "execution_count": null,
   "metadata": {},
   "outputs": [],
   "source": [
    "df_merged.columns"
   ]
  },
  {
   "cell_type": "code",
   "execution_count": null,
   "metadata": {},
   "outputs": [],
   "source": [
    "df_merged[df_merged.ID.isin(IDs)][['OBJECT_TYPE','m_3','pred_m_3']]"
   ]
  },
  {
   "cell_type": "code",
   "execution_count": null,
   "metadata": {},
   "outputs": [],
   "source": []
  }
 ],
 "metadata": {
  "kernelspec": {
   "display_name": "v_py3",
   "language": "python",
   "name": "v_jpt_py3"
  },
  "language_info": {
   "codemirror_mode": {
    "name": "ipython",
    "version": 3
   },
   "file_extension": ".py",
   "mimetype": "text/x-python",
   "name": "python",
   "nbconvert_exporter": "python",
   "pygments_lexer": "ipython3",
   "version": "3.6.8"
  },
  "toc": {
   "base_numbering": 1,
   "nav_menu": {},
   "number_sections": true,
   "sideBar": true,
   "skip_h1_title": false,
   "title_cell": "Table of Contents",
   "title_sidebar": "Contents",
   "toc_cell": false,
   "toc_position": {},
   "toc_section_display": true,
   "toc_window_display": false
  }
 },
 "nbformat": 4,
 "nbformat_minor": 4
}
