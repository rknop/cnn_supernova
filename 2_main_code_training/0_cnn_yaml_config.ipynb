{
 "cells": [
  {
   "cell_type": "markdown",
   "metadata": {},
   "source": [
    "# Code to runn CNNs on supernova data\n",
    "Feb 14, 2020\n"
   ]
  },
  {
   "cell_type": "code",
   "execution_count": 6,
   "metadata": {},
   "outputs": [],
   "source": [
    "import numpy as np\n",
    "import matplotlib.pyplot as plt\n",
    "import pandas as pd\n",
    "import h5py\n",
    "\n",
    "import subprocess as sp\n",
    "import pickle\n",
    "import yaml\n",
    "import pandas as pd"
   ]
  },
  {
   "cell_type": "code",
   "execution_count": 3,
   "metadata": {},
   "outputs": [],
   "source": [
    "## M-L modules\n",
    "import tensorflow.keras\n",
    "from tensorflow.keras import layers, models, optimizers, callbacks  # or tensorflow.keras as keras\n",
    "import tensorflow as tf\n",
    "from sklearn.utils import shuffle\n",
    "from sklearn.metrics import roc_curve, auc, roc_auc_score\n",
    "from tensorflow.keras.models import load_model\n",
    "\n"
   ]
  },
  {
   "cell_type": "code",
   "execution_count": 3,
   "metadata": {},
   "outputs": [],
   "source": [
    "%matplotlib widget"
   ]
  },
  {
   "cell_type": "markdown",
   "metadata": {},
   "source": [
    "## Modules"
   ]
  },
  {
   "cell_type": "code",
   "execution_count": 5,
   "metadata": {},
   "outputs": [],
   "source": [
    "\n",
    "def load_config(config_file):\n",
    "    with open(config_file) as f:\n",
    "        config = yaml.load(f, Loader=yaml.SafeLoader)\n",
    "    return config\n",
    "\n"
   ]
  },
  {
   "cell_type": "code",
   "execution_count": 64,
   "metadata": {},
   "outputs": [],
   "source": [
    "\n",
    "def f_define_model(config_dict,name='1'):\n",
    "    '''\n",
    "    Function that defines the model and compiles it.\n",
    "    '''\n",
    "    ### Extract info from the config_dict\n",
    "    shape=config_dict['model']['input_shape']\n",
    "    learn_rate=config_dict['optimizer']['lr']\n",
    "    loss_fn=config_dict['training']['loss']\n",
    "    metrics=config_dict['training']['metrics']\n",
    "    dropout=config_dict['model']['dropout']\n",
    "    \n",
    "    inputs = layers.Input(shape=shape)\n",
    "    h = inputs\n",
    "    \n",
    "    # Choose model\n",
    "    \n",
    "    if name=='1':\n",
    "        # Convolutional layers\n",
    "        conv_sizes=[10,10,10]\n",
    "        conv_args = dict(kernel_size=(3, 3), activation='relu', padding='same')\n",
    "        for conv_size in conv_sizes:\n",
    "            h = layers.Conv2D(conv_size, **conv_args)(h)\n",
    "            h = layers.MaxPooling2D(pool_size=(2, 2))(h)\n",
    "            h = layers.Dropout(dropout)(h)\n",
    "        h = layers.Flatten()(h)\n",
    "\n",
    "        # Fully connected  layers\n",
    "        h = layers.Dense(64, activation='relu')(h)\n",
    "        h = layers.Dropout(dropout)(h)\n",
    "\n",
    "        # Ouptut layer\n",
    "        outputs = layers.Dense(1, activation='sigmoid')(h)\n",
    "        \n",
    "        model = models.Model(inputs, outputs)\n",
    "        #### change loss function for non-resnet models since 'sparse_categorical_crossentropy' throws up an error.\n",
    "        opt=optimizers.Adam(lr=learn_rate)\n",
    "    \n",
    "    model.compile(optimizer=opt, loss=loss_fn, metrics=metrics)\n",
    "    #print(\"model %s\"%name)\n",
    "    #model.summary()\n",
    "\n",
    "    return model\n",
    "\n",
    "\n",
    "def f_train_model(model,inpx,inpy,model_weights,num_epochs=5,batch_size=64):\n",
    "    '''\n",
    "    Train model. Returns just history.history\n",
    "    '''\n",
    "    cv_fraction=0.33 # Fraction of data for cross validation\n",
    "    \n",
    "    history=model.fit(x=inpx, y=inpy,\n",
    "                    batch_size=batch_size,\n",
    "                    epochs=num_epochs,\n",
    "                    verbose=1,\n",
    "                    callbacks = [callbacks.EarlyStopping(monitor='val_loss', min_delta=0,patience=20, verbose=1),\n",
    "                                 callbacks.ModelCheckpoint(model_weights, save_best_only=True, monitor='val_loss', mode='min') ],\n",
    "                    validation_split=cv_fraction,\n",
    "                    shuffle=True\n",
    "                )\n",
    "    \n",
    "    print(\"Number of parameters\",model.count_params())\n",
    "    \n",
    "    return history.history\n",
    "\n",
    "\n",
    "def f_plot_learning(history):\n",
    "    '''Plot learning curves : Accuracy and Validation'''\n",
    "    fig=plt.figure()\n",
    "    # Plot training & validation accuracy values\n",
    "    fig.add_subplot(2,1,1)\n",
    "    xlim=len(history['acc'])\n",
    "    \n",
    "    plt.plot(history['acc'],label='Train',marker='o')\n",
    "    plt.plot(history['val_acc'],label='Validation',marker='*')\n",
    "#     plt.title('Model accuracy')\n",
    "    plt.ylabel('Accuracy')\n",
    "    plt.xticks(np.arange(0,xlim,2))\n",
    "    \n",
    "    # Plot loss values\n",
    "    fig.add_subplot(2,1,2)\n",
    "    plt.plot(history['loss'],label='Train',marker='o')\n",
    "    plt.plot(history['val_loss'],label='Validation',marker='*')\n",
    "#     plt.title('Model loss')\n",
    "    plt.ylabel('Loss')\n",
    "    plt.xlabel('Epoch')\n",
    "    plt.xticks(np.arange(0,xlim,2))\n",
    "\n",
    "    plt.legend(loc='best')\n",
    "\n",
    "\n",
    "\n",
    "def f_plot_roc_curve(fpr,tpr):\n",
    "    '''\n",
    "    Module for roc plot and printing AUC\n",
    "    '''\n",
    "    plt.figure()\n",
    "    # plt.plot(fpr,tpr)\n",
    "    plt.scatter(fpr,tpr)\n",
    "    plt.semilogx(fpr, tpr)\n",
    "  # Zooms\n",
    "    plt.xlim([10**-7,1.0])\n",
    "    plt.ylim([0,1.0])\n",
    "    # y=x line for comparison\n",
    "    x=np.linspace(0,1,num=500)\n",
    "    plt.plot(x,x)\n",
    "#     plt.xscale('log')\n",
    "#     plt.xlim(1e-10,1e-5)\n",
    "    plt.show()\n",
    "\n",
    "    # AUC \n",
    "    auc_val = auc(fpr, tpr)\n",
    "    print(\"AUC: \",auc_val)\n",
    "    \n"
   ]
  },
  {
   "cell_type": "code",
   "execution_count": 72,
   "metadata": {},
   "outputs": [],
   "source": [
    "def f_get_data(data_dir):\n",
    "    '''\n",
    "    Function to get data from .npy files into images and labels.\n",
    "    '''\n",
    "    try:\n",
    "        \n",
    "        #images=np.load(data_dir+prefix+'_x.npy')\n",
    "        images=np.load(data_dir+'full_x.npy')\n",
    "        labels=np.load(data_dir+'full_y.npy')\n",
    "    except Exception as e:\n",
    "        print(e)\n",
    "        raise SystemExit\n",
    "\n",
    "    \n",
    "    keys=['images','labels']\n",
    "    values_dict=dict(zip(keys,[images,labels]))\n",
    "    \n",
    "    return values_dict"
   ]
  },
  {
   "cell_type": "markdown",
   "metadata": {},
   "source": [
    "## Read data"
   ]
  },
  {
   "cell_type": "code",
   "execution_count": 73,
   "metadata": {},
   "outputs": [
    {
     "name": "stdout",
     "output_type": "stream",
     "text": [
      "Proportion of Signal-Background: 49291-50709.\n",
      "Proportion of Signal: 0.49291\n",
      "(100000, 51, 51, 1) (100000,)\n"
     ]
    }
   ],
   "source": [
    "config_file='config_cori.yaml'\n",
    "config_dict=load_config(config_file)\n",
    "\n",
    "train_data_dict=f_get_data()\n",
    "train_x,train_y=train_data_dict['images'],train_data_dict['labels']\n",
    "print(train_x.shape,train_y.shape)\n",
    "\n",
    "# config_dict['model']['input_shape']=[51,51,1]"
   ]
  },
  {
   "cell_type": "markdown",
   "metadata": {},
   "source": [
    "### Define and train model"
   ]
  },
  {
   "cell_type": "code",
   "execution_count": 80,
   "metadata": {},
   "outputs": [
    {
     "name": "stdout",
     "output_type": "stream",
     "text": [
      "Train on 67000 samples, validate on 33000 samples\n",
      "Epoch 1/50\n",
      "67000/67000 [==============================] - 18s 261us/sample - loss: 1.1906 - accuracy: 0.6109 - val_loss: 0.6416 - val_accuracy: 0.6891\n",
      "Epoch 2/50\n",
      "67000/67000 [==============================] - 16s 245us/sample - loss: 0.6201 - accuracy: 0.6720 - val_loss: 0.6447 - val_accuracy: 0.6577\n",
      "Epoch 3/50\n",
      "67000/67000 [==============================] - 16s 238us/sample - loss: 0.6090 - accuracy: 0.6788 - val_loss: 0.6315 - val_accuracy: 0.6748\n",
      "Epoch 4/50\n",
      "67000/67000 [==============================] - 16s 237us/sample - loss: 0.5503 - accuracy: 0.7382 - val_loss: 0.5211 - val_accuracy: 0.7678\n",
      "Epoch 5/50\n",
      "67000/67000 [==============================] - 16s 241us/sample - loss: 0.5030 - accuracy: 0.7776 - val_loss: 0.4887 - val_accuracy: 0.7901\n",
      "Epoch 6/50\n",
      "67000/67000 [==============================] - 16s 244us/sample - loss: 0.4913 - accuracy: 0.7826 - val_loss: 0.5064 - val_accuracy: 0.7717\n",
      "Epoch 7/50\n",
      "67000/67000 [==============================] - 16s 240us/sample - loss: 0.4811 - accuracy: 0.7872 - val_loss: 0.4897 - val_accuracy: 0.7827\n",
      "Epoch 8/50\n",
      "67000/67000 [==============================] - 16s 237us/sample - loss: 0.4751 - accuracy: 0.7893 - val_loss: 0.4867 - val_accuracy: 0.7908\n",
      "Epoch 9/50\n",
      "67000/67000 [==============================] - 16s 240us/sample - loss: 0.4698 - accuracy: 0.7929 - val_loss: 0.4982 - val_accuracy: 0.7694\n",
      "Epoch 10/50\n",
      "67000/67000 [==============================] - 16s 235us/sample - loss: 0.4660 - accuracy: 0.7949 - val_loss: 0.4952 - val_accuracy: 0.7732\n",
      "Epoch 11/50\n",
      "67000/67000 [==============================] - 16s 237us/sample - loss: 0.4657 - accuracy: 0.7962 - val_loss: 0.5120 - val_accuracy: 0.7598\n",
      "Epoch 12/50\n",
      "67000/67000 [==============================] - 16s 235us/sample - loss: 0.4646 - accuracy: 0.7936 - val_loss: 0.4808 - val_accuracy: 0.7879\n",
      "Epoch 13/50\n",
      "67000/67000 [==============================] - 16s 238us/sample - loss: 0.4639 - accuracy: 0.7957 - val_loss: 0.4851 - val_accuracy: 0.7736\n",
      "Epoch 14/50\n",
      "67000/67000 [==============================] - 16s 237us/sample - loss: 0.4616 - accuracy: 0.7987 - val_loss: 0.4939 - val_accuracy: 0.7697\n",
      "Epoch 15/50\n",
      "67000/67000 [==============================] - 16s 242us/sample - loss: 0.4593 - accuracy: 0.7961 - val_loss: 0.4821 - val_accuracy: 0.7782\n",
      "Epoch 16/50\n",
      "67000/67000 [==============================] - 16s 242us/sample - loss: 0.4584 - accuracy: 0.7999 - val_loss: 0.5017 - val_accuracy: 0.7582\n",
      "Epoch 17/50\n",
      "67000/67000 [==============================] - 16s 235us/sample - loss: 0.4569 - accuracy: 0.7995 - val_loss: 0.4948 - val_accuracy: 0.7585\n",
      "Epoch 18/50\n",
      "67000/67000 [==============================] - 16s 235us/sample - loss: 0.4563 - accuracy: 0.8004 - val_loss: 0.4768 - val_accuracy: 0.7850\n",
      "Epoch 19/50\n",
      "67000/67000 [==============================] - 16s 235us/sample - loss: 0.4553 - accuracy: 0.7993 - val_loss: 0.4875 - val_accuracy: 0.7712\n",
      "Epoch 20/50\n",
      "67000/67000 [==============================] - 16s 239us/sample - loss: 0.4570 - accuracy: 0.7986 - val_loss: 0.4590 - val_accuracy: 0.7875\n",
      "Epoch 21/50\n",
      "67000/67000 [==============================] - 16s 235us/sample - loss: 0.4545 - accuracy: 0.7993 - val_loss: 0.4563 - val_accuracy: 0.7963\n",
      "Epoch 22/50\n",
      "67000/67000 [==============================] - 16s 242us/sample - loss: 0.4546 - accuracy: 0.8001 - val_loss: 0.4732 - val_accuracy: 0.7812\n",
      "Epoch 23/50\n",
      "67000/67000 [==============================] - 16s 237us/sample - loss: 0.4514 - accuracy: 0.8012 - val_loss: 0.4585 - val_accuracy: 0.7927\n",
      "Epoch 24/50\n",
      "67000/67000 [==============================] - 16s 239us/sample - loss: 0.4491 - accuracy: 0.8000 - val_loss: 0.4579 - val_accuracy: 0.8062\n",
      "Epoch 25/50\n",
      "67000/67000 [==============================] - 16s 233us/sample - loss: 0.4498 - accuracy: 0.8015 - val_loss: 0.4618 - val_accuracy: 0.7943\n",
      "Epoch 26/50\n",
      "67000/67000 [==============================] - 16s 236us/sample - loss: 0.4511 - accuracy: 0.8018 - val_loss: 0.4549 - val_accuracy: 0.8074\n",
      "Epoch 27/50\n",
      "67000/67000 [==============================] - 16s 236us/sample - loss: 0.4486 - accuracy: 0.8026 - val_loss: 0.4662 - val_accuracy: 0.7921\n",
      "Epoch 28/50\n",
      "67000/67000 [==============================] - 16s 237us/sample - loss: 0.4470 - accuracy: 0.8027 - val_loss: 0.4281 - val_accuracy: 0.8144\n",
      "Epoch 29/50\n",
      "67000/67000 [==============================] - 16s 236us/sample - loss: 0.4467 - accuracy: 0.8037 - val_loss: 0.4512 - val_accuracy: 0.8058\n",
      "Epoch 30/50\n",
      "67000/67000 [==============================] - 16s 238us/sample - loss: 0.4461 - accuracy: 0.8021 - val_loss: 0.4614 - val_accuracy: 0.7965\n",
      "Epoch 31/50\n",
      "67000/67000 [==============================] - 16s 241us/sample - loss: 0.4474 - accuracy: 0.8023 - val_loss: 0.4564 - val_accuracy: 0.7983\n",
      "Epoch 32/50\n",
      "67000/67000 [==============================] - 16s 242us/sample - loss: 0.4470 - accuracy: 0.8042 - val_loss: 0.4478 - val_accuracy: 0.8052\n",
      "Epoch 33/50\n",
      "67000/67000 [==============================] - 16s 240us/sample - loss: 0.4451 - accuracy: 0.8048 - val_loss: 0.4417 - val_accuracy: 0.8095\n",
      "Epoch 34/50\n",
      "67000/67000 [==============================] - 16s 243us/sample - loss: 0.4449 - accuracy: 0.8050 - val_loss: 0.4569 - val_accuracy: 0.8063\n",
      "Epoch 35/50\n",
      "67000/67000 [==============================] - 16s 242us/sample - loss: 0.4453 - accuracy: 0.8040 - val_loss: 0.4550 - val_accuracy: 0.8026\n",
      "Epoch 36/50\n",
      "67000/67000 [==============================] - 16s 232us/sample - loss: 0.4436 - accuracy: 0.8048 - val_loss: 0.4540 - val_accuracy: 0.8072\n",
      "Epoch 37/50\n",
      "67000/67000 [==============================] - 16s 237us/sample - loss: 0.4444 - accuracy: 0.8057 - val_loss: 0.4696 - val_accuracy: 0.8093\n",
      "Epoch 38/50\n",
      "67000/67000 [==============================] - 16s 240us/sample - loss: 0.4436 - accuracy: 0.8056 - val_loss: 0.4416 - val_accuracy: 0.8165\n",
      "Epoch 39/50\n",
      "67000/67000 [==============================] - 16s 233us/sample - loss: 0.4427 - accuracy: 0.8056 - val_loss: 0.4444 - val_accuracy: 0.8150\n",
      "Epoch 40/50\n",
      "67000/67000 [==============================] - 16s 238us/sample - loss: 0.4417 - accuracy: 0.8068 - val_loss: 0.4391 - val_accuracy: 0.8105\n",
      "Epoch 41/50\n",
      "67000/67000 [==============================] - 16s 235us/sample - loss: 0.4412 - accuracy: 0.8075 - val_loss: 0.4385 - val_accuracy: 0.8099\n",
      "Epoch 42/50\n",
      "67000/67000 [==============================] - 15s 228us/sample - loss: 0.4423 - accuracy: 0.8067 - val_loss: 0.4499 - val_accuracy: 0.8096\n",
      "Epoch 43/50\n",
      "67000/67000 [==============================] - 15s 231us/sample - loss: 0.4419 - accuracy: 0.8068 - val_loss: 0.4386 - val_accuracy: 0.8128\n",
      "Epoch 44/50\n",
      "67000/67000 [==============================] - 15s 229us/sample - loss: 0.4406 - accuracy: 0.8071 - val_loss: 0.4411 - val_accuracy: 0.8114\n",
      "Epoch 45/50\n",
      "67000/67000 [==============================] - 16s 237us/sample - loss: 0.4402 - accuracy: 0.8081 - val_loss: 0.4397 - val_accuracy: 0.8107\n",
      "Epoch 46/50\n",
      "67000/67000 [==============================] - 16s 240us/sample - loss: 0.4400 - accuracy: 0.8081 - val_loss: 0.4238 - val_accuracy: 0.8148\n",
      "Epoch 47/50\n",
      "67000/67000 [==============================] - 16s 242us/sample - loss: 0.4393 - accuracy: 0.8068 - val_loss: 0.4223 - val_accuracy: 0.8134\n",
      "Epoch 48/50\n",
      "67000/67000 [==============================] - 16s 237us/sample - loss: 0.4403 - accuracy: 0.8057 - val_loss: 0.4264 - val_accuracy: 0.8139\n",
      "Epoch 49/50\n",
      "67000/67000 [==============================] - 16s 242us/sample - loss: 0.4388 - accuracy: 0.8077 - val_loss: 0.4329 - val_accuracy: 0.8121\n",
      "Epoch 50/50\n",
      "67000/67000 [==============================] - 16s 240us/sample - loss: 0.4381 - accuracy: 0.8071 - val_loss: 0.4379 - val_accuracy: 0.8122\n",
      "Number of parameters 25089\n"
     ]
    }
   ],
   "source": [
    "# print(train_data_dict)\n",
    "# Compile model\n",
    "model_name='1'\n",
    "model_save_dir='saved_data/'\n",
    "fname_model,fname_history='mdl_{0}_weights.h5'.format(model_name),'history_{0}.pickle'.format(model_name)\n",
    "\n",
    "model=f_define_model(config_dict,name=model_name)\n",
    "# print(model)\n",
    "# Train model\n",
    "history=f_train_model(model,train_x,train_y,model_weights=fname_model,num_epochs=50)\n"
   ]
  },
  {
   "cell_type": "markdown",
   "metadata": {},
   "source": [
    "### Save model and history"
   ]
  },
  {
   "cell_type": "code",
   "execution_count": null,
   "metadata": {},
   "outputs": [],
   "source": [
    "# Save model and history\n",
    "# model.save(model_save_dir+fname_model) ### Model is saved automatically inside the fit function\n",
    "with open(model_save_dir+fname_history, 'wb') as f:\n",
    "        pickle.dump(history, f)\n"
   ]
  },
  {
   "cell_type": "markdown",
   "metadata": {},
   "source": [
    "## Read stored model"
   ]
  },
  {
   "cell_type": "code",
   "execution_count": null,
   "metadata": {},
   "outputs": [],
   "source": [
    "# Load model and history\n",
    "model=load_model(model_save_dir+fname_model)\n",
    "with open(model_save_dir+fname_history,'rb') as f:\n",
    "    history= pickle.load(f)"
   ]
  },
  {
   "cell_type": "code",
   "execution_count": null,
   "metadata": {},
   "outputs": [],
   "source": [
    "model.summary()\n",
    "# Plot tested model\n",
    "f_plot_learning(history)"
   ]
  },
  {
   "cell_type": "markdown",
   "metadata": {},
   "source": [
    "### Test data"
   ]
  },
  {
   "cell_type": "code",
   "execution_count": null,
   "metadata": {},
   "outputs": [],
   "source": [
    "test_x,test_y,test_wts=test_data_dict['images'],test_data_dict['labels'],test_data_dict['weights']\n",
    "print(test_x.shape,test_y.shape,test_wts.shape)"
   ]
  },
  {
   "cell_type": "markdown",
   "metadata": {},
   "source": [
    "### Predictions and roc curve"
   ]
  },
  {
   "cell_type": "code",
   "execution_count": null,
   "metadata": {},
   "outputs": [],
   "source": [
    "# Make predictions\n",
    "y_pred=model.predict(test_x,verbose=1)\n",
    "\n",
    "fpr,tpr,threshold=roc_curve(test_y,y_pred,sample_weight=test_wts)\n",
    "print(fpr.shape,tpr.shape,threshold.shape)\n",
    "# Plot roc curve\n",
    "f_plot_roc_curve(fpr,tpr)"
   ]
  }
 ],
 "metadata": {
  "kernelspec": {
   "display_name": "v_py3",
   "language": "python",
   "name": "v_jpt_py3"
  },
  "language_info": {
   "codemirror_mode": {
    "name": "ipython",
    "version": 3
   },
   "file_extension": ".py",
   "mimetype": "text/x-python",
   "name": "python",
   "nbconvert_exporter": "python",
   "pygments_lexer": "ipython3",
   "version": "3.6.8"
  }
 },
 "nbformat": 4,
 "nbformat_minor": 4
}
